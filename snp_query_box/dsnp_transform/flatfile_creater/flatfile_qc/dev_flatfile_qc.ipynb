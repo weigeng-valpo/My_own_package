{
 "cells": [
  {
   "cell_type": "code",
   "execution_count": null,
   "metadata": {},
   "outputs": [],
   "source": [
    "from dsnp_qc_box import QcFunction \n",
    "import pandas as pd\n",
    "import numpy as np\n",
    "import datetime as dt\n",
    "import os\n",
    "from snp_query_box import DsnpHelperFunction\n",
    "from dateutil.relativedelta import relativedelta"
   ]
  },
  {
   "cell_type": "code",
   "execution_count": null,
   "metadata": {},
   "outputs": [],
   "source": [
    "today = dt.datetime.today()\n",
    "today_str = today.strftime('%Y-%m-%d')\n",
    "last_date_of_last_month_str = DsnpHelperFunction.last_date_of_last_month(today_str, output_type=\"string\")\n",
    "last_date_of_last_month = DsnpHelperFunction.last_date_of_last_month(today_str)\n",
    "\n",
    "last_month = last_date_of_last_month_str[:7]\n",
    "one_year_rolling_back_date = pd.Timestamp(last_date_of_last_month + dt.timedelta(days=1) - relativedelta(years = 1))\n",
    "print(\"one_year_rolling_back_date\")\n",
    "print(one_year_rolling_back_date)\n",
    "\n",
    "first_date_of_year = DsnpHelperFunction.first_date_of_year(today_str, output_type=\"string\")\n",
    "print(\"first_date_of_year\")\n",
    "print(first_date_of_year)\n",
    "first_date_of_last_month_str = DsnpHelperFunction.first_date_of_last_month(today_str, output_type=\"string\")\n",
    "print(\"first_date_of_last_month\")\n",
    "print(first_date_of_last_month_str)\n",
    "\n",
    "reporting_end_date = last_date_of_last_month_str\n",
    "print(\"reporting_end_date\")\n",
    "print(reporting_end_date)"
   ]
  },
  {
   "cell_type": "code",
   "execution_count": null,
   "metadata": {},
   "outputs": [],
   "source": [
    "last_reporting_end_date = DsnpHelperFunction.last_date_of_last_month(reporting_end_date, output_type=\"string\")\n",
    "last_reporting_end_date"
   ]
  },
  {
   "cell_type": "code",
   "execution_count": null,
   "metadata": {},
   "outputs": [],
   "source": [
    "reporting_end_date"
   ]
  },
  {
   "cell_type": "code",
   "execution_count": null,
   "metadata": {},
   "outputs": [],
   "source": [
    "storage_path = r'//mbip/medicarepBI/Projects/COE/DSNP/dsnp_data_storage/monthly_flat_files'\n",
    "flat_file_path = f'{storage_path}/{reporting_end_date}'\n",
    "prev_flat_file_path = f'{storage_path}/{last_reporting_end_date}'"
   ]
  },
  {
   "cell_type": "code",
   "execution_count": null,
   "metadata": {},
   "outputs": [],
   "source": [
    "#file_list = os.listdir(flat_file_path)\n",
    "#file_list"
   ]
  },
  {
   "cell_type": "code",
   "execution_count": null,
   "metadata": {},
   "outputs": [],
   "source": [
    "qc_file_list = [\n",
    "#'pull_race.parquet',\n",
    "#'pull_resident_type.parquet',\n",
    "#'pull_risk_strat_from_icp.pkl',\n",
    "#'pull_risk_strat_nj.pkl',\n",
    "#'pull_risk_strat_va.pkl',\n",
    "#'pull_utilization_12month.parquet',\n",
    " 'qnxt_call_df.parquet',\n",
    " 'not_real_df.pkl',\n",
    " 'race_df.parquet',\n",
    " 'sop_campaign_unique_df.parquet',\n",
    " 'utilization_df_12month.parquet',\n",
    " 'utilization_df_ytd.parquet']"
   ]
  },
  {
   "cell_type": "code",
   "execution_count": null,
   "metadata": {},
   "outputs": [],
   "source": [
    "new_test_df = pd.read_pickle(f'{flat_file_path}/pull_risk_strat_va.pkl')"
   ]
  },
  {
   "cell_type": "code",
   "execution_count": null,
   "metadata": {},
   "outputs": [],
   "source": [
    "new_test_df"
   ]
  },
  {
   "cell_type": "code",
   "execution_count": null,
   "metadata": {},
   "outputs": [],
   "source": [
    "#test_df = pd.read_parquet(f'{prev_flat_file_path}/pull_annual_wellness_visit.parquet')\n",
    "new_test_df = pd.read_parquet(f'{flat_file_path}/pull_risk_strat_from_icp.parquet')"
   ]
  },
  {
   "cell_type": "code",
   "execution_count": null,
   "metadata": {},
   "outputs": [],
   "source": [
    "new_test_df"
   ]
  },
  {
   "cell_type": "code",
   "execution_count": null,
   "metadata": {},
   "outputs": [],
   "source": [
    "new_test_df.VoicePermInd.value_counts()"
   ]
  },
  {
   "cell_type": "code",
   "execution_count": null,
   "metadata": {},
   "outputs": [],
   "source": [
    "test_df"
   ]
  },
  {
   "cell_type": "code",
   "execution_count": null,
   "metadata": {},
   "outputs": [],
   "source": [
    "0.439 + (0.439 * 0.2) "
   ]
  },
  {
   "cell_type": "code",
   "execution_count": null,
   "metadata": {},
   "outputs": [],
   "source": [
    "test_df.non_successful_rate.mean()"
   ]
  },
  {
   "cell_type": "code",
   "execution_count": null,
   "metadata": {},
   "outputs": [],
   "source": [
    "new_test_df = pd.read_parquet(f'{flat_file_path}/med_adherence_df_with_detail.parquet')"
   ]
  },
  {
   "cell_type": "code",
   "execution_count": null,
   "metadata": {},
   "outputs": [],
   "source": [
    "new_test_df.head()"
   ]
  },
  {
   "cell_type": "code",
   "execution_count": null,
   "metadata": {},
   "outputs": [],
   "source": [
    "new_test_df.STATIN_DAYS_SUPPLY_CNT.max()"
   ]
  },
  {
   "cell_type": "code",
   "execution_count": null,
   "metadata": {},
   "outputs": [],
   "source": [
    "new_test_df[\"DENOMINATOR_Breast Cancer Screening\"].sum()"
   ]
  },
  {
   "cell_type": "code",
   "execution_count": null,
   "metadata": {},
   "outputs": [],
   "source": [
    "647820.0 + (647820.0*0.15)"
   ]
  },
  {
   "cell_type": "code",
   "execution_count": null,
   "metadata": {},
   "outputs": [],
   "source": [
    "test_df.head()"
   ]
  },
  {
   "cell_type": "code",
   "execution_count": null,
   "metadata": {},
   "outputs": [],
   "source": [
    "test_df.mcl_legal_type_desc.value_counts()"
   ]
  },
  {
   "cell_type": "code",
   "execution_count": null,
   "metadata": {},
   "outputs": [],
   "source": [
    "a = QcFunction.compare_dfs(test_df, test_df, check=[\"column\"])\n",
    "a"
   ]
  },
  {
   "cell_type": "code",
   "execution_count": null,
   "metadata": {},
   "outputs": [],
   "source": [
    "a[\"column\"]"
   ]
  },
  {
   "cell_type": "code",
   "execution_count": null,
   "metadata": {},
   "outputs": [],
   "source": [
    "import flatfileQcHelper\n",
    "import importlib\n",
    "importlib.reload(flatfileQcHelper)"
   ]
  },
  {
   "cell_type": "code",
   "execution_count": null,
   "metadata": {},
   "outputs": [],
   "source": [
    "import io\n",
    "import sys\n",
    "output_capture = io.StringIO()\n",
    "sys.stdout = output_capture\n",
    "\n",
    "for f in qc_file_list:\n",
    "    file_name, file_type = f.split(\".\")\n",
    "    print(f\"{file_name}, QC start\")\n",
    "    if file_type == \"parquet\":\n",
    "        try:\n",
    "            prev_file = pd.read_parquet(f'{prev_flat_file_path}/{f}')\n",
    "            new_file = pd.read_parquet(f'{flat_file_path}/{f}')\n",
    "        except:\n",
    "            print(f'{f} not found')\n",
    "            print(\"-------------------------------------------------------------------\")\n",
    "            continue\n",
    "    if file_type == \"pkl\":\n",
    "        try:\n",
    "            prev_file = pd.read_pickle(f'{prev_flat_file_path}/{f}')\n",
    "            new_file = pd.read_pickle(f'{flat_file_path}/{f}')\n",
    "        except:\n",
    "            print(f'{f} not found')\n",
    "            print(\"-------------------------------------------------------------------\")\n",
    "            continue\n",
    "    \n",
    "    print(\"Two dfs columns is the same?\")\n",
    "        \n",
    "    print(QcFunction.compare_dfs(prev_file, new_file, check=[\"column\"]))\n",
    "    \n",
    "    agg_dict = getattr(flatfileQcHelper, file_name + \"_dict\")\n",
    "    agg_criteria = getattr(flatfileQcHelper, file_name + \"_criteria\")\n",
    "    qc_dict, prev_agg, new_agg = QcFunction.compare_previous_report(prev_file, new_file, agg_dict, agg_criteria)\n",
    "    qc_result = QcFunction.qc_result_from_qc_dict(qc_dict)\n",
    "    print(\"-------------------------------------------------------------------\")\n",
    "    if qc_result == \"Fail\":\n",
    "        QcFunction.send_email_alarm(report_name = f\"Flatfile QC failed, {file_name}\", dist_list = 'LimS@aetna.com;')\n",
    "\n",
    "sys.stdout=sys.__stdout__\n",
    "captured_output = output_capture.getvalue()"
   ]
  },
  {
   "cell_type": "code",
   "execution_count": null,
   "metadata": {},
   "outputs": [],
   "source": [
    "captured_output_new_line = captured_output.replace('\\n', '<br>')"
   ]
  },
  {
   "cell_type": "code",
   "execution_count": null,
   "metadata": {},
   "outputs": [],
   "source": [
    "import os\n",
    "import win32com.client as win32\n",
    "\n",
    "# Construct outlook Application instance\n",
    "olApp = win32.Dispatch('Outlook.Application')\n",
    "olNS=olApp.GetNameSpace('MAPI')\n",
    "#QC\n",
    "CC_List = 'lims@aetna.com'\n",
    "Distribution_List = 'lims@aetna.com;'\n",
    "\n",
    "# Construct the email object\n",
    "mailItem = olApp.CreateItem(0)\n",
    "mailItem.Subject ='Monthly flatfile QC report'+ dt.datetime.today().strftime(\"%B %Y\")\n",
    "mailItem.BodyFormat = 1 ##'olFormatHTML'\n",
    "mailItem.HTMLBody = f\"{captured_output_new_line}\"\n",
    "\n",
    "mailItem.To = Distribution_List\n",
    "mailItem.CC = CC_List\n",
    "mailItem.Display()\n",
    "mailItem.Save()\n",
    "mailItem.Send()"
   ]
  },
  {
   "cell_type": "code",
   "execution_count": null,
   "metadata": {},
   "outputs": [],
   "source": [
    "captured_output_new_line"
   ]
  },
  {
   "cell_type": "code",
   "execution_count": null,
   "metadata": {},
   "outputs": [],
   "source": [
    "member_cm_engagement_df = pd.read_pickle(f'{flat_file_path}/member_cm_engagement_df.pkl')"
   ]
  },
  {
   "cell_type": "code",
   "execution_count": null,
   "metadata": {},
   "outputs": [],
   "source": [
    "pbg_group_clean_df = pd.read_pickle(f'{flat_file_path}/pbg_group_clean_df.pkl')\n",
    "hedis_ps_wide = pd.read_pickle(f'{flat_file_path}/hedis_ps_wide.pkl')"
   ]
  },
  {
   "cell_type": "code",
   "execution_count": null,
   "metadata": {},
   "outputs": [],
   "source": [
    "import flatfileQcHelper\n",
    "import importlib\n",
    "importlib.reload(flatfileQcHelper)\n",
    "\n",
    "hedis_qc_dict, hedis_aggregated_df = flatfileQcHelper.run_qc_hedis(hedis_ps_wide)\n",
    "flatfileQcHelper.qc_alarm(hedis_qc_dict, report_name = \"FlatFile QC\", dist_list = \"LimS@aetna.com\")\n",
    "\n",
    "pbg_group_qc_dict, pbg_group_aggregated_df = flatfileQcHelper.run_qc_pgb_group(pbg_group_clean_df)\n",
    "flatfileQcHelper.qc_alarm(pbg_group_qc_dict, report_name = \"FlatFile QC\", dist_list = \"LimS@aetna.com\")\n",
    "\n",
    "cm_qc_dict, cm_aggregated_df = flatfileQcHelper.run_qc_cm(member_cm_engagement_df)\n",
    "flatfileQcHelper.qc_alarm(cm_qc_dict, report_name = \"FlatFile QC\", dist_list = \"LimS@aetna.com\")"
   ]
  },
  {
   "cell_type": "code",
   "execution_count": null,
   "metadata": {},
   "outputs": [],
   "source": [
    "cm_aggregated_df"
   ]
  },
  {
   "cell_type": "code",
   "execution_count": null,
   "metadata": {},
   "outputs": [],
   "source": []
  }
 ],
 "metadata": {
  "kernelspec": {
   "display_name": "Python 3",
   "language": "python",
   "name": "python3"
  },
  "language_info": {
   "codemirror_mode": {
    "name": "ipython",
    "version": 3
   },
   "file_extension": ".py",
   "mimetype": "text/x-python",
   "name": "python",
   "nbconvert_exporter": "python",
   "pygments_lexer": "ipython3",
   "version": "3.10.2"
  },
  "orig_nbformat": 4,
  "vscode": {
   "interpreter": {
    "hash": "ca49e4e1b88eed2b9544455cc8bcce643dcbc593713c2910e162ad7a95386c9e"
   }
  }
 },
 "nbformat": 4,
 "nbformat_minor": 2
}
