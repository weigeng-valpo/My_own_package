{
 "cells": [
  {
   "cell_type": "code",
   "execution_count": 1,
   "metadata": {},
   "outputs": [],
   "source": [
    "import getpass\n",
    "import os"
   ]
  },
  {
   "cell_type": "code",
   "execution_count": 2,
   "metadata": {},
   "outputs": [],
   "source": [
    "USERNAME = os.getenv('USERNAME').lower()\n",
    "PASSWORD = getpass.getpass()"
   ]
  },
  {
   "cell_type": "code",
   "execution_count": 3,
   "metadata": {},
   "outputs": [],
   "source": [
    "#flatfile_notebook_list = ['pbg_group_transform.ipynb', 'cm_engagement_transform.ipynb', 'pickling_member_file.ipynb', 'wide_hedis_transform.ipynb']"
   ]
  },
  {
   "cell_type": "code",
   "execution_count": 4,
   "metadata": {},
   "outputs": [],
   "source": [
    "#If pull_*.pkl is already there just use it. In case there is no pull_*.pkl, automatically pull again.\n",
    "new_pull = False"
   ]
  },
  {
   "cell_type": "code",
   "execution_count": null,
   "metadata": {},
   "outputs": [],
   "source": [
    "%run -i flatfile_notebooks/creating_dsnp_base_member.ipynb USERNAME PASSWORD new_pull"
   ]
  },
  {
   "cell_type": "code",
   "execution_count": 5,
   "metadata": {},
   "outputs": [
    {
     "name": "stdout",
     "output_type": "stream",
     "text": [
      "User: a845514 Started creating pull_vbc and pbg_group_clean_df in the shared storage\n",
      "one_year_rolling_back_date\n",
      "2023-06-01 00:00:00\n",
      "first_date_of_year\n",
      "2024-01-01\n",
      "first_date_of_last_month\n",
      "2024-05-01\n",
      "reporting_end_date\n",
      "2024-05-31\n",
      "//mbip/medicarepBI/Projects/COE/DSNP/dsnp_data_storage/monthly_flat_files/2024-05-31\n",
      "The folder already exist\n",
      "Output files will sit in the folder above.\n",
      "(49311, 2)\n",
      "    GROUP_ID                      GROUP_NAME\n",
      "0  100001215  Brunswick Family Practice PLLC\n",
      "1  100004227              Austin J Ma MD APC\n",
      "    GROUP_ID                 PBG_STATUS\n",
      "0  101621240  Medicare Collab - Premier\n",
      "1  103565290  Medicare Collab - Lite NP\n",
      "PBG_STATUS\n",
      "NaN                                     2046799\n",
      "Medicare Collab - Plus                  1108013\n",
      "Medicare Collab - Enhanced               365095\n",
      "Medicare Collab - Premier                335197\n",
      "Medicare Collab - Lite NP                182150\n",
      "Medicare Collab - Basic                   88675\n",
      "Medicare Collab ? Unknown Model           80348\n",
      "Quality Improvement Program               26106\n",
      "Medicare Collab - Lite                    24543\n",
      "CA Independent Physician Association        307\n",
      "Name: count, dtype: int64\n",
      "      Member_ID   GROUP_ID  VBC PbgInd CMSContractNumber   \n",
      "0  101140780400  406644730  VBC      Y             H3152  \\\n",
      "1  101359972700  650301410  VBC      Y             H5522   \n",
      "\n",
      "              GROUP_NAME              PBG_STATUS        TIN   \n",
      "0  Atlantic ACO Medicare  Medicare Collab - Plus  202088165  \\\n",
      "1              Northwell  Medicare Collab - Plus  453023019   \n",
      "\n",
      "                                TINName           LabelName  Oak_Street_Ind  \n",
      "0  Practice Associates Medical Group PA     Susan M. Palmer           False  \n",
      "1           North Shore-LIJ Medical, PC  Joseph  Conigliaro           False  \n",
      "Process time -- 341.8215663433075 seconds\n"
     ]
    }
   ],
   "source": [
    "%run -i flatfile_notebooks/pbg_group_transform.ipynb USERNAME PASSWORD new_pull"
   ]
  },
  {
   "cell_type": "code",
   "execution_count": null,
   "metadata": {},
   "outputs": [],
   "source": [
    "%run -i flatfile_notebooks/cm_engagement_transform.ipynb USERNAME PASSWORD new_pull"
   ]
  },
  {
   "cell_type": "code",
   "execution_count": null,
   "metadata": {},
   "outputs": [],
   "source": [
    "#there is no new pulling\n",
    "%run -i flatfile_notebooks/pickling_member_file.ipynb USERNAME PASSWORD"
   ]
  },
  {
   "cell_type": "code",
   "execution_count": 5,
   "metadata": {},
   "outputs": [
    {
     "name": "stdout",
     "output_type": "stream",
     "text": [
      "User: a845514 Started creating pull_hedis and hedis_ps_wide in the shared storage\n",
      "2023-07-01 00:00:00\n",
      "2024-01-01\n",
      "2024-06-01\n",
      "2024-06-30\n",
      "//mbip/medicarepBI/Projects/COE/DSNP/dsnp_data_storage/monthly_flat_files/2024-06-30\n",
      "The folder already exist\n",
      "Output files will sit in the folder above.\n"
     ]
    },
    {
     "name": "stderr",
     "output_type": "stream",
     "text": [
      "100%|██████████| 35984939/35984939 [33:47<00:00, 17748.18it/s] \n"
     ]
    },
    {
     "name": "stdout",
     "output_type": "stream",
     "text": [
      "Process time -- 3999.709001302719 seconds\n"
     ]
    }
   ],
   "source": [
    "%run -i flatfile_notebooks/wide_hedis_transform.ipynb USERNAME PASSWORD new_pull"
   ]
  },
  {
   "cell_type": "code",
   "execution_count": 7,
   "metadata": {},
   "outputs": [
    {
     "name": "stdout",
     "output_type": "stream",
     "text": [
      "User: a845514 Started creating iha_all in shared storage\n",
      "2023-07-01 00:00:00\n",
      "2024-01-01\n",
      "2024-06-01\n",
      "2024-06-30\n",
      "\\\\mbip\\medicarepBI\\Projects\\COE\\DSNP\\Ting\\HHV\\Aetna_Coventry_Combined_DSNP_20240205_Final.xlsx\n",
      "\\\\mbip\\medicarepBI\\Projects\\COE\\DSNP\\Ting\\HHV\\Aetna_Coventry_Combined_DSNP_2024_20240627.xlsx\n",
      "//mbip/medicarepBI/Projects/COE/DSNP/dsnp_data_storage/monthly_flat_files/2024-06-30\n",
      "The folder already exist\n",
      "Output files will sit in the folder above.\n",
      "Process time -- 161.72760701179504 seconds\n"
     ]
    }
   ],
   "source": [
    "%run -i flatfile_notebooks/pickling_iha_file.ipynb USERNAME PASSWORD"
   ]
  }
 ],
 "metadata": {
  "kernelspec": {
   "display_name": "Python 3",
   "language": "python",
   "name": "python3"
  },
  "language_info": {
   "codemirror_mode": {
    "name": "ipython",
    "version": 3
   },
   "file_extension": ".py",
   "mimetype": "text/x-python",
   "name": "python",
   "nbconvert_exporter": "python",
   "pygments_lexer": "ipython3",
   "version": "3.10.2"
  },
  "orig_nbformat": 4,
  "vscode": {
   "interpreter": {
    "hash": "ca49e4e1b88eed2b9544455cc8bcce643dcbc593713c2910e162ad7a95386c9e"
   }
  }
 },
 "nbformat": 4,
 "nbformat_minor": 2
}
