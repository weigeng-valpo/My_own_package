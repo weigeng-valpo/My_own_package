{
 "cells": [
  {
   "cell_type": "code",
   "execution_count": null,
   "metadata": {},
   "outputs": [],
   "source": [
    "#for dev purpose\n",
    "import os\n",
    "USERNAME = os.getenv('USERNAME').lower()\n",
    "new_pull = False"
   ]
  },
  {
   "cell_type": "code",
   "execution_count": null,
   "metadata": {},
   "outputs": [],
   "source": [
    "# import python packages\n",
    "import sys\n",
    "if sys.version_info[1]==12:\n",
    "    os.add_dll_directory(r'C:/Program Files/Python/312/Lib/site-packages/clidriver/bin')\n",
    "else:\n",
    "    pass\n",
    "import pandas as pd\n",
    "import datetime as dt\n",
    "import time\n",
    "import warnings\n",
    "from dateutil.relativedelta import relativedelta\n",
    "from snp_query_box import DsnpHelperFunction, hotMacQueries\n",
    "from snp_query_box.dsnp_transform import dsnpTransform, callLogTransform\n",
    "\n",
    "warnings.filterwarnings(\"ignore\")\n",
    "pd.set_option(\"display.max_columns\", None)\n",
    "print(f\"User: {USERNAME} Started creating hot_mac_call_df in the shared storage\")"
   ]
  },
  {
   "cell_type": "code",
   "execution_count": null,
   "metadata": {},
   "outputs": [],
   "source": [
    "# set the starting time\n",
    "start_time = time.time()"
   ]
  },
  {
   "cell_type": "code",
   "execution_count": null,
   "metadata": {},
   "outputs": [],
   "source": [
    "# calculate the dates\n",
    "today = dt.datetime.today()\n",
    "today_str = today.strftime('%Y-%m-%d')\n",
    "last_date_of_last_month_str = DsnpHelperFunction.last_date_of_last_month(today_str, output_type=\"string\")\n",
    "last_date_of_last_month = DsnpHelperFunction.last_date_of_last_month(today_str)\n",
    "first_date_of_month = dt.datetime.today().replace(day=1)\n",
    "first_date_of_last_month = first_date_of_month - relativedelta(months=1)\n",
    "\n",
    "call_start_date = pd.to_datetime(today - relativedelta(months = 3)).strftime('%Y-%m-%d')\n",
    "print(call_start_date)\n",
    "\n",
    "reporting_end_date = last_date_of_last_month_str\n",
    "print(reporting_end_date)"
   ]
  },
  {
   "cell_type": "code",
   "execution_count": null,
   "metadata": {},
   "outputs": [],
   "source": [
    "call_start_date"
   ]
  },
  {
   "cell_type": "code",
   "execution_count": null,
   "metadata": {},
   "outputs": [],
   "source": [
    "# set the storage and output path\n",
    "storage_path = r'//mbip/medicarepBI/Projects/COE/DSNP/dsnp_data_storage/monthly_flat_files'\n",
    "output_path = f'{storage_path}/{reporting_end_date}'\n",
    "\n",
    "isExist = os.path.exists(output_path)\n",
    "print(output_path)\n",
    "if not isExist:\n",
    "    # Create a new directory because it does not exist\n",
    "     os.makedirs(output_path)\n",
    "     print(\"The new directory is created!\")\n",
    "else:\n",
    "      print(\"The folder already exist\")\n",
    "print(\"Output files will sit in the folder above.\")"
   ]
  },
  {
   "cell_type": "code",
   "execution_count": null,
   "metadata": {},
   "outputs": [],
   "source": [
    "#locate data dump folder\n",
    "if new_pull:\n",
    "    pull_hot_mac_call = hotMacQueries.pull_hot_mac_call(min_call_date=call_start_date, max_call_date=today_str)\n",
    "    pull_hot_mac_call.to_parquet(f\"{output_path}/pull_hot_mac_call_3month.parquet\")\n",
    "else:\n",
    "    try:\n",
    "        pull_hot_mac_call = pd.read_parquet(f\"{output_path}/pull_hot_mac_call_3month.parquet\")\n",
    "\n",
    "    except:\n",
    "        pull_hot_mac_call = hotMacQueries.pull_hot_mac_call(min_call_date=call_start_date, max_call_date=today_str)\n",
    "\n",
    "        pull_hot_mac_call.to_parquet(f\"{output_path}/pull_hot_mac_call_3month.parquet\")"
   ]
  },
  {
   "cell_type": "code",
   "execution_count": null,
   "metadata": {},
   "outputs": [],
   "source": [
    "hot_mac_call_df = callLogTransform.clean_hot_mac_call_log(pull_hot_mac_call)"
   ]
  },
  {
   "cell_type": "code",
   "execution_count": null,
   "metadata": {},
   "outputs": [],
   "source": [
    "print(hot_mac_call_df.CALL_TIMESTAMP.min())\n",
    "print(hot_mac_call_df.CALL_TIMESTAMP.max())"
   ]
  },
  {
   "cell_type": "code",
   "execution_count": null,
   "metadata": {},
   "outputs": [],
   "source": [
    "print(hot_mac_call_df.shape)\n",
    "print(hot_mac_call_df.head())"
   ]
  },
  {
   "cell_type": "code",
   "execution_count": null,
   "metadata": {},
   "outputs": [],
   "source": [
    "hot_mac_call_df.to_parquet(f\"{output_path}/hot_mac_call_df_3month.parquet\")"
   ]
  },
  {
   "cell_type": "code",
   "execution_count": null,
   "metadata": {},
   "outputs": [],
   "source": [
    "# output the process time\n",
    "print(\"Process time -- %s seconds\" % (time.time() - start_time))"
   ]
  }
 ],
 "metadata": {
  "kernelspec": {
   "display_name": "Python 3",
   "language": "python",
   "name": "python3"
  },
  "language_info": {
   "codemirror_mode": {
    "name": "ipython",
    "version": 3
   },
   "file_extension": ".py",
   "mimetype": "text/x-python",
   "name": "python",
   "nbconvert_exporter": "python",
   "pygments_lexer": "ipython3",
   "version": "3.10.2"
  }
 },
 "nbformat": 4,
 "nbformat_minor": 2
}
