{
 "cells": [
  {
   "cell_type": "code",
   "execution_count": 1,
   "metadata": {},
   "outputs": [],
   "source": [
    "import getpass\n",
    "import os\n",
    "USERNAME = os.getenv('USERNAME').lower()"
   ]
  },
  {
   "cell_type": "code",
   "execution_count": 2,
   "metadata": {},
   "outputs": [],
   "source": [
    "import pandas as pd\n",
    "import matplotlib.pyplot as plt\n",
    "import glob\n",
    "\n",
    "%matplotlib inline\n",
    "\n",
    "import datetime as dt\n",
    "import time\n",
    "import warnings\n",
    "from dateutil.relativedelta import relativedelta\n",
    "\n",
    "\n",
    "from snp_query_box import DsnpHelperFunction\n",
    "\n",
    "warnings.filterwarnings(\"ignore\")\n",
    "pd.set_option(\"display.max_columns\", None)"
   ]
  },
  {
   "cell_type": "code",
   "execution_count": 3,
   "metadata": {},
   "outputs": [
    {
     "name": "stdout",
     "output_type": "stream",
     "text": [
      "User: a845514 Started creating iha_df in shared storage\n"
     ]
    }
   ],
   "source": [
    "print(f\"User: {USERNAME} Started creating iha_df in shared storage\")"
   ]
  },
  {
   "cell_type": "code",
   "execution_count": 4,
   "metadata": {},
   "outputs": [],
   "source": [
    "start_time = time.time()"
   ]
  },
  {
   "cell_type": "code",
   "execution_count": 5,
   "metadata": {},
   "outputs": [
    {
     "name": "stdout",
     "output_type": "stream",
     "text": [
      "2024-05-01 00:00:00\n",
      "2025-01-01\n",
      "2025-04-01\n",
      "2025-04-30\n"
     ]
    }
   ],
   "source": [
    "today = dt.datetime.today()\n",
    "today_str = today.strftime('%Y-%m-%d')\n",
    "last_date_of_last_month_str = DsnpHelperFunction.last_date_of_last_month(today_str, output_type=\"string\")\n",
    "last_date_of_last_month = DsnpHelperFunction.last_date_of_last_month(today_str)\n",
    "\n",
    "last_month = last_date_of_last_month_str[:7]\n",
    "one_year_rolling_back_date = pd.Timestamp(last_date_of_last_month + dt.timedelta(days=1) - relativedelta(years = 1))\n",
    "print(one_year_rolling_back_date)\n",
    "\n",
    "first_date_of_year = DsnpHelperFunction.first_date_of_year(today_str, output_type=\"string\")\n",
    "print(first_date_of_year)\n",
    "first_date_of_last_month_str = DsnpHelperFunction.first_date_of_last_month(today_str, output_type=\"string\")\n",
    "print(first_date_of_last_month_str)\n",
    "\n",
    "pulled_data_date = last_month\n",
    "comp_report_data_month = last_month\n",
    "hra_report_data_month = last_month\n",
    "reporting_end_date = last_date_of_last_month_str\n",
    "print(reporting_end_date)"
   ]
  },
  {
   "cell_type": "code",
   "execution_count": 6,
   "metadata": {},
   "outputs": [],
   "source": [
    "dir_path = r'\\\\mbip\\medicarepBI\\Projects\\COE\\DSNP\\Ting\\HHV\\Aetna_Coventry_Combined_DSNP_2025' \n",
    "\n",
    "def prepare_iha_data_current_year(dir_path = dir_path):\n",
    "    # load the IHA data and take the latest visit date and append it to the report\n",
    "    # load the iha files - Source #1 : the flat FINAL file\n",
    "    most_recent_parquet_path = glob.glob(os.path.join(dir_path, 'iha_df.parquet'))\n",
    "    print(most_recent_parquet_path)\n",
    "    most_recent_iha_df = pd.read_parquet(most_recent_parquet_path)\n",
    "\n",
    "    # now other updated files\n",
    "    flat_files = glob.glob(os.path.join(dir_path, '*[0-9].xlsx'))\n",
    "\n",
    "    new_files_dfs = []\n",
    "    for file_path in flat_files:\n",
    "        print(file_path)\n",
    "        xl = pd.ExcelFile(file_path)\n",
    "        sheets = xl.sheet_names  # see all sheet names\n",
    "        recent_iha_file_1 = pd.read_excel(file_path, \n",
    "                           sheet_name=sheets[0], dtype={'MemberID':str}).rename(columns={'MemberID':'Member_ID', 'HPLAN':'Contract_Number'})\n",
    "\n",
    "        recent_iha_file_2 = pd.read_excel(file_path, \n",
    "                           sheet_name=sheets[1], dtype={'MemberID':str}).rename(columns={'MemberID':'Member_ID', 'HPLAN':'Contract_Number'})\n",
    "        other_combined_df = pd.concat([recent_iha_file_1, recent_iha_file_2], ignore_index = True)\n",
    "        new_files_dfs.append(other_combined_df)\n",
    "\n",
    "    new_iha_df = pd.concat(new_files_dfs, ignore_index=True)\n",
    "\n",
    "    new_iha_file = new_iha_df[['Member_ID','Contract_Number','Appt_Date', 'ScheduledVisitDate','Status2']].drop_duplicates()\n",
    "    \n",
    "    new_iha_file = new_iha_file[new_iha_file.Status2.isin(['Completed Visit', 'In CDI/Coding'])].drop(columns=['Status2'])\n",
    "    new_iha_file['Member_ID'] = new_iha_file['Member_ID'].astype(str).str.zfill(12)\n",
    "    new_iha_concat_df = pd.concat([most_recent_iha_df, new_iha_file], ignore_index = True).drop_duplicates()\n",
    "    # dedup by Member_ID\n",
    "    #iha_file.sort_values(['Member_ID','Contract_Number','Appt_Date', 'ScheduledVisitDate'], ascending=[True, True,True], inplace=True)\n",
    "    #iha_latest_df = iha_file.drop_duplicates(['Member_ID','Contract_Number'], keep='last').reset_index(drop=True)\n",
    "    #iha_latest_df = iha_latest_df[iha_latest_df.Member_ID!='']\n",
    "    return most_recent_iha_df, new_iha_concat_df"
   ]
  },
  {
   "cell_type": "code",
   "execution_count": 7,
   "metadata": {},
   "outputs": [
    {
     "name": "stdout",
     "output_type": "stream",
     "text": [
      "['\\\\\\\\mbip\\\\medicarepBI\\\\Projects\\\\COE\\\\DSNP\\\\Ting\\\\HHV\\\\Aetna_Coventry_Combined_DSNP_2025\\\\iha_df.parquet']\n",
      "\\\\mbip\\medicarepBI\\Projects\\COE\\DSNP\\Ting\\HHV\\Aetna_Coventry_Combined_DSNP_2025\\Aetna_Coventry_Combined_DSNP_2025_20250313.xlsx\n",
      "\\\\mbip\\medicarepBI\\Projects\\COE\\DSNP\\Ting\\HHV\\Aetna_Coventry_Combined_DSNP_2025\\Aetna_Coventry_Combined_DSNP_2025_20250320.xlsx\n",
      "\\\\mbip\\medicarepBI\\Projects\\COE\\DSNP\\Ting\\HHV\\Aetna_Coventry_Combined_DSNP_2025\\Aetna_Coventry_Combined_DSNP_2025_20250327.xlsx\n",
      "\\\\mbip\\medicarepBI\\Projects\\COE\\DSNP\\Ting\\HHV\\Aetna_Coventry_Combined_DSNP_2025\\Aetna_Coventry_Combined_DSNP_2025_20250403.xlsx\n",
      "\\\\mbip\\medicarepBI\\Projects\\COE\\DSNP\\Ting\\HHV\\Aetna_Coventry_Combined_DSNP_2025\\Aetna_Coventry_Combined_DSNP_2025_20250417.xlsx\n",
      "\\\\mbip\\medicarepBI\\Projects\\COE\\DSNP\\Ting\\HHV\\Aetna_Coventry_Combined_DSNP_2025\\Aetna_Coventry_Combined_DSNP_2025_20250424.xlsx\n"
     ]
    }
   ],
   "source": [
    "most_recent_iha_df, new_iha_concat_df = prepare_iha_data_current_year()"
   ]
  },
  {
   "cell_type": "code",
   "execution_count": 8,
   "metadata": {},
   "outputs": [
    {
     "data": {
      "text/plain": [
       "819707"
      ]
     },
     "execution_count": 8,
     "metadata": {},
     "output_type": "execute_result"
    }
   ],
   "source": [
    "len(most_recent_iha_df)"
   ]
  },
  {
   "cell_type": "code",
   "execution_count": 9,
   "metadata": {},
   "outputs": [
    {
     "data": {
      "text/plain": [
       "819707"
      ]
     },
     "execution_count": 9,
     "metadata": {},
     "output_type": "execute_result"
    }
   ],
   "source": [
    "len(most_recent_iha_df.drop_duplicates())"
   ]
  },
  {
   "cell_type": "code",
   "execution_count": 10,
   "metadata": {},
   "outputs": [
    {
     "data": {
      "text/plain": [
       "856205"
      ]
     },
     "execution_count": 10,
     "metadata": {},
     "output_type": "execute_result"
    }
   ],
   "source": [
    "len(new_iha_concat_df.drop_duplicates())"
   ]
  },
  {
   "cell_type": "code",
   "execution_count": 11,
   "metadata": {},
   "outputs": [],
   "source": [
    "most_recent_iha_df.to_parquet(f\"{dir_path}/prev_iha_df.parquet\")"
   ]
  },
  {
   "cell_type": "code",
   "execution_count": 12,
   "metadata": {},
   "outputs": [],
   "source": [
    "new_iha_concat_df.to_parquet(f\"{dir_path}/iha_df.parquet\")"
   ]
  },
  {
   "cell_type": "code",
   "execution_count": 13,
   "metadata": {},
   "outputs": [
    {
     "name": "stdout",
     "output_type": "stream",
     "text": [
      "//mbip/medicarepBI/Projects/COE/DSNP/dsnp_data_storage/monthly_flat_files/2025-04-30\n",
      "The folder already exist\n",
      "Output files will sit in the folder above.\n"
     ]
    }
   ],
   "source": [
    "storage_path = r'//mbip/medicarepBI/Projects/COE/DSNP/dsnp_data_storage/monthly_flat_files'\n",
    "output_path = f'{storage_path}/{reporting_end_date}'\n",
    "\n",
    "isExist = os.path.exists(output_path)\n",
    "print(output_path)\n",
    "if not isExist:\n",
    "    # Create a new directory because it does not exist\n",
    "     os.makedirs(output_path)\n",
    "     print(\"The new directory is created!\")\n",
    "else:\n",
    "      print(\"The folder already exist\")\n",
    "print(\"Output files will sit in the folder above.\")"
   ]
  },
  {
   "cell_type": "code",
   "execution_count": 14,
   "metadata": {},
   "outputs": [
    {
     "data": {
      "text/html": [
       "<div>\n",
       "<style scoped>\n",
       "    .dataframe tbody tr th:only-of-type {\n",
       "        vertical-align: middle;\n",
       "    }\n",
       "\n",
       "    .dataframe tbody tr th {\n",
       "        vertical-align: top;\n",
       "    }\n",
       "\n",
       "    .dataframe thead th {\n",
       "        text-align: right;\n",
       "    }\n",
       "</style>\n",
       "<table border=\"1\" class=\"dataframe\">\n",
       "  <thead>\n",
       "    <tr style=\"text-align: right;\">\n",
       "      <th></th>\n",
       "      <th>Member_ID</th>\n",
       "      <th>Contract_Number</th>\n",
       "      <th>Appt_Date</th>\n",
       "      <th>ScheduledVisitDate</th>\n",
       "    </tr>\n",
       "  </thead>\n",
       "  <tbody>\n",
       "    <tr>\n",
       "      <th>0</th>\n",
       "      <td>101230726500</td>\n",
       "      <td>H3312</td>\n",
       "      <td>2021-06-16</td>\n",
       "      <td>2021-06-16</td>\n",
       "    </tr>\n",
       "    <tr>\n",
       "      <th>1</th>\n",
       "      <td>101232540600</td>\n",
       "      <td>H3146</td>\n",
       "      <td>2021-10-14</td>\n",
       "      <td>2021-10-14</td>\n",
       "    </tr>\n",
       "    <tr>\n",
       "      <th>2</th>\n",
       "      <td>101237344800</td>\n",
       "      <td>H3239</td>\n",
       "      <td>2021-01-07</td>\n",
       "      <td>2021-01-07</td>\n",
       "    </tr>\n",
       "    <tr>\n",
       "      <th>3</th>\n",
       "      <td>101247521100</td>\n",
       "      <td>H3312</td>\n",
       "      <td>2021-01-22</td>\n",
       "      <td>2021-01-22</td>\n",
       "    </tr>\n",
       "    <tr>\n",
       "      <th>4</th>\n",
       "      <td>101248662300</td>\n",
       "      <td>H5302</td>\n",
       "      <td>2021-06-29</td>\n",
       "      <td>2021-06-29</td>\n",
       "    </tr>\n",
       "  </tbody>\n",
       "</table>\n",
       "</div>"
      ],
      "text/plain": [
       "      Member_ID Contract_Number  Appt_Date ScheduledVisitDate\n",
       "0  101230726500           H3312 2021-06-16         2021-06-16\n",
       "1  101232540600           H3146 2021-10-14         2021-10-14\n",
       "2  101237344800           H3239 2021-01-07         2021-01-07\n",
       "3  101247521100           H3312 2021-01-22         2021-01-22\n",
       "4  101248662300           H5302 2021-06-29         2021-06-29"
      ]
     },
     "execution_count": 14,
     "metadata": {},
     "output_type": "execute_result"
    }
   ],
   "source": [
    "new_iha_concat_df.head()"
   ]
  },
  {
   "cell_type": "code",
   "execution_count": 15,
   "metadata": {},
   "outputs": [],
   "source": [
    "new_iha_concat_df.to_parquet(f\"{output_path}/iha_df.parquet\")"
   ]
  },
  {
   "cell_type": "code",
   "execution_count": 16,
   "metadata": {},
   "outputs": [
    {
     "name": "stdout",
     "output_type": "stream",
     "text": [
      "Process time -- 322.98229813575745 seconds\n"
     ]
    }
   ],
   "source": [
    "print(\"Process time -- %s seconds\" % (time.time() - start_time))"
   ]
  },
  {
   "cell_type": "code",
   "execution_count": 17,
   "metadata": {},
   "outputs": [],
   "source": [
    "#TODO\n",
    "#dsnp_inplay_status_path = r'//mbip/medicarepBI/Projects/COE/DSNP/Projects/Med_Adherence_In_Play/DSNP_May_07_2024.xlsx'\n",
    "#rnpm_path = r'//mbip/medicarepBI/Projects/COE/DSNP/Ting/Top40/Senior Clinical Strategist and PBG groups 202404.xlsx'\n",
    "#Careplan"
   ]
  }
 ],
 "metadata": {
  "kernelspec": {
   "display_name": "Python 3",
   "language": "python",
   "name": "python3"
  },
  "language_info": {
   "codemirror_mode": {
    "name": "ipython",
    "version": 3
   },
   "file_extension": ".py",
   "mimetype": "text/x-python",
   "name": "python",
   "nbconvert_exporter": "python",
   "pygments_lexer": "ipython3",
   "version": "3.10.2"
  },
  "orig_nbformat": 4,
  "vscode": {
   "interpreter": {
    "hash": "ca49e4e1b88eed2b9544455cc8bcce643dcbc593713c2910e162ad7a95386c9e"
   }
  }
 },
 "nbformat": 4,
 "nbformat_minor": 2
}
