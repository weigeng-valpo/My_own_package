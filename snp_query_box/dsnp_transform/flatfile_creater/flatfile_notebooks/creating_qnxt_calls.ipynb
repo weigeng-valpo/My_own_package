{
 "cells": [
  {
   "cell_type": "code",
   "execution_count": 1,
   "metadata": {},
   "outputs": [],
   "source": [
    "#for dev purpose\n",
    "import os\n",
    "USERNAME = os.getenv('USERNAME').lower()\n",
    "new_pull = True"
   ]
  },
  {
   "cell_type": "code",
   "execution_count": 2,
   "metadata": {},
   "outputs": [
    {
     "name": "stdout",
     "output_type": "stream",
     "text": [
      "User: a845514 Started creating qnxt_call_df in the shared storage\n"
     ]
    }
   ],
   "source": [
    "# import python packages\n",
    "import sys\n",
    "if sys.version_info[1]==12:\n",
    "    os.add_dll_directory(r'C:/Program Files/Python/312/Lib/site-packages/clidriver/bin')\n",
    "else:\n",
    "    pass\n",
    "import pandas as pd\n",
    "import datetime as dt\n",
    "import time\n",
    "import warnings\n",
    "from dateutil.relativedelta import relativedelta\n",
    "from snp_query_box import DsnpHelperFunction, qnxtQueries\n",
    "warnings.filterwarnings(\"ignore\")\n",
    "pd.set_option(\"display.max_columns\", None)\n",
    "print(f\"User: {USERNAME} Started creating qnxt_call_df in the shared storage\")"
   ]
  },
  {
   "cell_type": "code",
   "execution_count": 3,
   "metadata": {},
   "outputs": [],
   "source": [
    "# set the starting time\n",
    "start_time = time.time()"
   ]
  },
  {
   "cell_type": "code",
   "execution_count": 22,
   "metadata": {},
   "outputs": [
    {
     "name": "stdout",
     "output_type": "stream",
     "text": [
      "2025-03-31\n",
      "2024-04-01\n",
      "2025-03-31\n"
     ]
    }
   ],
   "source": [
    "# calculate the dates\n",
    "today = dt.datetime.today()\n",
    "today_str = today.strftime('%Y-%m-%d')\n",
    "last_date_of_last_month_str = DsnpHelperFunction.last_date_of_last_month(today_str, output_type=\"string\")\n",
    "last_date_of_last_month = DsnpHelperFunction.last_date_of_last_month(today_str)\n",
    "first_date_of_month = dt.datetime.today().replace(day=1)\n",
    "first_date_of_last_month = first_date_of_month - relativedelta(months=1)\n",
    "call_log_date2 = pd.to_datetime(last_date_of_last_month).date()\n",
    "print(call_log_date2)\n",
    "call_log_date1 = pd.to_datetime(last_date_of_last_month + dt.timedelta(days=1) - relativedelta(years = 1)).date()\n",
    "print(call_log_date1)\n",
    "\n",
    "reporting_end_date = last_date_of_last_month_str\n",
    "print(reporting_end_date)"
   ]
  },
  {
   "cell_type": "code",
   "execution_count": 7,
   "metadata": {},
   "outputs": [
    {
     "name": "stdout",
     "output_type": "stream",
     "text": [
      "//mbip/medicarepBI/Projects/COE/DSNP/dsnp_data_storage/monthly_flat_files/2023-12-31\n",
      "The folder already exist\n",
      "Output files will sit in the folder above.\n"
     ]
    }
   ],
   "source": [
    "# set the storage and output path\n",
    "storage_path = r'//mbip/medicarepBI/Projects/COE/DSNP/dsnp_data_storage/monthly_flat_files'\n",
    "output_path = f'{storage_path}/{reporting_end_date}'\n",
    "\n",
    "isExist = os.path.exists(output_path)\n",
    "print(output_path)\n",
    "if not isExist:\n",
    "    # Create a new directory because it does not exist\n",
    "     os.makedirs(output_path)\n",
    "     print(\"The new directory is created!\")\n",
    "else:\n",
    "      print(\"The folder already exist\")\n",
    "print(\"Output files will sit in the folder above.\")"
   ]
  },
  {
   "cell_type": "code",
   "execution_count": 19,
   "metadata": {},
   "outputs": [
    {
     "name": "stderr",
     "output_type": "stream",
     "text": [
      "100%|██████████| 8232/8232 [00:00<00:00, 11578.55it/s]\n",
      "100%|██████████| 24838/24838 [00:07<00:00, 3364.09it/s]\n"
     ]
    }
   ],
   "source": [
    "#locate data dump folder\n",
    "if new_pull:\n",
    "    pull_call_log_nj = qnxtQueries.pull_call_log_nj(call_log_date1=call_log_date1, call_log_date2=call_log_date2)\n",
    "    pull_call_log_va = qnxtQueries.pull_call_log_va(call_log_date1=call_log_date1, call_log_date2=call_log_date2)\n",
    "    pull_call_log_nj = pull_call_log_nj.sort_values([\"cl_contact_dts\",\"QNXT_MemberID\"], ascending = (False,True))\n",
    "    pull_call_log_va = pull_call_log_va.sort_values([\"cl_contact_dts\",\"QNXT_MemberID\"], ascending = (False,True))\n",
    "\n",
    "    nj_call_df = pull_call_log_nj.sort_values('cl_contact_dts', ascending=False).groupby('QNXT_MemberID').head(1)\n",
    "    va_call_df = pull_call_log_va.sort_values('cl_contact_dts', ascending=False).groupby('QNXT_MemberID').head(1)\n",
    "    qnxt_call_df = pd.concat([nj_call_df,va_call_df], axis=0, ignore_index=True)\n",
    "    qnxt_call_df.to_parquet(f\"{output_path}/qnxt_call_df.parquet\")\n",
    "\n",
    "else:\n",
    "    try:\n",
    "        qnxt_call_df = pd.read_parquet(f\"{output_path}/qnxt_call_df.parquet\")\n",
    "\n",
    "    except:\n",
    "        pull_call_log_nj = qnxtQueries.pull_call_log_nj(call_log_date1=call_log_date1, call_log_date2=call_log_date2)\n",
    "        pull_call_log_va = qnxtQueries.pull_call_log_va(call_log_date1=call_log_date1, call_log_date2=call_log_date2)\n",
    "        pull_call_log_nj = pull_call_log_nj.sort_values([\"cl_contact_dts\",\"QNXT_MemberID\"], ascending = (False,True))\n",
    "        pull_call_log_va = pull_call_log_va.sort_values([\"cl_contact_dts\",\"QNXT_MemberID\"], ascending = (False,True))\n",
    "    \n",
    "        nj_call_df = pull_call_log_nj.sort_values('cl_contact_dts', ascending=False).groupby('QNXT_MemberID').head(1)\n",
    "        va_call_df = pull_call_log_va.sort_values('cl_contact_dts', ascending=False).groupby('QNXT_MemberID').head(1)\n",
    "        qnxt_call_df = pd.concat([nj_call_df,va_call_df], axis=0, ignore_index=True)\n",
    "        qnxt_call_df.to_parquet(f\"{output_path}/qnxt_call_df.parquet\")"
   ]
  },
  {
   "cell_type": "code",
   "execution_count": 27,
   "metadata": {},
   "outputs": [
    {
     "name": "stdout",
     "output_type": "stream",
     "text": [
      "(13257, 13)\n",
      "  src_sys_nm src_file_nm    MedicareID    QNXT_MemberID          fullname   \n",
      "0     Dynamo    calllogs  2KJ1X56RQ08   PDZM00004821508  ROBINSON, LOUIS   \\\n",
      "1     Dynamo    calllogs  3J99R78HQ59   PDZM00003156098    PENA, AGAPITA    \n",
      "2     Dynamo    calllogs  6J54Y12WJ71   PDZM00000351437   JOWERS, SHERYL    \n",
      "\n",
      "  Contract  PBP cl_call_log_rel_type_desc          cl_contact_dts   \n",
      "0    H6399  001               Member/Self 2023-12-29 15:51:07.603  \\\n",
      "1    H6399  001               Member/Self 2023-12-29 15:28:03.480   \n",
      "2    H6399  001               Member/Self 2023-12-29 15:27:58.163   \n",
      "\n",
      "  cl_attempt_status_key_desc cl_inserted_by_user_nm cl_call_log_type_desc   \n",
      "0            Successful - FU                A829191           CM Activity  \\\n",
      "1            Successful - FU                A829191           CM Activity   \n",
      "2            Successful - FU                A832980           CM Activity   \n",
      "\n",
      "   Source  \n",
      "0  Dynamo  \n",
      "1  Dynamo  \n",
      "2  Dynamo  \n"
     ]
    }
   ],
   "source": [
    "print(qnxt_call_df.shape)\n",
    "print(qnxt_call_df.head(3))"
   ]
  },
  {
   "cell_type": "code",
   "execution_count": null,
   "metadata": {},
   "outputs": [],
   "source": [
    "# output the process time\n",
    "print(\"Process time -- %s seconds\" % (time.time() - start_time))"
   ]
  }
 ],
 "metadata": {
  "kernelspec": {
   "display_name": "Python 3",
   "language": "python",
   "name": "python3"
  },
  "language_info": {
   "codemirror_mode": {
    "name": "ipython",
    "version": 3
   },
   "file_extension": ".py",
   "mimetype": "text/x-python",
   "name": "python",
   "nbconvert_exporter": "python",
   "pygments_lexer": "ipython3",
   "version": "3.10.2"
  },
  "orig_nbformat": 4,
  "vscode": {
   "interpreter": {
    "hash": "ca49e4e1b88eed2b9544455cc8bcce643dcbc593713c2910e162ad7a95386c9e"
   }
  }
 },
 "nbformat": 4,
 "nbformat_minor": 2
}
