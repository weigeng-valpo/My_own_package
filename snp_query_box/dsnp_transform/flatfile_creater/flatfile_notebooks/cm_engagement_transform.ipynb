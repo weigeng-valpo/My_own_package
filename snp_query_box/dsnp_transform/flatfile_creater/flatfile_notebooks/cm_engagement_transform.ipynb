{
 "cells": [
  {
   "cell_type": "code",
   "execution_count": 1,
   "metadata": {},
   "outputs": [],
   "source": [
    "from snp_query_box.dsnp_transform import callLogTransform\n",
    "# for dev purpose - get username and password\n",
    "#import getpass\n",
    "import os\n",
    "USERNAME = os.getenv('USERNAME').lower()\n",
    "#PASSWORD = getpass.getpass()\n",
    "new_pull = False"
   ]
  },
  {
   "cell_type": "code",
   "execution_count": 2,
   "metadata": {},
   "outputs": [],
   "source": [
    "import os\n",
    "import sys\n",
    "\n",
    "import pandas as pd\n",
    "import numpy as np\n",
    "import pickle\n",
    "import glob\n",
    "import matplotlib.pyplot as plt\n",
    "\n",
    "%matplotlib inline\n",
    "\n",
    "import datetime as dt\n",
    "import time\n",
    "import warnings\n",
    "from dateutil.relativedelta import relativedelta\n",
    "\n",
    "\n",
    "from snp_query_box import DsnpHelperFunction, snpQueries\n",
    "\n",
    "warnings.filterwarnings(\"ignore\")\n",
    "pd.set_option(\"display.max_columns\", None)"
   ]
  },
  {
   "cell_type": "code",
   "execution_count": 3,
   "metadata": {},
   "outputs": [
    {
     "name": "stdout",
     "output_type": "stream",
     "text": [
      "User: a845514 Started creating member_cm_engagement_df, call_log_df and monthly_active_member_utr_dtr_df file in shared storage\n"
     ]
    }
   ],
   "source": [
    "print(f\"User: {USERNAME} Started creating member_cm_engagement_df, call_log_df and monthly_active_member_utr_dtr_df file in shared storage\")"
   ]
  },
  {
   "cell_type": "code",
   "execution_count": 4,
   "metadata": {},
   "outputs": [],
   "source": [
    "start_time = time.time()"
   ]
  },
  {
   "cell_type": "code",
   "execution_count": 5,
   "metadata": {},
   "outputs": [
    {
     "name": "stderr",
     "output_type": "stream",
     "text": [
      "Your browser has been opened to visit:\n",
      "\n",
      "    https://accounts.google.com/o/oauth2/auth?response_type=code&client_id=764086051850-6qr4p6gpi6hn506pt8ejuq83di341hur.apps.googleusercontent.com&redirect_uri=http%3A%2F%2Flocalhost%3A8085%2F&scope=openid+https%3A%2F%2Fwww.googleapis.com%2Fauth%2Fuserinfo.email+https%3A%2F%2Fwww.googleapis.com%2Fauth%2Fcloud-platform+https%3A%2F%2Fwww.googleapis.com%2Fauth%2Fsqlservice.login+https%3A%2F%2Fwww.googleapis.com%2Fauth%2Faccounts.reauth&state=WUHWzVP9dhl4bBCoXA5O0voYXV2UMy&access_type=offline&code_challenge=GJAK8EmlYMLzwRZWlVN9UDfjcXS5thZrHwbysda_fxQ&code_challenge_method=S256\n",
      "\n",
      "\n",
      "Credentials saved to file: [C:\\Users\\A845514\\AppData\\Roaming\\gcloud\\application_default_credentials.json]\n",
      "\n",
      "These credentials will be used by any library that requests Application Default Credentials (ADC).\n",
      "WARNING: \n",
      "Cannot add the project \"edp-prod-mdcrbi-starsbi\" to ADC as the quota project because the account in ADC does not have the \"serviceusage.services.use\" permission on this project. You might receive a \"quota_exceeded\" or \"API not enabled\" error. Run $ gcloud auth application-default set-quota-project to add a quota project.\n"
     ]
    }
   ],
   "source": [
    "!gcloud auth application-default login"
   ]
  },
  {
   "cell_type": "code",
   "execution_count": 6,
   "metadata": {},
   "outputs": [
    {
     "name": "stdout",
     "output_type": "stream",
     "text": [
      "one_year_rolling_back_date\n",
      "2024-06-01 00:00:00\n",
      "first_date_of_year\n",
      "2025-01-01\n",
      "first_date_of_last_month_str\n",
      "2025-05-01\n",
      "reporting_end_date\n",
      "2025-05-31\n"
     ]
    }
   ],
   "source": [
    "today = dt.datetime.today()\n",
    "today_str = today.strftime('%Y-%m-%d')\n",
    "last_date_of_last_month_str = DsnpHelperFunction.last_date_of_last_month(today_str, output_type=\"string\")\n",
    "last_date_of_last_month = DsnpHelperFunction.last_date_of_last_month(today_str)\n",
    "\n",
    "last_month = last_date_of_last_month_str[:7]\n",
    "one_year_rolling_back_date = pd.Timestamp(last_date_of_last_month + dt.timedelta(days=1) - relativedelta(years = 1))\n",
    "print(\"one_year_rolling_back_date\")\n",
    "print(one_year_rolling_back_date)\n",
    "\n",
    "first_date_of_year = DsnpHelperFunction.first_date_of_year(today_str, output_type=\"string\")\n",
    "print(\"first_date_of_year\")\n",
    "print(first_date_of_year)\n",
    "first_date_of_last_month_str = DsnpHelperFunction.first_date_of_last_month(today_str, output_type=\"string\")\n",
    "print(\"first_date_of_last_month_str\")\n",
    "print(first_date_of_last_month_str)\n",
    "\n",
    "pulled_data_date = last_month\n",
    "comp_report_data_month = last_month\n",
    "hra_report_data_month = last_month\n",
    "reporting_end_date = last_date_of_last_month_str\n",
    "print(\"reporting_end_date\")\n",
    "print(reporting_end_date)"
   ]
  },
  {
   "cell_type": "code",
   "execution_count": 7,
   "metadata": {},
   "outputs": [],
   "source": [
    "# if transition time first month...\n",
    "if today_str.split('-')[1] =='01':\n",
    "    first_date_of_year = str(int(first_date_of_year.split('-')[0])-1) + \\\n",
    "        '-01-01'\n",
    "    print('Trainsition time, first date of year is updated by previous year:' + first_date_of_year)\n",
    "    #first_date_of_year = '2024-01-01'"
   ]
  },
  {
   "cell_type": "code",
   "execution_count": 8,
   "metadata": {},
   "outputs": [],
   "source": [
    "# 3 years back default\n",
    "year_back = 3\n",
    "year_rolling_back_date = last_date_of_last_month + dt.timedelta(days=1) - relativedelta(years = year_back)\n",
    "\n",
    "call_log_date1 = year_rolling_back_date.strftime('%Y-%m-%d')\n",
    "call_log_date2 = today_str   #it was reporting_end_date"
   ]
  },
  {
   "cell_type": "code",
   "execution_count": 9,
   "metadata": {},
   "outputs": [
    {
     "name": "stdout",
     "output_type": "stream",
     "text": [
      "//mbip/medicarepBI/Projects/COE/DSNP/dsnp_data_storage/monthly_flat_files/2025-05-31\n",
      "The folder already exist\n",
      "Output files will sit in the folder above.\n"
     ]
    }
   ],
   "source": [
    "storage_path = r'//mbip/medicarepBI/Projects/COE/DSNP/dsnp_data_storage/monthly_flat_files'\n",
    "output_path = f'{storage_path}/{reporting_end_date}'\n",
    "\n",
    "isExist = os.path.exists(output_path)\n",
    "print(output_path)\n",
    "if not isExist:\n",
    "    # Create a new directory because it does not exist\n",
    "     os.makedirs(output_path)\n",
    "     print(\"The new directory is created!\")\n",
    "else:\n",
    "      print(\"The folder already exist\")\n",
    "print(\"Output files will sit in the folder above.\")"
   ]
  },
  {
   "cell_type": "code",
   "execution_count": 10,
   "metadata": {},
   "outputs": [
    {
     "data": {
      "text/plain": [
       "'2022-06-01'"
      ]
     },
     "execution_count": 10,
     "metadata": {},
     "output_type": "execute_result"
    }
   ],
   "source": [
    "call_log_date1"
   ]
  },
  {
   "cell_type": "code",
   "execution_count": 11,
   "metadata": {},
   "outputs": [
    {
     "data": {
      "text/plain": [
       "'2025-06-04'"
      ]
     },
     "execution_count": 11,
     "metadata": {},
     "output_type": "execute_result"
    }
   ],
   "source": [
    "call_log_date2"
   ]
  },
  {
   "cell_type": "code",
   "execution_count": 12,
   "metadata": {},
   "outputs": [
    {
     "name": "stdout",
     "output_type": "stream",
     "text": [
      "data pulled!\n"
     ]
    }
   ],
   "source": [
    "if new_pull:\n",
    "    pull_call_log_all_dsnp = snpQueries.pull_call_log_all_dsnp_bq(call_log_date1,call_log_date2)\n",
    "    print(\"data pulled!\")\n",
    "    pull_call_log_all_dsnp.to_parquet(f\"{output_path}/pull_call_log_all_dsnp.parquet\")\n",
    "else:\n",
    "    try:\n",
    "        pull_call_log_all_dsnp = pd.read_parquet(f\"{output_path}/pull_call_log_all_dsnp.parquet\")\n",
    "    except:\n",
    "        pull_call_log_all_dsnp = snpQueries.pull_call_log_all_dsnp_bq(call_log_date1,call_log_date2)\n",
    "        print(\"data pulled!\")\n",
    "        pull_call_log_all_dsnp.to_parquet(f\"{output_path}/pull_call_log_all_dsnp.parquet\")"
   ]
  },
  {
   "cell_type": "code",
   "execution_count": 13,
   "metadata": {},
   "outputs": [
    {
     "data": {
      "text/plain": [
       "Timestamp('2025-06-04 06:18:00+0000', tz='UTC')"
      ]
     },
     "execution_count": 13,
     "metadata": {},
     "output_type": "execute_result"
    }
   ],
   "source": [
    "pull_call_log_all_dsnp.cl_contact_dts.max()"
   ]
  },
  {
   "cell_type": "code",
   "execution_count": 14,
   "metadata": {},
   "outputs": [],
   "source": [
    "#Prepare call log data, one year back\n",
    "call_log_df = callLogTransform.clean_call_log(pull_call_log_all_dsnp, exclude_cec_user=False)\n",
    "call_log_timestamp_clean = callLogTransform.call_log_timestamp_clean(call_log_df, threshold_min = 60)\n",
    "\n",
    "most_recent_call_log_df = callLogTransform.get_most_recent_call_with_utr_flag(call_log_timestamp_clean, one_year_rolling_back_date, today_str)\n",
    "member_cm_engagement_df = callLogTransform.get_cm_engagement_rate(call_log_timestamp_clean, one_year_rolling_back_date, today_str)\n",
    "\n",
    "most_recent_call_log_df_ytd = callLogTransform.get_most_recent_call_with_utr_flag(call_log_timestamp_clean, first_date_of_year, today_str)\n",
    "member_cm_engagement_df_ytd = callLogTransform.get_cm_engagement_rate(call_log_timestamp_clean, first_date_of_year, today_str)"
   ]
  },
  {
   "cell_type": "code",
   "execution_count": 15,
   "metadata": {},
   "outputs": [
    {
     "data": {
      "text/plain": [
       "final_utr\n",
       "0    839179\n",
       "1     37062\n",
       "Name: count, dtype: int64"
      ]
     },
     "execution_count": 15,
     "metadata": {},
     "output_type": "execute_result"
    }
   ],
   "source": [
    "member_call_log_final_df = most_recent_call_log_df.merge(member_cm_engagement_df, how=\"left\", on=\"Member_ID\")\n",
    "member_call_log_final_df[(member_call_log_final_df[\"final_utr\"] == 1) & (member_call_log_final_df[\"final_dtr\"]==1)]\n",
    "member_call_log_final_df[\"final_utr\"].value_counts()"
   ]
  },
  {
   "cell_type": "code",
   "execution_count": 16,
   "metadata": {},
   "outputs": [
    {
     "data": {
      "text/plain": [
       "final_utr\n",
       "0    839179\n",
       "1     37062\n",
       "Name: count, dtype: int64"
      ]
     },
     "execution_count": 16,
     "metadata": {},
     "output_type": "execute_result"
    }
   ],
   "source": [
    "member_call_log_final_df_ytd = most_recent_call_log_df_ytd.merge(member_cm_engagement_df_ytd, how=\"left\", on=\"Member_ID\")\n",
    "member_call_log_final_df_ytd[(member_call_log_final_df_ytd[\"final_utr\"] == 1) & (member_call_log_final_df_ytd[\"final_dtr\"]==1)]\n",
    "member_call_log_final_df_ytd[\"final_utr\"].value_counts()"
   ]
  },
  {
   "cell_type": "code",
   "execution_count": 17,
   "metadata": {},
   "outputs": [],
   "source": [
    "#Let's make it mutually exclusive, when UTR, it is not DTR \n",
    "member_call_log_final_df[\"final_dtr\"] = np.where((member_call_log_final_df[\"final_utr\"] == 1) & (member_call_log_final_df[\"final_dtr\"]==1), 0, member_call_log_final_df[\"final_dtr\"])\n",
    "member_call_log_final_df_ytd[\"final_dtr\"] = np.where((member_call_log_final_df_ytd[\"final_utr\"] == 1) & (member_call_log_final_df_ytd[\"final_dtr\"]==1), 0, member_call_log_final_df_ytd[\"final_dtr\"])"
   ]
  },
  {
   "cell_type": "code",
   "execution_count": 18,
   "metadata": {},
   "outputs": [],
   "source": [
    "select_columns = [\"final_utr\", \"total_call_count\", \"total_non_successful\", \"non_successful_rate\", \"final_dtr\", \"cm_engaged\"]\n",
    "ytd_columns = []\n",
    "for col in select_columns:\n",
    "    new_col = col + '_ytd'\n",
    "    member_call_log_final_df_ytd = member_call_log_final_df_ytd.rename(columns={col: new_col})\n",
    "    ytd_columns.append(new_col)\n",
    "\n",
    "one_year_back_columns = []\n",
    "for col in select_columns:\n",
    "    new_col = col + '_one_year_back'\n",
    "    member_call_log_final_df = member_call_log_final_df.rename(columns={col: new_col})\n",
    "    one_year_back_columns.append(new_col)"
   ]
  },
  {
   "cell_type": "code",
   "execution_count": 19,
   "metadata": {},
   "outputs": [
    {
     "data": {
      "text/html": [
       "<div>\n",
       "<style scoped>\n",
       "    .dataframe tbody tr th:only-of-type {\n",
       "        vertical-align: middle;\n",
       "    }\n",
       "\n",
       "    .dataframe tbody tr th {\n",
       "        vertical-align: top;\n",
       "    }\n",
       "\n",
       "    .dataframe thead th {\n",
       "        text-align: right;\n",
       "    }\n",
       "</style>\n",
       "<table border=\"1\" class=\"dataframe\">\n",
       "  <thead>\n",
       "    <tr style=\"text-align: right;\">\n",
       "      <th></th>\n",
       "      <th>Member_ID</th>\n",
       "      <th>most_recent_cl_call_log_drctn_type_desc</th>\n",
       "      <th>most_recent_cl_call_log_method_type_desc</th>\n",
       "      <th>most_recent_cl_call_log_rel_type_desc</th>\n",
       "      <th>most_recent_cl_object_typ_desc</th>\n",
       "      <th>most_recent_cl_category_typ_desc</th>\n",
       "      <th>most_recent_cl_attempts_typ_key_desc</th>\n",
       "      <th>most_recent_cl_attempt_status_key_desc</th>\n",
       "      <th>most_recent_cl_contact_dts</th>\n",
       "      <th>most_recent_contact_date</th>\n",
       "      <th>most_recent_cur_utr</th>\n",
       "      <th>most_recent_cur_dtr</th>\n",
       "      <th>most_recent_cl_call_log_type_desc</th>\n",
       "      <th>most_recent_cl_comments_txt</th>\n",
       "      <th>final_utr_one_year_back</th>\n",
       "      <th>recent_successful_calls</th>\n",
       "      <th>total_call_count_one_year_back</th>\n",
       "      <th>total_non_successful_one_year_back</th>\n",
       "      <th>non_successful_rate_one_year_back</th>\n",
       "      <th>final_dtr_one_year_back</th>\n",
       "      <th>cm_engaged_one_year_back</th>\n",
       "      <th>final_utr_ytd</th>\n",
       "      <th>total_call_count_ytd</th>\n",
       "      <th>total_non_successful_ytd</th>\n",
       "      <th>non_successful_rate_ytd</th>\n",
       "      <th>final_dtr_ytd</th>\n",
       "      <th>cm_engaged_ytd</th>\n",
       "    </tr>\n",
       "  </thead>\n",
       "  <tbody>\n",
       "    <tr>\n",
       "      <th>0</th>\n",
       "      <td>100230403</td>\n",
       "      <td></td>\n",
       "      <td>Phone - Outbound</td>\n",
       "      <td>Member/Self</td>\n",
       "      <td></td>\n",
       "      <td></td>\n",
       "      <td>Attempt 1</td>\n",
       "      <td>Unsuccessful Left Message</td>\n",
       "      <td>2025-04-30 09:42:00</td>\n",
       "      <td>2025-04-30</td>\n",
       "      <td>0</td>\n",
       "      <td>1</td>\n",
       "      <td>['HRA Outreach']</td>\n",
       "      <td>[]</td>\n",
       "      <td>0</td>\n",
       "      <td>NaN</td>\n",
       "      <td>8.0</td>\n",
       "      <td>8.0</td>\n",
       "      <td>1.0</td>\n",
       "      <td>1.0</td>\n",
       "      <td>0.0</td>\n",
       "      <td>0</td>\n",
       "      <td>4.0</td>\n",
       "      <td>4.0</td>\n",
       "      <td>1.0</td>\n",
       "      <td>1.0</td>\n",
       "      <td>0.0</td>\n",
       "    </tr>\n",
       "    <tr>\n",
       "      <th>1</th>\n",
       "      <td>100678005</td>\n",
       "      <td></td>\n",
       "      <td>Phone - Outbound</td>\n",
       "      <td>Member/Self</td>\n",
       "      <td></td>\n",
       "      <td></td>\n",
       "      <td>Attempt 1</td>\n",
       "      <td>Successful Refused</td>\n",
       "      <td>2023-10-12 16:45:37</td>\n",
       "      <td>2023-10-12</td>\n",
       "      <td>0</td>\n",
       "      <td>1</td>\n",
       "      <td>['HRA Outreach']</td>\n",
       "      <td>['Adrienne  Matlock']</td>\n",
       "      <td>0</td>\n",
       "      <td>NaN</td>\n",
       "      <td>NaN</td>\n",
       "      <td>NaN</td>\n",
       "      <td>NaN</td>\n",
       "      <td>NaN</td>\n",
       "      <td>NaN</td>\n",
       "      <td>0</td>\n",
       "      <td>NaN</td>\n",
       "      <td>NaN</td>\n",
       "      <td>NaN</td>\n",
       "      <td>NaN</td>\n",
       "      <td>NaN</td>\n",
       "    </tr>\n",
       "  </tbody>\n",
       "</table>\n",
       "</div>"
      ],
      "text/plain": [
       "   Member_ID most_recent_cl_call_log_drctn_type_desc   \n",
       "0  100230403                                          \\\n",
       "1  100678005                                           \n",
       "\n",
       "  most_recent_cl_call_log_method_type_desc   \n",
       "0                         Phone - Outbound  \\\n",
       "1                         Phone - Outbound   \n",
       "\n",
       "  most_recent_cl_call_log_rel_type_desc most_recent_cl_object_typ_desc   \n",
       "0                           Member/Self                                 \\\n",
       "1                           Member/Self                                  \n",
       "\n",
       "  most_recent_cl_category_typ_desc most_recent_cl_attempts_typ_key_desc   \n",
       "0                                                             Attempt 1  \\\n",
       "1                                                             Attempt 1   \n",
       "\n",
       "  most_recent_cl_attempt_status_key_desc most_recent_cl_contact_dts   \n",
       "0              Unsuccessful Left Message        2025-04-30 09:42:00  \\\n",
       "1                     Successful Refused        2023-10-12 16:45:37   \n",
       "\n",
       "  most_recent_contact_date  most_recent_cur_utr  most_recent_cur_dtr   \n",
       "0               2025-04-30                    0                    1  \\\n",
       "1               2023-10-12                    0                    1   \n",
       "\n",
       "  most_recent_cl_call_log_type_desc most_recent_cl_comments_txt   \n",
       "0                  ['HRA Outreach']                          []  \\\n",
       "1                  ['HRA Outreach']       ['Adrienne  Matlock']   \n",
       "\n",
       "   final_utr_one_year_back recent_successful_calls   \n",
       "0                        0                     NaN  \\\n",
       "1                        0                     NaN   \n",
       "\n",
       "   total_call_count_one_year_back  total_non_successful_one_year_back   \n",
       "0                             8.0                                 8.0  \\\n",
       "1                             NaN                                 NaN   \n",
       "\n",
       "   non_successful_rate_one_year_back  final_dtr_one_year_back   \n",
       "0                                1.0                      1.0  \\\n",
       "1                                NaN                      NaN   \n",
       "\n",
       "   cm_engaged_one_year_back  final_utr_ytd  total_call_count_ytd   \n",
       "0                       0.0              0                   4.0  \\\n",
       "1                       NaN              0                   NaN   \n",
       "\n",
       "   total_non_successful_ytd  non_successful_rate_ytd  final_dtr_ytd   \n",
       "0                       4.0                      1.0            1.0  \\\n",
       "1                       NaN                      NaN            NaN   \n",
       "\n",
       "   cm_engaged_ytd  \n",
       "0             0.0  \n",
       "1             NaN  "
      ]
     },
     "execution_count": 19,
     "metadata": {},
     "output_type": "execute_result"
    }
   ],
   "source": [
    "member_cm_engagement_df = member_call_log_final_df.merge(member_call_log_final_df_ytd[ytd_columns + [\"Member_ID\"]], how=\"left\", on=\"Member_ID\")\n",
    "member_cm_engagement_df.head(2)"
   ]
  },
  {
   "cell_type": "code",
   "execution_count": 20,
   "metadata": {},
   "outputs": [
    {
     "data": {
      "text/plain": [
       "Timestamp('2025-06-04 00:54:00')"
      ]
     },
     "execution_count": 20,
     "metadata": {},
     "output_type": "execute_result"
    }
   ],
   "source": [
    "member_cm_engagement_df.most_recent_cl_contact_dts.max()"
   ]
  },
  {
   "cell_type": "code",
   "execution_count": 21,
   "metadata": {},
   "outputs": [],
   "source": [
    "#save it for monthly aggregation\n",
    "member_cm_engagement_df.to_parquet(f\"{output_path}/member_cm_engagement_df.parquet\")\n",
    "call_log_df.to_parquet(f'{output_path}/call_log_df.parquet')"
   ]
  },
  {
   "cell_type": "code",
   "execution_count": 22,
   "metadata": {},
   "outputs": [
    {
     "name": "stdout",
     "output_type": "stream",
     "text": [
      "2024-06-01\n",
      "2025-05-31\n",
      "2024-05-01\n",
      "2025-04-30\n",
      "2024-04-01\n",
      "2025-03-31\n",
      "2024-02-29\n",
      "2025-02-28\n",
      "2024-02-01\n",
      "2025-01-31\n",
      "2024-01-01\n",
      "2024-12-31\n",
      "2023-12-01\n",
      "2024-11-30\n",
      "2023-11-01\n",
      "2024-10-31\n",
      "2023-10-01\n",
      "2024-09-30\n",
      "2023-09-01\n",
      "2024-08-31\n",
      "2023-08-01\n",
      "2024-07-31\n",
      "2023-07-01\n",
      "2024-06-30\n",
      "2023-06-01\n",
      "2024-05-31\n",
      "2023-05-01\n",
      "2024-04-30\n",
      "2023-04-01\n",
      "2024-03-31\n",
      "2023-03-01\n",
      "2024-02-29\n",
      "2023-02-01\n",
      "2024-01-31\n",
      "2023-01-01\n",
      "2023-12-31\n",
      "2022-12-01\n",
      "2023-11-30\n",
      "2022-11-01\n",
      "2023-10-31\n",
      "2022-10-01\n",
      "2023-09-30\n",
      "2022-09-01\n",
      "2023-08-31\n",
      "2022-08-01\n",
      "2023-07-31\n",
      "2022-07-01\n",
      "2023-06-30\n",
      "moving month UTR to see how long member is on UTR status\n",
      "If members are on UTR more than 12month, count as Chronic UTR\n"
     ]
    }
   ],
   "source": [
    "#TODO update this path\n",
    "#condensed_member_path = r\"\\\\mbip\\medicarepBI\\Projects\\COE\\DSNP\\Ting\\condensed_dsnp_mbr_2025.pkl\"\n",
    "#condensed_member_path = output_path\n",
    "\n",
    "condensed_df = pd.read_parquet(f'{output_path}/condensed_dsnp_mbr.parquet')\n",
    "\n",
    "monthly_active_member_utr_dtr_df = callLogTransform.get_chronic_utr(call_log_df, condensed_df)"
   ]
  },
  {
   "cell_type": "code",
   "execution_count": 23,
   "metadata": {},
   "outputs": [
    {
     "data": {
      "text/html": [
       "<div>\n",
       "<style scoped>\n",
       "    .dataframe tbody tr th:only-of-type {\n",
       "        vertical-align: middle;\n",
       "    }\n",
       "\n",
       "    .dataframe tbody tr th {\n",
       "        vertical-align: top;\n",
       "    }\n",
       "\n",
       "    .dataframe thead th {\n",
       "        text-align: right;\n",
       "    }\n",
       "</style>\n",
       "<table border=\"1\" class=\"dataframe\">\n",
       "  <thead>\n",
       "    <tr style=\"text-align: right;\">\n",
       "      <th></th>\n",
       "      <th>Member_ID</th>\n",
       "      <th>active_month</th>\n",
       "      <th>total_call_count</th>\n",
       "      <th>total_non_successful</th>\n",
       "      <th>non_successful_rate</th>\n",
       "      <th>dtr</th>\n",
       "      <th>utr</th>\n",
       "      <th>utr_on_going_month</th>\n",
       "      <th>chronic_utr</th>\n",
       "    </tr>\n",
       "  </thead>\n",
       "  <tbody>\n",
       "    <tr>\n",
       "      <th>0</th>\n",
       "      <td>001006261015</td>\n",
       "      <td>2024-01-01</td>\n",
       "      <td>0.0</td>\n",
       "      <td>0.0</td>\n",
       "      <td>NaN</td>\n",
       "      <td>0.0</td>\n",
       "      <td>0.0</td>\n",
       "      <td>0.0</td>\n",
       "      <td>0</td>\n",
       "    </tr>\n",
       "    <tr>\n",
       "      <th>1</th>\n",
       "      <td>001006261015</td>\n",
       "      <td>2024-02-01</td>\n",
       "      <td>0.0</td>\n",
       "      <td>0.0</td>\n",
       "      <td>NaN</td>\n",
       "      <td>0.0</td>\n",
       "      <td>0.0</td>\n",
       "      <td>0.0</td>\n",
       "      <td>0</td>\n",
       "    </tr>\n",
       "    <tr>\n",
       "      <th>2</th>\n",
       "      <td>001006261015</td>\n",
       "      <td>2024-03-01</td>\n",
       "      <td>0.0</td>\n",
       "      <td>0.0</td>\n",
       "      <td>NaN</td>\n",
       "      <td>0.0</td>\n",
       "      <td>0.0</td>\n",
       "      <td>0.0</td>\n",
       "      <td>0</td>\n",
       "    </tr>\n",
       "    <tr>\n",
       "      <th>3</th>\n",
       "      <td>001006261015</td>\n",
       "      <td>2024-04-01</td>\n",
       "      <td>0.0</td>\n",
       "      <td>0.0</td>\n",
       "      <td>NaN</td>\n",
       "      <td>0.0</td>\n",
       "      <td>0.0</td>\n",
       "      <td>0.0</td>\n",
       "      <td>0</td>\n",
       "    </tr>\n",
       "    <tr>\n",
       "      <th>4</th>\n",
       "      <td>001006261015</td>\n",
       "      <td>2024-05-01</td>\n",
       "      <td>0.0</td>\n",
       "      <td>0.0</td>\n",
       "      <td>NaN</td>\n",
       "      <td>0.0</td>\n",
       "      <td>0.0</td>\n",
       "      <td>0.0</td>\n",
       "      <td>0</td>\n",
       "    </tr>\n",
       "    <tr>\n",
       "      <th>...</th>\n",
       "      <td>...</td>\n",
       "      <td>...</td>\n",
       "      <td>...</td>\n",
       "      <td>...</td>\n",
       "      <td>...</td>\n",
       "      <td>...</td>\n",
       "      <td>...</td>\n",
       "      <td>...</td>\n",
       "      <td>...</td>\n",
       "    </tr>\n",
       "    <tr>\n",
       "      <th>10236671</th>\n",
       "      <td>990013755019</td>\n",
       "      <td>2025-01-01</td>\n",
       "      <td>0.0</td>\n",
       "      <td>0.0</td>\n",
       "      <td>NaN</td>\n",
       "      <td>0.0</td>\n",
       "      <td>0.0</td>\n",
       "      <td>0.0</td>\n",
       "      <td>0</td>\n",
       "    </tr>\n",
       "    <tr>\n",
       "      <th>10236672</th>\n",
       "      <td>990013755019</td>\n",
       "      <td>2025-02-01</td>\n",
       "      <td>0.0</td>\n",
       "      <td>0.0</td>\n",
       "      <td>NaN</td>\n",
       "      <td>0.0</td>\n",
       "      <td>0.0</td>\n",
       "      <td>0.0</td>\n",
       "      <td>0</td>\n",
       "    </tr>\n",
       "    <tr>\n",
       "      <th>10236673</th>\n",
       "      <td>990013755019</td>\n",
       "      <td>2025-03-01</td>\n",
       "      <td>0.0</td>\n",
       "      <td>0.0</td>\n",
       "      <td>NaN</td>\n",
       "      <td>0.0</td>\n",
       "      <td>0.0</td>\n",
       "      <td>0.0</td>\n",
       "      <td>0</td>\n",
       "    </tr>\n",
       "    <tr>\n",
       "      <th>10236674</th>\n",
       "      <td>990013755019</td>\n",
       "      <td>2025-04-01</td>\n",
       "      <td>0.0</td>\n",
       "      <td>0.0</td>\n",
       "      <td>NaN</td>\n",
       "      <td>0.0</td>\n",
       "      <td>0.0</td>\n",
       "      <td>0.0</td>\n",
       "      <td>0</td>\n",
       "    </tr>\n",
       "    <tr>\n",
       "      <th>10236675</th>\n",
       "      <td>990013755019</td>\n",
       "      <td>2025-05-01</td>\n",
       "      <td>0.0</td>\n",
       "      <td>0.0</td>\n",
       "      <td>NaN</td>\n",
       "      <td>0.0</td>\n",
       "      <td>0.0</td>\n",
       "      <td>0.0</td>\n",
       "      <td>0</td>\n",
       "    </tr>\n",
       "  </tbody>\n",
       "</table>\n",
       "<p>10236676 rows × 9 columns</p>\n",
       "</div>"
      ],
      "text/plain": [
       "             Member_ID active_month  total_call_count  total_non_successful   \n",
       "0         001006261015   2024-01-01               0.0                   0.0  \\\n",
       "1         001006261015   2024-02-01               0.0                   0.0   \n",
       "2         001006261015   2024-03-01               0.0                   0.0   \n",
       "3         001006261015   2024-04-01               0.0                   0.0   \n",
       "4         001006261015   2024-05-01               0.0                   0.0   \n",
       "...                ...          ...               ...                   ...   \n",
       "10236671  990013755019   2025-01-01               0.0                   0.0   \n",
       "10236672  990013755019   2025-02-01               0.0                   0.0   \n",
       "10236673  990013755019   2025-03-01               0.0                   0.0   \n",
       "10236674  990013755019   2025-04-01               0.0                   0.0   \n",
       "10236675  990013755019   2025-05-01               0.0                   0.0   \n",
       "\n",
       "          non_successful_rate  dtr  utr  utr_on_going_month  chronic_utr  \n",
       "0                         NaN  0.0  0.0                 0.0            0  \n",
       "1                         NaN  0.0  0.0                 0.0            0  \n",
       "2                         NaN  0.0  0.0                 0.0            0  \n",
       "3                         NaN  0.0  0.0                 0.0            0  \n",
       "4                         NaN  0.0  0.0                 0.0            0  \n",
       "...                       ...  ...  ...                 ...          ...  \n",
       "10236671                  NaN  0.0  0.0                 0.0            0  \n",
       "10236672                  NaN  0.0  0.0                 0.0            0  \n",
       "10236673                  NaN  0.0  0.0                 0.0            0  \n",
       "10236674                  NaN  0.0  0.0                 0.0            0  \n",
       "10236675                  NaN  0.0  0.0                 0.0            0  \n",
       "\n",
       "[10236676 rows x 9 columns]"
      ]
     },
     "execution_count": 23,
     "metadata": {},
     "output_type": "execute_result"
    }
   ],
   "source": [
    "monthly_active_member_utr_dtr_df"
   ]
  },
  {
   "cell_type": "code",
   "execution_count": 24,
   "metadata": {},
   "outputs": [
    {
     "data": {
      "text/plain": [
       "<Axes: >"
      ]
     },
     "execution_count": 24,
     "metadata": {},
     "output_type": "execute_result"
    },
    {
     "data": {
      "image/png": "[encoded data removed]",
      "text/plain": [
       "<Figure size 640x480 with 1 Axes>"
      ]
     },
     "metadata": {},
     "output_type": "display_data"
    }
   ],
   "source": [
    "monthly_active_member_utr_dtr_df.non_successful_rate.hist()"
   ]
  },
  {
   "cell_type": "code",
   "execution_count": 25,
   "metadata": {},
   "outputs": [
    {
     "data": {
      "text/plain": [
       "chronic_utr\n",
       "0    10229736\n",
       "1        6940\n",
       "Name: count, dtype: int64"
      ]
     },
     "execution_count": 25,
     "metadata": {},
     "output_type": "execute_result"
    }
   ],
   "source": [
    "monthly_active_member_utr_dtr_df.chronic_utr.value_counts()"
   ]
  },
  {
   "cell_type": "code",
   "execution_count": 26,
   "metadata": {},
   "outputs": [
    {
     "data": {
      "text/html": [
       "<div>\n",
       "<style scoped>\n",
       "    .dataframe tbody tr th:only-of-type {\n",
       "        vertical-align: middle;\n",
       "    }\n",
       "\n",
       "    .dataframe tbody tr th {\n",
       "        vertical-align: top;\n",
       "    }\n",
       "\n",
       "    .dataframe thead th {\n",
       "        text-align: right;\n",
       "    }\n",
       "</style>\n",
       "<table border=\"1\" class=\"dataframe\">\n",
       "  <thead>\n",
       "    <tr style=\"text-align: right;\">\n",
       "      <th></th>\n",
       "      <th>Member_ID</th>\n",
       "      <th>active_month</th>\n",
       "      <th>total_call_count</th>\n",
       "      <th>total_non_successful</th>\n",
       "      <th>non_successful_rate</th>\n",
       "      <th>dtr</th>\n",
       "      <th>utr</th>\n",
       "      <th>utr_on_going_month</th>\n",
       "      <th>chronic_utr</th>\n",
       "    </tr>\n",
       "  </thead>\n",
       "  <tbody>\n",
       "    <tr>\n",
       "      <th>8826595</th>\n",
       "      <td>102008720800</td>\n",
       "      <td>2025-05-01</td>\n",
       "      <td>11.0</td>\n",
       "      <td>11.0</td>\n",
       "      <td>1.000000</td>\n",
       "      <td>0.0</td>\n",
       "      <td>1.0</td>\n",
       "      <td>12.0</td>\n",
       "      <td>1</td>\n",
       "    </tr>\n",
       "    <tr>\n",
       "      <th>8861166</th>\n",
       "      <td>102011038900</td>\n",
       "      <td>2025-05-01</td>\n",
       "      <td>14.0</td>\n",
       "      <td>13.0</td>\n",
       "      <td>0.928571</td>\n",
       "      <td>0.0</td>\n",
       "      <td>1.0</td>\n",
       "      <td>12.0</td>\n",
       "      <td>1</td>\n",
       "    </tr>\n",
       "    <tr>\n",
       "      <th>8880658</th>\n",
       "      <td>102012164300</td>\n",
       "      <td>2025-05-01</td>\n",
       "      <td>3.0</td>\n",
       "      <td>3.0</td>\n",
       "      <td>1.000000</td>\n",
       "      <td>0.0</td>\n",
       "      <td>1.0</td>\n",
       "      <td>12.0</td>\n",
       "      <td>1</td>\n",
       "    </tr>\n",
       "  </tbody>\n",
       "</table>\n",
       "</div>"
      ],
      "text/plain": [
       "            Member_ID active_month  total_call_count  total_non_successful   \n",
       "8826595  102008720800   2025-05-01              11.0                  11.0  \\\n",
       "8861166  102011038900   2025-05-01              14.0                  13.0   \n",
       "8880658  102012164300   2025-05-01               3.0                   3.0   \n",
       "\n",
       "         non_successful_rate  dtr  utr  utr_on_going_month  chronic_utr  \n",
       "8826595             1.000000  0.0  1.0                12.0            1  \n",
       "8861166             0.928571  0.0  1.0                12.0            1  \n",
       "8880658             1.000000  0.0  1.0                12.0            1  "
      ]
     },
     "execution_count": 26,
     "metadata": {},
     "output_type": "execute_result"
    }
   ],
   "source": [
    "monthly_active_member_utr_dtr_df[monthly_active_member_utr_dtr_df.chronic_utr==1].tail(3)"
   ]
  },
  {
   "cell_type": "code",
   "execution_count": 27,
   "metadata": {},
   "outputs": [
    {
     "data": {
      "text/html": [
       "<div>\n",
       "<style scoped>\n",
       "    .dataframe tbody tr th:only-of-type {\n",
       "        vertical-align: middle;\n",
       "    }\n",
       "\n",
       "    .dataframe tbody tr th {\n",
       "        vertical-align: top;\n",
       "    }\n",
       "\n",
       "    .dataframe thead th {\n",
       "        text-align: right;\n",
       "    }\n",
       "</style>\n",
       "<table border=\"1\" class=\"dataframe\">\n",
       "  <thead>\n",
       "    <tr style=\"text-align: right;\">\n",
       "      <th></th>\n",
       "      <th>Member_ID</th>\n",
       "      <th>most_recent_cl_call_log_drctn_type_desc</th>\n",
       "      <th>most_recent_cl_call_log_method_type_desc</th>\n",
       "      <th>most_recent_cl_call_log_rel_type_desc</th>\n",
       "      <th>most_recent_cl_object_typ_desc</th>\n",
       "      <th>most_recent_cl_category_typ_desc</th>\n",
       "      <th>most_recent_cl_attempts_typ_key_desc</th>\n",
       "      <th>most_recent_cl_attempt_status_key_desc</th>\n",
       "      <th>most_recent_cl_contact_dts</th>\n",
       "      <th>most_recent_contact_date</th>\n",
       "      <th>most_recent_cur_utr</th>\n",
       "      <th>most_recent_cur_dtr</th>\n",
       "      <th>most_recent_cl_call_log_type_desc</th>\n",
       "      <th>most_recent_cl_comments_txt</th>\n",
       "      <th>final_utr_one_year_back</th>\n",
       "      <th>recent_successful_calls</th>\n",
       "      <th>total_call_count_one_year_back</th>\n",
       "      <th>total_non_successful_one_year_back</th>\n",
       "      <th>non_successful_rate_one_year_back</th>\n",
       "      <th>final_dtr_one_year_back</th>\n",
       "      <th>cm_engaged_one_year_back</th>\n",
       "      <th>final_utr_ytd</th>\n",
       "      <th>total_call_count_ytd</th>\n",
       "      <th>total_non_successful_ytd</th>\n",
       "      <th>non_successful_rate_ytd</th>\n",
       "      <th>final_dtr_ytd</th>\n",
       "      <th>cm_engaged_ytd</th>\n",
       "    </tr>\n",
       "  </thead>\n",
       "  <tbody>\n",
       "    <tr>\n",
       "      <th>0</th>\n",
       "      <td>100230403</td>\n",
       "      <td></td>\n",
       "      <td>Phone - Outbound</td>\n",
       "      <td>Member/Self</td>\n",
       "      <td></td>\n",
       "      <td></td>\n",
       "      <td>Attempt 1</td>\n",
       "      <td>Unsuccessful Left Message</td>\n",
       "      <td>2025-04-30 09:42:00</td>\n",
       "      <td>2025-04-30</td>\n",
       "      <td>0</td>\n",
       "      <td>1</td>\n",
       "      <td>['HRA Outreach']</td>\n",
       "      <td>[]</td>\n",
       "      <td>0</td>\n",
       "      <td>NaN</td>\n",
       "      <td>8.0</td>\n",
       "      <td>8.0</td>\n",
       "      <td>1.000000</td>\n",
       "      <td>1.0</td>\n",
       "      <td>0.0</td>\n",
       "      <td>0</td>\n",
       "      <td>4.0</td>\n",
       "      <td>4.0</td>\n",
       "      <td>1.00</td>\n",
       "      <td>1.0</td>\n",
       "      <td>0.0</td>\n",
       "    </tr>\n",
       "    <tr>\n",
       "      <th>1</th>\n",
       "      <td>100678005</td>\n",
       "      <td></td>\n",
       "      <td>Phone - Outbound</td>\n",
       "      <td>Member/Self</td>\n",
       "      <td></td>\n",
       "      <td></td>\n",
       "      <td>Attempt 1</td>\n",
       "      <td>Successful Refused</td>\n",
       "      <td>2023-10-12 16:45:37</td>\n",
       "      <td>2023-10-12</td>\n",
       "      <td>0</td>\n",
       "      <td>1</td>\n",
       "      <td>['HRA Outreach']</td>\n",
       "      <td>['Adrienne  Matlock']</td>\n",
       "      <td>0</td>\n",
       "      <td>NaN</td>\n",
       "      <td>NaN</td>\n",
       "      <td>NaN</td>\n",
       "      <td>NaN</td>\n",
       "      <td>NaN</td>\n",
       "      <td>NaN</td>\n",
       "      <td>0</td>\n",
       "      <td>NaN</td>\n",
       "      <td>NaN</td>\n",
       "      <td>NaN</td>\n",
       "      <td>NaN</td>\n",
       "      <td>NaN</td>\n",
       "    </tr>\n",
       "    <tr>\n",
       "      <th>2</th>\n",
       "      <td>101039941100</td>\n",
       "      <td></td>\n",
       "      <td>Phone - Outbound</td>\n",
       "      <td>Member/Self</td>\n",
       "      <td></td>\n",
       "      <td></td>\n",
       "      <td>Attempt 3</td>\n",
       "      <td>Unsuccessful Left Message</td>\n",
       "      <td>2024-01-26 16:40:33</td>\n",
       "      <td>2024-01-26</td>\n",
       "      <td>0</td>\n",
       "      <td>1</td>\n",
       "      <td>['HRA Outreach']</td>\n",
       "      <td>['Diana Gonzalez']</td>\n",
       "      <td>0</td>\n",
       "      <td>NaN</td>\n",
       "      <td>NaN</td>\n",
       "      <td>NaN</td>\n",
       "      <td>NaN</td>\n",
       "      <td>NaN</td>\n",
       "      <td>NaN</td>\n",
       "      <td>0</td>\n",
       "      <td>NaN</td>\n",
       "      <td>NaN</td>\n",
       "      <td>NaN</td>\n",
       "      <td>NaN</td>\n",
       "      <td>NaN</td>\n",
       "    </tr>\n",
       "    <tr>\n",
       "      <th>3</th>\n",
       "      <td>101039985900</td>\n",
       "      <td></td>\n",
       "      <td>Phone - Outbound</td>\n",
       "      <td>Member/Self</td>\n",
       "      <td></td>\n",
       "      <td></td>\n",
       "      <td>Attempt 1</td>\n",
       "      <td>Unsuccessful No Answer</td>\n",
       "      <td>2025-05-19 09:25:00</td>\n",
       "      <td>2025-05-19</td>\n",
       "      <td>0</td>\n",
       "      <td>1</td>\n",
       "      <td>['Inpatient Outreach']</td>\n",
       "      <td>['THE HOSPITAL OF CENTRAL CONNECTICUT-NEW BRIT...</td>\n",
       "      <td>0</td>\n",
       "      <td>[{'cl_call_log_rel_type_desc': 'Member/Self', ...</td>\n",
       "      <td>10.0</td>\n",
       "      <td>6.0</td>\n",
       "      <td>0.600000</td>\n",
       "      <td>0.0</td>\n",
       "      <td>1.0</td>\n",
       "      <td>0</td>\n",
       "      <td>5.0</td>\n",
       "      <td>4.0</td>\n",
       "      <td>0.80</td>\n",
       "      <td>1.0</td>\n",
       "      <td>1.0</td>\n",
       "    </tr>\n",
       "    <tr>\n",
       "      <th>4</th>\n",
       "      <td>101039986100</td>\n",
       "      <td></td>\n",
       "      <td>Phone - Outbound</td>\n",
       "      <td>Member/Self</td>\n",
       "      <td></td>\n",
       "      <td></td>\n",
       "      <td>Attempt 1</td>\n",
       "      <td>Unsuccessful No Answer</td>\n",
       "      <td>2025-02-26 13:32:00</td>\n",
       "      <td>2025-02-26</td>\n",
       "      <td>0</td>\n",
       "      <td>1</td>\n",
       "      <td>['Annual Face to Face Visit', 'Care Planning']</td>\n",
       "      <td>['someone picked up and disconnected', 'someon...</td>\n",
       "      <td>0</td>\n",
       "      <td>[{'cl_call_log_rel_type_desc': 'Member/Self', ...</td>\n",
       "      <td>6.0</td>\n",
       "      <td>5.0</td>\n",
       "      <td>0.833333</td>\n",
       "      <td>1.0</td>\n",
       "      <td>1.0</td>\n",
       "      <td>0</td>\n",
       "      <td>4.0</td>\n",
       "      <td>3.0</td>\n",
       "      <td>0.75</td>\n",
       "      <td>1.0</td>\n",
       "      <td>1.0</td>\n",
       "    </tr>\n",
       "  </tbody>\n",
       "</table>\n",
       "</div>"
      ],
      "text/plain": [
       "      Member_ID most_recent_cl_call_log_drctn_type_desc   \n",
       "0     100230403                                          \\\n",
       "1     100678005                                           \n",
       "2  101039941100                                           \n",
       "3  101039985900                                           \n",
       "4  101039986100                                           \n",
       "\n",
       "  most_recent_cl_call_log_method_type_desc   \n",
       "0                         Phone - Outbound  \\\n",
       "1                         Phone - Outbound   \n",
       "2                         Phone - Outbound   \n",
       "3                         Phone - Outbound   \n",
       "4                         Phone - Outbound   \n",
       "\n",
       "  most_recent_cl_call_log_rel_type_desc most_recent_cl_object_typ_desc   \n",
       "0                           Member/Self                                 \\\n",
       "1                           Member/Self                                  \n",
       "2                           Member/Self                                  \n",
       "3                           Member/Self                                  \n",
       "4                           Member/Self                                  \n",
       "\n",
       "  most_recent_cl_category_typ_desc most_recent_cl_attempts_typ_key_desc   \n",
       "0                                                             Attempt 1  \\\n",
       "1                                                             Attempt 1   \n",
       "2                                                             Attempt 3   \n",
       "3                                                             Attempt 1   \n",
       "4                                                             Attempt 1   \n",
       "\n",
       "  most_recent_cl_attempt_status_key_desc most_recent_cl_contact_dts   \n",
       "0              Unsuccessful Left Message        2025-04-30 09:42:00  \\\n",
       "1                     Successful Refused        2023-10-12 16:45:37   \n",
       "2              Unsuccessful Left Message        2024-01-26 16:40:33   \n",
       "3                 Unsuccessful No Answer        2025-05-19 09:25:00   \n",
       "4                 Unsuccessful No Answer        2025-02-26 13:32:00   \n",
       "\n",
       "  most_recent_contact_date  most_recent_cur_utr  most_recent_cur_dtr   \n",
       "0               2025-04-30                    0                    1  \\\n",
       "1               2023-10-12                    0                    1   \n",
       "2               2024-01-26                    0                    1   \n",
       "3               2025-05-19                    0                    1   \n",
       "4               2025-02-26                    0                    1   \n",
       "\n",
       "                most_recent_cl_call_log_type_desc   \n",
       "0                                ['HRA Outreach']  \\\n",
       "1                                ['HRA Outreach']   \n",
       "2                                ['HRA Outreach']   \n",
       "3                          ['Inpatient Outreach']   \n",
       "4  ['Annual Face to Face Visit', 'Care Planning']   \n",
       "\n",
       "                         most_recent_cl_comments_txt  final_utr_one_year_back   \n",
       "0                                                 []                        0  \\\n",
       "1                              ['Adrienne  Matlock']                        0   \n",
       "2                                 ['Diana Gonzalez']                        0   \n",
       "3  ['THE HOSPITAL OF CENTRAL CONNECTICUT-NEW BRIT...                        0   \n",
       "4  ['someone picked up and disconnected', 'someon...                        0   \n",
       "\n",
       "                             recent_successful_calls   \n",
       "0                                                NaN  \\\n",
       "1                                                NaN   \n",
       "2                                                NaN   \n",
       "3  [{'cl_call_log_rel_type_desc': 'Member/Self', ...   \n",
       "4  [{'cl_call_log_rel_type_desc': 'Member/Self', ...   \n",
       "\n",
       "   total_call_count_one_year_back  total_non_successful_one_year_back   \n",
       "0                             8.0                                 8.0  \\\n",
       "1                             NaN                                 NaN   \n",
       "2                             NaN                                 NaN   \n",
       "3                            10.0                                 6.0   \n",
       "4                             6.0                                 5.0   \n",
       "\n",
       "   non_successful_rate_one_year_back  final_dtr_one_year_back   \n",
       "0                           1.000000                      1.0  \\\n",
       "1                                NaN                      NaN   \n",
       "2                                NaN                      NaN   \n",
       "3                           0.600000                      0.0   \n",
       "4                           0.833333                      1.0   \n",
       "\n",
       "   cm_engaged_one_year_back  final_utr_ytd  total_call_count_ytd   \n",
       "0                       0.0              0                   4.0  \\\n",
       "1                       NaN              0                   NaN   \n",
       "2                       NaN              0                   NaN   \n",
       "3                       1.0              0                   5.0   \n",
       "4                       1.0              0                   4.0   \n",
       "\n",
       "   total_non_successful_ytd  non_successful_rate_ytd  final_dtr_ytd   \n",
       "0                       4.0                     1.00            1.0  \\\n",
       "1                       NaN                      NaN            NaN   \n",
       "2                       NaN                      NaN            NaN   \n",
       "3                       4.0                     0.80            1.0   \n",
       "4                       3.0                     0.75            1.0   \n",
       "\n",
       "   cm_engaged_ytd  \n",
       "0             0.0  \n",
       "1             NaN  \n",
       "2             NaN  \n",
       "3             1.0  \n",
       "4             1.0  "
      ]
     },
     "execution_count": 27,
     "metadata": {},
     "output_type": "execute_result"
    }
   ],
   "source": [
    "member_cm_engagement_df.head()"
   ]
  },
  {
   "cell_type": "code",
   "execution_count": 28,
   "metadata": {},
   "outputs": [],
   "source": [
    "monthly_active_member_utr_dtr_df.to_parquet(f'{output_path}/monthly_active_member_utr_dtr_df.parquet')"
   ]
  },
  {
   "cell_type": "code",
   "execution_count": 29,
   "metadata": {},
   "outputs": [
    {
     "name": "stdout",
     "output_type": "stream",
     "text": [
      "Process time -- 5637.500629901886 seconds\n"
     ]
    }
   ],
   "source": [
    "print(\"Process time -- %s seconds\" % (time.time() - start_time))"
   ]
  }
 ],
 "metadata": {
  "kernelspec": {
   "display_name": "Python 3",
   "language": "python",
   "name": "python3"
  },
  "language_info": {
   "codemirror_mode": {
    "name": "ipython",
    "version": 3
   },
   "file_extension": ".py",
   "mimetype": "text/x-python",
   "name": "python",
   "nbconvert_exporter": "python",
   "pygments_lexer": "ipython3",
   "version": "3.10.2"
  },
  "orig_nbformat": 4,
  "vscode": {
   "interpreter": {
    "hash": "ca49e4e1b88eed2b9544455cc8bcce643dcbc593713c2910e162ad7a95386c9e"
   }
  }
 },
 "nbformat": 4,
 "nbformat_minor": 2
}
