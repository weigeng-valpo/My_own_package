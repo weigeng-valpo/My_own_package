{
 "cells": [
  {
   "cell_type": "code",
   "execution_count": 1,
   "metadata": {},
   "outputs": [],
   "source": [
    "#for dev purpose\n",
    "import os\n",
    "USERNAME = os.getenv('USERNAME').lower()\n",
    "new_pull = True"
   ]
  },
  {
   "cell_type": "code",
   "execution_count": 2,
   "metadata": {},
   "outputs": [
    {
     "name": "stdout",
     "output_type": "stream",
     "text": [
      "User: a845514 Started creating ked_gap_status_df in the shared storage\n"
     ]
    }
   ],
   "source": [
    "# import python packages\n",
    "import sys\n",
    "if sys.version_info[1]==12:\n",
    "    os.add_dll_directory(r'C:/Program Files/Python/312/Lib/site-packages/clidriver/bin')\n",
    "else:\n",
    "    pass\n",
    "import pandas as pd\n",
    "import datetime as dt\n",
    "import time\n",
    "import warnings\n",
    "from dateutil.relativedelta import relativedelta\n",
    "from snp_query_box import DsnpHelperFunction, snpQueries\n",
    "from snp_query_box.dsnp_transform import dsnpTransform\n",
    "\n",
    "warnings.filterwarnings(\"ignore\")\n",
    "pd.set_option(\"display.max_columns\", None)\n",
    "print(f\"User: {USERNAME} Started creating ked_gap_status_df in the shared storage\")"
   ]
  },
  {
   "cell_type": "code",
   "execution_count": 3,
   "metadata": {},
   "outputs": [],
   "source": [
    "# set the starting time\n",
    "start_time = time.time()"
   ]
  },
  {
   "cell_type": "code",
   "execution_count": 4,
   "metadata": {},
   "outputs": [
    {
     "name": "stdout",
     "output_type": "stream",
     "text": [
      "2025-05-01\n",
      "2024-06-01\n",
      "2025-05-31\n"
     ]
    }
   ],
   "source": [
    "# calculate the dates\n",
    "today = dt.datetime.today()\n",
    "today_str = today.strftime('%Y-%m-%d')\n",
    "last_date_of_last_month_str = DsnpHelperFunction.last_date_of_last_month(today_str, output_type=\"string\")\n",
    "last_date_of_last_month = DsnpHelperFunction.last_date_of_last_month(today_str)\n",
    "first_date_of_month = dt.datetime.today().replace(day=1)\n",
    "first_date_of_last_month = first_date_of_month - relativedelta(months=1)\n",
    "call_log_date2 = pd.to_datetime(first_date_of_last_month).date()\n",
    "print(call_log_date2)\n",
    "call_log_date1 = pd.to_datetime(last_date_of_last_month + dt.timedelta(days=1) - relativedelta(years = 1)).date()\n",
    "print(call_log_date1)\n",
    "\n",
    "reporting_end_date = last_date_of_last_month_str\n",
    "print(reporting_end_date)"
   ]
  },
  {
   "cell_type": "code",
   "execution_count": 5,
   "metadata": {},
   "outputs": [
    {
     "name": "stdout",
     "output_type": "stream",
     "text": [
      "//mbip/medicarepBI/Projects/COE/DSNP/dsnp_data_storage/monthly_flat_files/2025-05-31\n",
      "The folder already exist\n",
      "Output files will sit in the folder above.\n"
     ]
    }
   ],
   "source": [
    "# set the storage and output path\n",
    "storage_path = r'//mbip/medicarepBI/Projects/COE/DSNP/dsnp_data_storage/monthly_flat_files'\n",
    "output_path = f'{storage_path}/{reporting_end_date}'\n",
    "\n",
    "isExist = os.path.exists(output_path)\n",
    "print(output_path)\n",
    "if not isExist:\n",
    "    # Create a new directory because it does not exist\n",
    "     os.makedirs(output_path)\n",
    "     print(\"The new directory is created!\")\n",
    "else:\n",
    "      print(\"The folder already exist\")\n",
    "print(\"Output files will sit in the folder above.\")"
   ]
  },
  {
   "cell_type": "code",
   "execution_count": 6,
   "metadata": {},
   "outputs": [
    {
     "name": "stderr",
     "output_type": "stream",
     "text": [
      "100%|██████████| 1036411/1036411 [00:20<00:00, 50635.73it/s]\n"
     ]
    }
   ],
   "source": [
    "#locate data dump folder\n",
    "if new_pull:\n",
    "    pull_ked_gap_status = snpQueries.pull_ked_gap_status(reporting_year=2025)\n",
    "    ked_gap_status_df = dsnpTransform.get_ked_gap_status(pull_ked_gap_status)\n",
    "    ked_gap_status_df.to_parquet(f\"{output_path}/ked_gap_status_df.parquet\")\n",
    "else:\n",
    "    try:\n",
    "        ked_gap_status_df = pd.read_parquet(f\"{output_path}/ked_gap_status_df.parquet\")\n",
    "\n",
    "    except:\n",
    "        pull_ked_gap_status = snpQueries.pull_ked_gap_status(reporting_year=2025)\n",
    "        ked_gap_status_df = dsnpTransform.get_ked_gap_status(pull_ked_gap_status)\n",
    "\n",
    "        ked_gap_status_df.to_parquet(f\"{output_path}/ked_gap_status_df.parquet\")"
   ]
  },
  {
   "cell_type": "code",
   "execution_count": 7,
   "metadata": {},
   "outputs": [
    {
     "name": "stdout",
     "output_type": "stream",
     "text": [
      "(674819, 8)\n",
      "       SourceMemberID  StarsMemberID           MBI  MeasureID   \n",
      "352088   101609903700       12508963   1A00F91YE22     600484  \\\n",
      "82701    101194058700         999472  1A00GE2YA30      600484   \n",
      "452065   101833090400       22432653   1A00GN8QH45     600484   \n",
      "\n",
      "       LogicalOperatorCode  ReportingYear             LastUpdated   \n",
      "352088                  OR           2025 2025-05-12 19:33:25.000  \\\n",
      "82701                   OR           2025 2025-05-24 11:30:50.447   \n",
      "452065                  OR           2025 2025-05-12 19:33:25.000   \n",
      "\n",
      "           ked_status_desc  \n",
      "352088  [yes:eGFR no:uACR]  \n",
      "82701    [no:eGFR no:uACR]  \n",
      "452065  [yes:eGFR no:uACR]  \n"
     ]
    }
   ],
   "source": [
    "print(ked_gap_status_df.shape)\n",
    "print(ked_gap_status_df.head(3))"
   ]
  },
  {
   "cell_type": "code",
   "execution_count": 10,
   "metadata": {},
   "outputs": [
    {
     "data": {
      "text/plain": [
       "ked_status_desc\n",
       "[yes:eGFR no:uACR]                               365582\n",
       "[no:eGFR no:uACR]                                245777\n",
       "[no:eGFR yes:uACR, urine test > 4 days apart]     43762\n",
       "[no:eGFR yes:uACR]                                19017\n",
       "[urine test > 4 days apart]                         681\n",
       "Name: count, dtype: int64"
      ]
     },
     "execution_count": 10,
     "metadata": {},
     "output_type": "execute_result"
    }
   ],
   "source": [
    "ked_gap_status_df[\"ked_status_desc\"].value_counts()"
   ]
  },
  {
   "cell_type": "code",
   "execution_count": 9,
   "metadata": {},
   "outputs": [
    {
     "name": "stdout",
     "output_type": "stream",
     "text": [
      "Process time -- 77.02029848098755 seconds\n"
     ]
    }
   ],
   "source": [
    "# output the process time\n",
    "print(\"Process time -- %s seconds\" % (time.time() - start_time))"
   ]
  }
 ],
 "metadata": {
  "kernelspec": {
   "display_name": "Python 3",
   "language": "python",
   "name": "python3"
  },
  "language_info": {
   "codemirror_mode": {
    "name": "ipython",
    "version": 3
   },
   "file_extension": ".py",
   "mimetype": "text/x-python",
   "name": "python",
   "nbconvert_exporter": "python",
   "pygments_lexer": "ipython3",
   "version": "3.10.2"
  },
  "orig_nbformat": 4,
  "vscode": {
   "interpreter": {
    "hash": "ca49e4e1b88eed2b9544455cc8bcce643dcbc593713c2910e162ad7a95386c9e"
   }
  }
 },
 "nbformat": 4,
 "nbformat_minor": 2
}
