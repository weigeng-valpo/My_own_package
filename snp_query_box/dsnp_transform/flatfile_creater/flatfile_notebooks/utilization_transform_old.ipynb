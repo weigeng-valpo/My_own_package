{
 "cells": [
  {
   "cell_type": "code",
   "execution_count": null,
   "metadata": {},
   "outputs": [],
   "source": [
    "from snp_query_box.dsnp_transform import dsnpTransform"
   ]
  },
  {
   "cell_type": "code",
   "execution_count": null,
   "metadata": {},
   "outputs": [],
   "source": [
    "#for dev purpose\n",
    "import getpass\n",
    "import os\n",
    "USERNAME = os.getenv('USERNAME').lower()\n",
    "PASSWORD = getpass.getpass()\n",
    "new_pull = True"
   ]
  },
  {
   "cell_type": "code",
   "execution_count": null,
   "metadata": {},
   "outputs": [],
   "source": [
    "import os\n",
    "import pandas as pd\n",
    "import numpy as np\n",
    "\n",
    "import datetime as dt\n",
    "import time\n",
    "import warnings\n",
    "from dateutil.relativedelta import relativedelta\n",
    "\n",
    "\n",
    "from snp_query_box import DsnpHelperFunction, snpQueries, populDashQueries\n",
    "\n",
    "warnings.filterwarnings(\"ignore\")\n",
    "pd.set_option(\"display.max_columns\", None)"
   ]
  },
  {
   "cell_type": "code",
   "execution_count": null,
   "metadata": {},
   "outputs": [],
   "source": [
    "print(f\"User: {USERNAME} Started creating pull_utilization, pull_er_visit, pull_ip_visit_from_hedis and *_12month in the shared storage\")"
   ]
  },
  {
   "cell_type": "code",
   "execution_count": null,
   "metadata": {},
   "outputs": [],
   "source": [
    "start_time = time.time()"
   ]
  },
  {
   "cell_type": "code",
   "execution_count": null,
   "metadata": {},
   "outputs": [],
   "source": [
    "today = dt.datetime.today()\n",
    "today_str = today.strftime('%Y-%m-%d')\n",
    "last_date_of_last_month_str = DsnpHelperFunction.last_date_of_last_month(today_str, output_type=\"string\")\n",
    "last_date_of_last_month = DsnpHelperFunction.last_date_of_last_month(today_str)\n",
    "\n",
    "last_month = last_date_of_last_month_str[:7]\n",
    "one_year_rolling_back_date = pd.Timestamp(last_date_of_last_month + dt.timedelta(days=1) - relativedelta(years = 1))\n",
    "print(one_year_rolling_back_date)\n",
    "\n",
    "first_date_of_year = DsnpHelperFunction.first_date_of_year(today_str, output_type=\"string\")\n",
    "print(first_date_of_year)\n",
    "first_date_of_last_month_str = DsnpHelperFunction.first_date_of_last_month(today_str, output_type=\"string\")\n",
    "print(first_date_of_last_month_str)\n",
    "\n",
    "pulled_data_date = last_month\n",
    "comp_report_data_month = last_month\n",
    "hra_report_data_month = last_month\n",
    "reporting_end_date = last_date_of_last_month_str\n",
    "print(reporting_end_date)"
   ]
  },
  {
   "cell_type": "code",
   "execution_count": null,
   "metadata": {},
   "outputs": [],
   "source": [
    "one_year_rolling_back_date"
   ]
  },
  {
   "cell_type": "code",
   "execution_count": null,
   "metadata": {},
   "outputs": [],
   "source": [
    "storage_path = r'//mbip/medicarepBI/Projects/COE/DSNP/dsnp_data_storage/monthly_flat_files'\n",
    "output_path = f'{storage_path}/{reporting_end_date}'\n",
    "\n",
    "isExist = os.path.exists(output_path)\n",
    "print(output_path)\n",
    "if not isExist:\n",
    "    # Create a new directory because it does not exist\n",
    "     os.makedirs(output_path)\n",
    "     print(\"The new directory is created!\")\n",
    "else:\n",
    "      print(\"The folder already exist\")\n",
    "print(\"Output files will sit in the folder above.\")"
   ]
  },
  {
   "cell_type": "code",
   "execution_count": null,
   "metadata": {},
   "outputs": [],
   "source": [
    "reporting_year=2025"
   ]
  },
  {
   "cell_type": "code",
   "execution_count": null,
   "metadata": {},
   "outputs": [],
   "source": [
    "# if transition time first month...\n",
    "if today_str.split('-')[1] =='01':\n",
    "    first_date_of_year = str(int(first_date_of_year.split('-')[0])-1) + \\\n",
    "        '-01-01'\n",
    "    print('Trainsition time, first date of year is updated by previous year:' + first_date_of_year)\n",
    "    #first_date_of_year = '2024-01-01'"
   ]
  },
  {
   "cell_type": "code",
   "execution_count": null,
   "metadata": {},
   "outputs": [],
   "source": [
    "#locate data dump folder\n",
    "if new_pull:\n",
    "    pull_utilization_12month = populDashQueries.pull_utilization(USERNAME, PASSWORD, start_date=one_year_rolling_back_date, end_date=reporting_end_date, reporting_year=reporting_year)\n",
    "    pull_er_visit_12month = populDashQueries.pull_er_visit(USERNAME, PASSWORD, start_date=one_year_rolling_back_date, end_date=reporting_end_date, reporting_year=reporting_year)\n",
    "    pull_ip_visit_12month = populDashQueries.pull_ip_visit_from_hedis(start_date=one_year_rolling_back_date, end_date=reporting_end_date)\n",
    "\n",
    "    pull_utilization_12month.to_parquet(f\"{output_path}/pull_utilization_12month.parquet\")\n",
    "    pull_er_visit_12month.to_parquet(f\"{output_path}/pull_er_visit_12month.parquet\")\n",
    "    pull_ip_visit_12month.to_parquet(f\"{output_path}/pull_ip_visit_12month.parquet\")\n",
    "else:\n",
    "    try:\n",
    "        pull_utilization_12month = pd.read_parquet(f\"{output_path}/pull_utilization_12month.parquet\")\n",
    "        pull_er_visit_12month = pd.read_parquet(f\"{output_path}/pull_er_visit_12month.parquet\")\n",
    "        pull_ip_visit_12month = pd.read_parquet(f\"{output_path}/pull_ip_visit_12month.parquet\")\n",
    "\n",
    "    except:\n",
    "        pull_utilization_12month = populDashQueries.pull_utilization(USERNAME, PASSWORD, start_date=one_year_rolling_back_date, end_date=reporting_end_date, reporting_year=reporting_year)\n",
    "        pull_er_visit_12month = populDashQueries.pull_er_visit(USERNAME, PASSWORD, start_date=one_year_rolling_back_date, end_date=reporting_end_date, reporting_year=reporting_year)\n",
    "        pull_ip_visit_12month = populDashQueries.pull_ip_visit_from_hedis(start_date=one_year_rolling_back_date, end_date=reporting_end_date)\n",
    "\n",
    "        pull_utilization_12month.to_parquet(f\"{output_path}/pull_utilization_12month.parquet\")\n",
    "        pull_er_visit_12month.to_parquet(f\"{output_path}/pull_er_visit_12month.parquet\")\n",
    "        pull_ip_visit_12month.to_parquet(f\"{output_path}/pull_ip_visit_12month.parquet\")"
   ]
  },
  {
   "cell_type": "code",
   "execution_count": null,
   "metadata": {},
   "outputs": [],
   "source": [
    "pull_utilization_12month.head()"
   ]
  },
  {
   "cell_type": "code",
   "execution_count": null,
   "metadata": {},
   "outputs": [],
   "source": [
    "pull_utilization_ytd = populDashQueries.pull_utilization(USERNAME, PASSWORD, start_date=first_date_of_year, end_date=reporting_end_date, reporting_year=reporting_year)\n"
   ]
  },
  {
   "cell_type": "code",
   "execution_count": null,
   "metadata": {},
   "outputs": [],
   "source": [
    "pull_er_visit_ytd = pull_er_visit_12month[pull_er_visit_12month[\"srv_start_dt\"]>=np.datetime64(first_date_of_year)]\n",
    "pull_ip_visit_ytd = pull_ip_visit_12month[pull_ip_visit_12month[\"AdmitDate\"]>=np.datetime64(first_date_of_year)]"
   ]
  },
  {
   "cell_type": "code",
   "execution_count": null,
   "metadata": {},
   "outputs": [],
   "source": [
    "#Prepare call log data, one year back\n",
    "utilization_df_ytd = dsnpTransform.get_utilization(pull_utilization_ytd, pull_ip_visit_ytd, pull_er_visit_ytd)\n",
    "utilization_df_12month = dsnpTransform.get_utilization(pull_utilization_12month, pull_ip_visit_12month, pull_er_visit_12month)"
   ]
  },
  {
   "cell_type": "code",
   "execution_count": null,
   "metadata": {},
   "outputs": [],
   "source": [
    "#save it for monthly aggregation\n",
    "utilization_df_ytd.to_parquet(f\"{output_path}/utilization_df_ytd.parquet\")\n",
    "utilization_df_12month.to_parquet(f\"{output_path}/utilization_df_12month.parquet\")"
   ]
  },
  {
   "cell_type": "code",
   "execution_count": null,
   "metadata": {},
   "outputs": [],
   "source": [
    "utilization_df_ytd.head()"
   ]
  },
  {
   "cell_type": "code",
   "execution_count": null,
   "metadata": {},
   "outputs": [],
   "source": [
    "print(\"Process time -- %s seconds\" % (time.time() - start_time))"
   ]
  }
 ],
 "metadata": {
  "kernelspec": {
   "display_name": "Python 3",
   "language": "python",
   "name": "python3"
  },
  "language_info": {
   "codemirror_mode": {
    "name": "ipython",
    "version": 3
   },
   "file_extension": ".py",
   "mimetype": "text/x-python",
   "name": "python",
   "nbconvert_exporter": "python",
   "pygments_lexer": "ipython3",
   "version": "3.10.2"
  },
  "orig_nbformat": 4,
  "vscode": {
   "interpreter": {
    "hash": "ca49e4e1b88eed2b9544455cc8bcce643dcbc593713c2910e162ad7a95386c9e"
   }
  }
 },
 "nbformat": 4,
 "nbformat_minor": 2
}
