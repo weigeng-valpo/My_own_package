{
 "cells": [
  {
   "cell_type": "code",
   "execution_count": null,
   "metadata": {},
   "outputs": [],
   "source": [
    "# for dev purpose - get username\n",
    "import os\n",
    "USERNAME = os.getenv('USERNAME').lower()\n",
    "new_pull = True"
   ]
  },
  {
   "cell_type": "code",
   "execution_count": null,
   "metadata": {},
   "outputs": [],
   "source": [
    "# import python packages\n",
    "import sys\n",
    "if sys.version_info[1]==12:\n",
    "    os.add_dll_directory(r'C:/Program Files/Python/312/Lib/site-packages/clidriver/bin')\n",
    "else:\n",
    "    pass\n",
    "import pandas as pd\n",
    "import numpy as np\n",
    "import datetime as dt\n",
    "import time\n",
    "import warnings\n",
    "from snp_query_box import DsnpHelperFunction, snpQueries\n",
    "from snp_query_box.dsnp_transform import clinicalConditionsTransform\n",
    "\n",
    "warnings.filterwarnings(\"ignore\")\n",
    "pd.set_option(\"display.max_columns\", None)\n",
    "print(f\"User: {USERNAME} Started creating member_phone_info_df in the shared storage\")"
   ]
  },
  {
   "cell_type": "code",
   "execution_count": null,
   "metadata": {},
   "outputs": [],
   "source": [
    "# set the starting time\n",
    "start_time = time.time()"
   ]
  },
  {
   "cell_type": "code",
   "execution_count": null,
   "metadata": {},
   "outputs": [],
   "source": [
    "# calculate the dates\n",
    "today = dt.datetime.today()\n",
    "today_str = today.strftime('%Y-%m-%d')\n",
    "last_date_of_last_month_str = DsnpHelperFunction.last_date_of_last_month(today_str, output_type=\"string\")\n",
    "last_date_of_last_month = DsnpHelperFunction.last_date_of_last_month(today_str)\n",
    "reporting_year_value=last_date_of_last_month.year\n",
    "print(reporting_year_value)\n",
    "reporting_end_date = last_date_of_last_month_str\n",
    "print(reporting_end_date)"
   ]
  },
  {
   "cell_type": "code",
   "execution_count": null,
   "metadata": {},
   "outputs": [],
   "source": [
    "# set the storage and output path\n",
    "storage_path = r'//mbip/medicarepBI/Projects/COE/DSNP/dsnp_data_storage/monthly_flat_files'\n",
    "output_path = f'{storage_path}/{reporting_end_date}'\n",
    "\n",
    "isExist = os.path.exists(output_path)\n",
    "print(output_path)\n",
    "if not isExist:\n",
    "    # Create a new directory because it does not exist\n",
    "     os.makedirs(output_path)\n",
    "     print(\"The new directory is created!\")\n",
    "else:\n",
    "      print(\"The folder already exist\")\n",
    "print(\"Output files will sit in the folder above.\")"
   ]
  },
  {
   "cell_type": "code",
   "execution_count": null,
   "metadata": {},
   "outputs": [],
   "source": [
    "# locate data dump folder\n",
    "\n",
    "if new_pull:\n",
    "    pull_member_phone_info = snpQueries.pull_member_phone_info()\n",
    "    pull_member_do_not_mail = snpQueries.pull_member_do_not_mail()\n",
    "    pull_member_do_not_mail[\"ok_to_mail_ind\"] = np.where(pull_member_do_not_mail[\"DirectMailPermInd\"] == 'Y', 1, 0)\n",
    "\n",
    "    pull_member_phone_info.to_parquet(f\"{output_path}/pull_member_phone_info.parquet\")\n",
    "    pull_member_do_not_mail.to_parquet(f\"{output_path}/pull_member_do_not_mail.parquet\")\n",
    "else:\n",
    "    try:\n",
    "        pull_member_phone_info = pd.read_parquet(f\"{output_path}/pull_member_phone_info.parquet\")\n",
    "        pull_member_do_not_mail = pd.read_parquet(f\"{output_path}/pull_member_do_not_mail.parquet\")\n",
    "\n",
    "    except:\n",
    "        pull_member_phone_info = snpQueries.pull_member_phone_info()\n",
    "        pull_member_do_not_mail = snpQueries.pull_member_do_not_mail()\n",
    "        pull_member_do_not_mail[\"ok_to_mail_ind\"] = np.where(pull_member_do_not_mail[\"DirectMailPermInd\"] == 'Y', 1, 0)\n",
    "\n",
    "        pull_member_phone_info.to_parquet(f\"{output_path}/pull_member_phone_info.parquet\")\n",
    "        pull_member_do_not_mail.to_parquet(f\"{output_path}/pull_member_do_not_mail.parquet\")"
   ]
  },
  {
   "cell_type": "code",
   "execution_count": null,
   "metadata": {},
   "outputs": [],
   "source": [
    "#dnc registry\n",
    "dnc_registry_df = pd.read_csv('http://aetnet.aetna.com/dnc/documents/ATN.zip', compression='zip', header=0, sep='|', \n",
    "                usecols=['PHONE_NUMBER']).drop_duplicates().reset_index(drop=True)"
   ]
  },
  {
   "cell_type": "code",
   "execution_count": null,
   "metadata": {},
   "outputs": [],
   "source": [
    "pull_member_phone_info[\"PhoneNumber\"] = pull_member_phone_info[\"PhoneNumber\"].astype(str)\n",
    "dnc_registry_list = dnc_registry_df[\"PHONE_NUMBER\"].astype(str).tolist()\n"
   ]
  },
  {
   "cell_type": "code",
   "execution_count": null,
   "metadata": {},
   "outputs": [],
   "source": [
    "pull_member_phone_info[\"final_dnc_ind\"] = np.where(pull_member_phone_info[\"PhoneNumber\"].isin(dnc_registry_list), 1,\n",
    "                                                   np.where(pull_member_phone_info[\"DNCInd\"]==\"Y\", 1,\n",
    "                                                            np.where(pull_member_phone_info[\"TCPAConsentInd\"]=='N', 1\n",
    "                                                                     ,0))\n",
    "                                                                     )"
   ]
  },
  {
   "cell_type": "code",
   "execution_count": null,
   "metadata": {},
   "outputs": [],
   "source": [
    "member_phone_info_df = pull_member_phone_info.drop_duplicates()"
   ]
  },
  {
   "cell_type": "code",
   "execution_count": null,
   "metadata": {},
   "outputs": [],
   "source": [
    "# output the top rows and size\n",
    "print(member_phone_info_df.shape)\n",
    "member_phone_info_df.head(3)"
   ]
  },
  {
   "cell_type": "code",
   "execution_count": null,
   "metadata": {},
   "outputs": [],
   "source": [
    "member_phone_info_df.to_parquet(f\"{output_path}/member_phone_info_df.parquet\")"
   ]
  },
  {
   "cell_type": "code",
   "execution_count": null,
   "metadata": {},
   "outputs": [],
   "source": [
    "# output the process time\n",
    "print(\"Process time -- %s seconds\" % (time.time() - start_time))"
   ]
  }
 ],
 "metadata": {
  "kernelspec": {
   "display_name": "Python 3",
   "language": "python",
   "name": "python3"
  },
  "language_info": {
   "codemirror_mode": {
    "name": "ipython",
    "version": 3
   },
   "file_extension": ".py",
   "mimetype": "text/x-python",
   "name": "python",
   "nbconvert_exporter": "python",
   "pygments_lexer": "ipython3",
   "version": "3.10.2"
  },
  "orig_nbformat": 4,
  "vscode": {
   "interpreter": {
    "hash": "ca49e4e1b88eed2b9544455cc8bcce643dcbc593713c2910e162ad7a95386c9e"
   }
  }
 },
 "nbformat": 4,
 "nbformat_minor": 2
}
