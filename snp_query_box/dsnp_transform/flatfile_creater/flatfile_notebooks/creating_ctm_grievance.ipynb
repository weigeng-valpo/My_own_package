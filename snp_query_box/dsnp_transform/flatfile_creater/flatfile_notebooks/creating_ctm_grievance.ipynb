{
 "cells": [
  {
   "cell_type": "code",
   "execution_count": 1,
   "metadata": {},
   "outputs": [],
   "source": [
    "#for dev purpose\n",
    "import os\n",
    "USERNAME = os.getenv('USERNAME').lower()\n",
    "new_pull = True"
   ]
  },
  {
   "cell_type": "code",
   "execution_count": 2,
   "metadata": {},
   "outputs": [
    {
     "name": "stdout",
     "output_type": "stream",
     "text": [
      "User: a845514 Started creating pull_ctm_bq and pull_grievance_bq in the shared storage\n"
     ]
    }
   ],
   "source": [
    "# import python packages\n",
    "import sys\n",
    "if sys.version_info[1]==12:\n",
    "    os.add_dll_directory(r'C:/Program Files/Python/312/Lib/site-packages/clidriver/bin')\n",
    "else:\n",
    "    pass\n",
    "import pandas as pd\n",
    "import datetime as dt\n",
    "import time\n",
    "import warnings\n",
    "from dateutil.relativedelta import relativedelta\n",
    "from snp_query_box import DsnpHelperFunction, snpQueries\n",
    "from snp_query_box.dsnp_transform import dsnpTransform\n",
    "\n",
    "warnings.filterwarnings(\"ignore\")\n",
    "pd.set_option(\"display.max_columns\", None)\n",
    "print(f\"User: {USERNAME} Started creating pull_ctm_bq and pull_grievance_bq in the shared storage\")"
   ]
  },
  {
   "cell_type": "code",
   "execution_count": 3,
   "metadata": {},
   "outputs": [],
   "source": [
    "# set the starting time\n",
    "start_time = time.time()"
   ]
  },
  {
   "cell_type": "code",
   "execution_count": 4,
   "metadata": {},
   "outputs": [
    {
     "name": "stdout",
     "output_type": "stream",
     "text": [
      "2024-06-01 00:00:00\n",
      "2025-01-01\n",
      "2025-05-01\n",
      "2025-05-31\n"
     ]
    }
   ],
   "source": [
    "today = dt.datetime.today()\n",
    "today_str = today.strftime('%Y-%m-%d')\n",
    "last_date_of_last_month_str = DsnpHelperFunction.last_date_of_last_month(today_str, output_type=\"string\")\n",
    "last_date_of_last_month = DsnpHelperFunction.last_date_of_last_month(today_str)\n",
    "\n",
    "last_month = last_date_of_last_month_str[:7]\n",
    "one_year_rolling_back_date = pd.Timestamp(last_date_of_last_month + dt.timedelta(days=1) - relativedelta(years = 1))\n",
    "one_year_rolling_back_date_str = one_year_rolling_back_date.strftime('%Y-%m-%d')\n",
    "print(one_year_rolling_back_date)\n",
    "\n",
    "first_date_of_year = DsnpHelperFunction.first_date_of_year(today_str, output_type=\"string\")\n",
    "print(first_date_of_year)\n",
    "first_date_of_last_month_str = DsnpHelperFunction.first_date_of_last_month(today_str, output_type=\"string\")\n",
    "print(first_date_of_last_month_str)\n",
    "reporting_end_date = last_date_of_last_month_str\n",
    "print(reporting_end_date)\n"
   ]
  },
  {
   "cell_type": "code",
   "execution_count": 5,
   "metadata": {},
   "outputs": [
    {
     "name": "stdout",
     "output_type": "stream",
     "text": [
      "//mbip/medicarepBI/Projects/COE/DSNP/dsnp_data_storage/monthly_flat_files/2025-05-31\n",
      "The folder already exist\n",
      "Output files will sit in the folder above.\n"
     ]
    }
   ],
   "source": [
    "# set the storage and output path\n",
    "storage_path = r'//mbip/medicarepBI/Projects/COE/DSNP/dsnp_data_storage/monthly_flat_files'\n",
    "output_path = f'{storage_path}/{reporting_end_date}'\n",
    "\n",
    "isExist = os.path.exists(output_path)\n",
    "print(output_path)\n",
    "if not isExist:\n",
    "    # Create a new directory because it does not exist\n",
    "     os.makedirs(output_path)\n",
    "     print(\"The new directory is created!\")\n",
    "else:\n",
    "      print(\"The folder already exist\")\n",
    "print(\"Output files will sit in the folder above.\")"
   ]
  },
  {
   "cell_type": "code",
   "execution_count": 6,
   "metadata": {},
   "outputs": [],
   "source": [
    "#locate data dump folder\n",
    "if new_pull:\n",
    "    pull_ctm_bq = snpQueries.pull_ctm_bq(start_date=first_date_of_year, end_date=reporting_end_date)\n",
    "    pull_ctm_bq.to_parquet(f\"{output_path}/pull_ctm_bq.parquet\")\n",
    "else:\n",
    "    try:\n",
    "        pull_ctm_bq = pd.read_parquet(f\"{output_path}/pull_ctm_bq.parquet\")\n",
    "\n",
    "    except:\n",
    "        pull_ctm_bq = snpQueries.pull_ctm_bq(start_date=first_date_of_year, end_date=reporting_end_date)\n",
    "        pull_ctm_bq.to_parquet(f\"{output_path}/pull_ctm_bq.parquet\")"
   ]
  },
  {
   "cell_type": "code",
   "execution_count": 7,
   "metadata": {},
   "outputs": [],
   "source": [
    "#locate data dump folder\n",
    "if new_pull:\n",
    "    pull_grievance_bq = snpQueries.pull_grievance_bq(start_date=first_date_of_year, end_date=reporting_end_date)\n",
    "    pull_grievance_bq.to_parquet(f\"{output_path}/pull_grievance_bq.parquet\")\n",
    "else:\n",
    "    try:\n",
    "        pull_grievance_bq = pd.read_parquet(f\"{output_path}/pull_grievance_bq.parquet\")\n",
    "\n",
    "    except:\n",
    "        pull_grievance_bq = snpQueries.pull_grievance_bq(start_date=first_date_of_year, end_date=reporting_end_date)\n",
    "        pull_grievance_bq.to_parquet(f\"{output_path}/pull_grievance_bq.parquet\")"
   ]
  },
  {
   "cell_type": "code",
   "execution_count": 8,
   "metadata": {},
   "outputs": [
    {
     "name": "stdout",
     "output_type": "stream",
     "text": [
      "(137677, 15)\n",
      "        GRV_NBR Contract_Number  PBP LIS_Flag MEDICARE_NUMBER SOURCE   \n",
      "0  G25056923807           H3288  002     None     2TJ1A83XJ33  Phone  \\\n",
      "1  G25107781629           H7301  013     None     8TN0U29EK17  Phone   \n",
      "2  G25136380720           H5521  469        1     2YC4K31PF93  Phone   \n",
      "3  G25023944066           H5522  803     None     6KV0VD3JJ22  Phone   \n",
      "4  G25144864758           H5521  425     None     5X32EE9UE25  Phone   \n",
      "\n",
      "               CTG                       SUB_CTG  PRIORITY   \n",
      "0     Claims Issue       Incorrect Provider Type  Standard  \\\n",
      "1          Billing  Account Adjustments Not Made  Standard   \n",
      "2  Quality of Care                           DME  Standard   \n",
      "3        Marketing  High pressure sales tactics   Standard   \n",
      "4     Claims Issue        Claim Processed as OON  Standard   \n",
      "\n",
      "                  OCCUR_DTS              REPORTED_DTS  REPORTING_YEAR   \n",
      "0 2025-02-24 00:00:00+00:00 2025-02-24 00:00:00+00:00            2025  \\\n",
      "1 2025-04-16 09:26:00+00:00 2025-04-16 09:26:00+00:00            2025   \n",
      "2 2025-05-15 00:00:00+00:00 2025-05-15 00:00:00+00:00            2025   \n",
      "3 2025-01-22 00:00:00+00:00 2025-01-22 15:45:00+00:00            2025   \n",
      "4 2025-05-23 00:00:00+00:00 2025-05-23 11:18:00+00:00            2025   \n",
      "\n",
      "                            STATUS_REASON  Age Gender  \n",
      "0           First Call Grievance Resolved   75      F  \n",
      "1                      Written Resolution   76      F  \n",
      "2  New Grievance (Pending Initial Review)   58      M  \n",
      "3                      Written Resolution   86      M  \n",
      "4                       Verbal Resolution   79      M  \n"
     ]
    }
   ],
   "source": [
    "print(pull_grievance_bq.shape)\n",
    "print(pull_grievance_bq.head())"
   ]
  },
  {
   "cell_type": "code",
   "execution_count": 9,
   "metadata": {},
   "outputs": [
    {
     "name": "stdout",
     "output_type": "stream",
     "text": [
      "Process time -- 48.20893692970276 seconds\n"
     ]
    }
   ],
   "source": [
    "# output the process time\n",
    "print(\"Process time -- %s seconds\" % (time.time() - start_time))"
   ]
  },
  {
   "cell_type": "code",
   "execution_count": null,
   "metadata": {},
   "outputs": [],
   "source": []
  }
 ],
 "metadata": {
  "kernelspec": {
   "display_name": "Python 3",
   "language": "python",
   "name": "python3"
  },
  "language_info": {
   "codemirror_mode": {
    "name": "ipython",
    "version": 3
   },
   "file_extension": ".py",
   "mimetype": "text/x-python",
   "name": "python",
   "nbconvert_exporter": "python",
   "pygments_lexer": "ipython3",
   "version": "3.10.2"
  }
 },
 "nbformat": 4,
 "nbformat_minor": 2
}
