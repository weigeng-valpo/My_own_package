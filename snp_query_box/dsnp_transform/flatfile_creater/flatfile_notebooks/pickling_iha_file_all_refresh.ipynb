{
 "cells": [
  {
   "cell_type": "code",
   "execution_count": null,
   "metadata": {},
   "outputs": [],
   "source": [
    "import getpass\n",
    "import os\n",
    "USERNAME = os.getenv('USERNAME').lower()"
   ]
  },
  {
   "cell_type": "code",
   "execution_count": null,
   "metadata": {},
   "outputs": [],
   "source": [
    "import pandas as pd\n",
    "import matplotlib.pyplot as plt\n",
    "import glob\n",
    "\n",
    "%matplotlib inline\n",
    "\n",
    "import datetime as dt\n",
    "import time\n",
    "import warnings\n",
    "from dateutil.relativedelta import relativedelta\n",
    "\n",
    "\n",
    "from snp_query_box import DsnpHelperFunction\n",
    "\n",
    "warnings.filterwarnings(\"ignore\")\n",
    "pd.set_option(\"display.max_columns\", None)"
   ]
  },
  {
   "cell_type": "code",
   "execution_count": null,
   "metadata": {},
   "outputs": [],
   "source": [
    "print(f\"User: {USERNAME} Started creating iha_df in shared storage\")"
   ]
  },
  {
   "cell_type": "code",
   "execution_count": null,
   "metadata": {},
   "outputs": [],
   "source": [
    "start_time = time.time()"
   ]
  },
  {
   "cell_type": "code",
   "execution_count": null,
   "metadata": {},
   "outputs": [],
   "source": [
    "today = dt.datetime.today()\n",
    "today_str = today.strftime('%Y-%m-%d')\n",
    "last_date_of_last_month_str = DsnpHelperFunction.last_date_of_last_month(today_str, output_type=\"string\")\n",
    "last_date_of_last_month = DsnpHelperFunction.last_date_of_last_month(today_str)\n",
    "\n",
    "last_month = last_date_of_last_month_str[:7]\n",
    "one_year_rolling_back_date = pd.Timestamp(last_date_of_last_month + dt.timedelta(days=1) - relativedelta(years = 1))\n",
    "print(one_year_rolling_back_date)\n",
    "\n",
    "first_date_of_year = DsnpHelperFunction.first_date_of_year(today_str, output_type=\"string\")\n",
    "print(first_date_of_year)\n",
    "first_date_of_last_month_str = DsnpHelperFunction.first_date_of_last_month(today_str, output_type=\"string\")\n",
    "print(first_date_of_last_month_str)\n",
    "\n",
    "pulled_data_date = last_month\n",
    "comp_report_data_month = last_month\n",
    "hra_report_data_month = last_month\n",
    "reporting_end_date = last_date_of_last_month_str\n",
    "print(reporting_end_date)"
   ]
  },
  {
   "cell_type": "code",
   "execution_count": null,
   "metadata": {},
   "outputs": [],
   "source": [
    "def prepare_iha_data():\n",
    "    # load the IHA data and take the latest visit date and append it to the report\n",
    "    # load the iha files - Source #1 : the flat FINAL file\n",
    "    dir_path = r'\\\\mbip\\medicarepBI\\Projects\\COE\\DSNP\\Ting\\HHV' \n",
    "    final_flat_files = glob.glob(os.path.join(dir_path, '*Final.xlsx'))\n",
    "\n",
    "    final_dfs = []\n",
    "    for file_path in final_flat_files:\n",
    "        print(file_path)\n",
    "\n",
    "        iha_final_flat_file_1 = pd.read_excel(file_path,\n",
    "                       sheet_name='Aetna_Coventry_Combined_DSNP', dtype={'MemberID':str}).rename(columns={'MemberID':'Member_ID', 'HPLAN':'Contract_Number'})\n",
    "        iha_final_flat_file_2 =pd.read_excel(file_path, \n",
    "                       sheet_name='AetnaDual_SNP', dtype={'MemberID':str}).rename(columns={'MemberID':'Member_ID', 'HPLAN':'Contract_Number'})\n",
    "        combined_df = pd.concat([iha_final_flat_file_1, iha_final_flat_file_2], ignore_index = True)\n",
    "        final_dfs.append(combined_df)\n",
    "    \n",
    "    final_df = pd.concat(final_dfs, ignore_index=True)\n",
    "\n",
    "    # now other updated files\n",
    "    other_flat_files = glob.glob(os.path.join(dir_path, '*[0-9].xlsx'))\n",
    "\n",
    "    other_dfs = []\n",
    "    for file_path in other_flat_files:\n",
    "        print(file_path)\n",
    "        xl = pd.ExcelFile(file_path)\n",
    "        sheets = xl.sheet_names  # see all sheet names\n",
    "        recent_iha_file_1 = pd.read_excel(file_path, \n",
    "                           sheet_name=sheets[0], dtype={'MemberID':str}).rename(columns={'MemberID':'Member_ID', 'HPLAN':'Contract_Number'})\n",
    "\n",
    "        recent_iha_file_2 = pd.read_excel(file_path, \n",
    "                           sheet_name=sheets[1], dtype={'MemberID':str}).rename(columns={'MemberID':'Member_ID', 'HPLAN':'Contract_Number'})\n",
    "        other_combined_df = pd.concat([recent_iha_file_1, recent_iha_file_2], ignore_index = True)\n",
    "        other_dfs.append(other_combined_df)        \n",
    "\n",
    "    other_df = pd.concat(other_dfs, ignore_index=True)\n",
    "\n",
    "    iha_file = pd.concat([final_df, other_df], ignore_index=True)\\\n",
    "        [['Member_ID','Contract_Number','Appt_Date', 'ScheduledVisitDate','Status2']].drop_duplicates()\n",
    "    \n",
    "    iha_file = iha_file[iha_file.Status2.isin(['Completed Visit', 'In CDI/Coding'])].drop(columns=['Status2'])\n",
    "    iha_file['Member_ID'] = iha_file['Member_ID'].astype(str).str.zfill(12)\n",
    "\n",
    "    # dedup by Member_ID\n",
    "    #iha_file.sort_values(['Member_ID','Contract_Number','Appt_Date', 'ScheduledVisitDate'], ascending=[True, True,True], inplace=True)\n",
    "    #iha_latest_df = iha_file.drop_duplicates(['Member_ID','Contract_Number'], keep='last').reset_index(drop=True)\n",
    "    #iha_latest_df = iha_latest_df[iha_latest_df.Member_ID!='']\n",
    "    return iha_file"
   ]
  },
  {
   "cell_type": "code",
   "execution_count": null,
   "metadata": {},
   "outputs": [],
   "source": [
    "iha_df = prepare_iha_data()"
   ]
  },
  {
   "cell_type": "code",
   "execution_count": null,
   "metadata": {},
   "outputs": [],
   "source": [
    "#TODO this will be gone\n",
    "list_of_iha_files_2025 = glob.iglob(r'\\\\mbip\\medicarepBI\\Projects\\COE\\DSNP\\Ting\\HHV\\Aetna_Coventry_Combined_DSNP_2025\\*')\n",
    "most_recent_iha_path_2025 = max(list_of_iha_files_2025, key=os.path.getmtime)\n",
    "print(most_recent_iha_path_2025)\n",
    "xl = pd.ExcelFile(most_recent_iha_path_2025)\n",
    "sheets = xl.sheet_names  # see all sheet names\n",
    "recent_iha_file_1 = pd.read_excel(most_recent_iha_path_2025, \n",
    "                   sheet_name=sheets[0], dtype={'MemberID':str}).rename(columns={'MemberID':'Member_ID', 'HPLAN':'Contract_Number'})\n",
    "recent_iha_file_2 = pd.read_excel(most_recent_iha_path_2025, \n",
    "                   sheet_name=sheets[1], dtype={'MemberID':str}).rename(columns={'MemberID':'Member_ID', 'HPLAN':'Contract_Number'})\n",
    "iha_file_2025 = pd.concat([recent_iha_file_1, recent_iha_file_2], ignore_index=True)\\\n",
    "    [['Member_ID','Contract_Number','Appt_Date', 'ScheduledVisitDate','Status2']].drop_duplicates()\n",
    "\n",
    "iha_file_2025 = iha_file_2025[iha_file_2025.Status2.isin(['Completed Visit', 'In CDI/Coding'])].drop(columns=['Status2'])\n",
    "iha_file_2025['Member_ID'] = iha_file_2025['Member_ID'].astype(str).str.zfill(12)"
   ]
  },
  {
   "cell_type": "code",
   "execution_count": null,
   "metadata": {},
   "outputs": [],
   "source": [
    "iha_df_all = pd.concat([iha_df, iha_file_2025], ignore_index=True).drop_duplicates()"
   ]
  },
  {
   "cell_type": "code",
   "execution_count": null,
   "metadata": {},
   "outputs": [],
   "source": [
    "storage_path = r'//mbip/medicarepBI/Projects/COE/DSNP/dsnp_data_storage/monthly_flat_files'\n",
    "output_path = f'{storage_path}/{reporting_end_date}'\n",
    "\n",
    "isExist = os.path.exists(output_path)\n",
    "print(output_path)\n",
    "if not isExist:\n",
    "    # Create a new directory because it does not exist\n",
    "     os.makedirs(output_path)\n",
    "     print(\"The new directory is created!\")\n",
    "else:\n",
    "      print(\"The folder already exist\")\n",
    "print(\"Output files will sit in the folder above.\")"
   ]
  },
  {
   "cell_type": "code",
   "execution_count": null,
   "metadata": {},
   "outputs": [],
   "source": [
    "iha_df_all.head()"
   ]
  },
  {
   "cell_type": "code",
   "execution_count": null,
   "metadata": {},
   "outputs": [],
   "source": [
    "iha_df_all.to_parquet(f\"{output_path}/iha_df.parquet\")"
   ]
  },
  {
   "cell_type": "code",
   "execution_count": null,
   "metadata": {},
   "outputs": [],
   "source": [
    "print(\"Process time -- %s seconds\" % (time.time() - start_time))"
   ]
  },
  {
   "cell_type": "code",
   "execution_count": null,
   "metadata": {},
   "outputs": [],
   "source": [
    "#TODO\n",
    "#dsnp_inplay_status_path = r'//mbip/medicarepBI/Projects/COE/DSNP/Projects/Med_Adherence_In_Play/DSNP_May_07_2024.xlsx'\n",
    "#rnpm_path = r'//mbip/medicarepBI/Projects/COE/DSNP/Ting/Top40/Senior Clinical Strategist and PBG groups 202404.xlsx'\n",
    "#Careplan"
   ]
  }
 ],
 "metadata": {
  "kernelspec": {
   "display_name": "Python 3",
   "language": "python",
   "name": "python3"
  },
  "language_info": {
   "codemirror_mode": {
    "name": "ipython",
    "version": 3
   },
   "file_extension": ".py",
   "mimetype": "text/x-python",
   "name": "python",
   "nbconvert_exporter": "python",
   "pygments_lexer": "ipython3",
   "version": "3.10.2"
  },
  "orig_nbformat": 4,
  "vscode": {
   "interpreter": {
    "hash": "ca49e4e1b88eed2b9544455cc8bcce643dcbc593713c2910e162ad7a95386c9e"
   }
  }
 },
 "nbformat": 4,
 "nbformat_minor": 2
}
