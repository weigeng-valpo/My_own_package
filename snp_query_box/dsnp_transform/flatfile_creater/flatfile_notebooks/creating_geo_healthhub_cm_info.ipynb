{
 "cells": [
  {
   "cell_type": "code",
   "execution_count": 1,
   "metadata": {},
   "outputs": [],
   "source": [
    "#for dev purpose\n",
    "import getpass\n",
    "import os\n",
    "USERNAME = os.getenv('USERNAME').lower()\n",
    "new_pull = True"
   ]
  },
  {
   "cell_type": "code",
   "execution_count": 2,
   "metadata": {},
   "outputs": [
    {
     "name": "stdout",
     "output_type": "stream",
     "text": [
      "User: a845514 Started creating pull_geo_info and pull_healthhub pull_cm_infoin the shared storage\n"
     ]
    }
   ],
   "source": [
    "# import python packages\n",
    "import os\n",
    "import sys\n",
    "if sys.version_info[1]==12:\n",
    "    os.add_dll_directory(r'C:/Program Files/Python/312/Lib/site-packages/clidriver/bin')\n",
    "else:\n",
    "    pass\n",
    "import pandas as pd\n",
    "import datetime as dt\n",
    "import time\n",
    "import warnings\n",
    "from snp_query_box import DsnpHelperFunction, snpQueries, populDashQueries\n",
    "from snp_query_box.dsnp_transform import memberContactLegalTransform\n",
    "warnings.filterwarnings(\"ignore\")\n",
    "pd.set_option(\"display.max_columns\", None)\n",
    "print(f\"User: {USERNAME} Started creating pull_geo_info and pull_healthhub pull_cm_infoin the shared storage\")"
   ]
  },
  {
   "cell_type": "code",
   "execution_count": 3,
   "metadata": {},
   "outputs": [],
   "source": [
    "# set the starting time\n",
    "start_time = time.time()"
   ]
  },
  {
   "cell_type": "code",
   "execution_count": 4,
   "metadata": {},
   "outputs": [
    {
     "name": "stdout",
     "output_type": "stream",
     "text": [
      "2025-05-31\n"
     ]
    }
   ],
   "source": [
    "# calculate the dates\n",
    "today = dt.datetime.today()\n",
    "today_str = today.strftime('%Y-%m-%d')\n",
    "last_date_of_last_month_str = DsnpHelperFunction.last_date_of_last_month(today_str, output_type=\"string\")\n",
    "first_date_of_last_month = DsnpHelperFunction.first_date_of_last_month(today_str)\n",
    "last_day_reporting_year = DsnpHelperFunction.last_date_of_year(first_date_of_last_month)\n",
    "reporting_end_date = last_date_of_last_month_str\n",
    "print(reporting_end_date)"
   ]
  },
  {
   "cell_type": "code",
   "execution_count": 5,
   "metadata": {},
   "outputs": [
    {
     "name": "stdout",
     "output_type": "stream",
     "text": [
      "//mbip/medicarepBI/Projects/COE/DSNP/dsnp_data_storage/monthly_flat_files/2025-05-31\n",
      "The folder already exist\n",
      "Output files will sit in the folder above.\n"
     ]
    }
   ],
   "source": [
    "# set the storage and output path\n",
    "storage_path = r'//mbip/medicarepBI/Projects/COE/DSNP/dsnp_data_storage/monthly_flat_files'\n",
    "output_path = f'{storage_path}/{reporting_end_date}'\n",
    "\n",
    "isExist = os.path.exists(output_path)\n",
    "print(output_path)\n",
    "if not isExist:\n",
    "    # Create a new directory because it does not exist\n",
    "     os.makedirs(output_path)\n",
    "     print(\"The new directory is created!\")\n",
    "else:\n",
    "      print(\"The folder already exist\")\n",
    "print(\"Output files will sit in the folder above.\")"
   ]
  },
  {
   "cell_type": "code",
   "execution_count": 6,
   "metadata": {},
   "outputs": [
    {
     "name": "stderr",
     "output_type": "stream",
     "text": [
      "100%|██████████| 682496/682496 [00:06<00:00, 108279.79it/s]\n"
     ]
    }
   ],
   "source": [
    "#locate data dump folder\n",
    "if new_pull:\n",
    "    pull_cm_info = snpQueries.pull_cm_info(reporting_year=2024)\n",
    "    pull_cm_info.to_parquet(f\"{output_path}/pull_cm_info.parquet\")\n",
    "else:\n",
    "    try:\n",
    "        pull_cm_info = pd.read_parquet(f\"{output_path}/pull_cm_info.parquet\")\n",
    "\n",
    "    except:\n",
    "        pull_cm_info = snpQueries.pull_cm_info()\n",
    "        pull_cm_info.to_parquet(f\"{output_path}/pull_cm_info.parquet\")"
   ]
  },
  {
   "cell_type": "code",
   "execution_count": 8,
   "metadata": {},
   "outputs": [],
   "source": [
    "#locate data dump folder\n",
    "if new_pull:\n",
    "    pull_healthhub = snpQueries.pull_healthhub()\n",
    "    pull_healthhub.to_parquet(f\"{output_path}/pull_healthhub.parquet\")\n",
    "else:\n",
    "    try:\n",
    "        pull_healthhub = pd.read_parquet(f\"{output_path}/pull_healthhub.parquet\")\n",
    "\n",
    "    except:\n",
    "        pull_healthhub = snpQueries.pull_healthhub()\n",
    "        pull_healthhub.to_parquet(f\"{output_path}/pull_healthhub.parquet\")"
   ]
  },
  {
   "cell_type": "code",
   "execution_count": 9,
   "metadata": {},
   "outputs": [
    {
     "name": "stderr",
     "output_type": "stream",
     "text": [
      "100%|██████████| 18831228/18831228 [08:29<00:00, 36977.62it/s] \n"
     ]
    }
   ],
   "source": [
    "#locate data dump folder\n",
    "if new_pull:\n",
    "    pull_geo_info = snpQueries.pull_geo_info()\n",
    "    pull_geo_info.to_parquet(f\"{output_path}/pull_geo_info.parquet\")\n",
    "else:\n",
    "    try:\n",
    "        pull_geo_info = pd.read_parquet(f\"{output_path}/pull_geo_info.parquet\")\n",
    "\n",
    "    except:\n",
    "        pull_geo_info = snpQueries.pull_geo_info()\n",
    "        pull_geo_info.to_parquet(f\"{output_path}/pull_geo_info.parquet\")"
   ]
  },
  {
   "cell_type": "code",
   "execution_count": 10,
   "metadata": {},
   "outputs": [
    {
     "name": "stdout",
     "output_type": "stream",
     "text": [
      "(18831228, 3)\n",
      "          MEDICARE_NBR    MBR_LAT   MBR_LONG\n",
      "13795418                25.947967 -80.295841\n",
      "911751               0        NaN        NaN\n",
      "12679351  000000000000  41.679763 -87.629919\n"
     ]
    }
   ],
   "source": [
    "# output the top rows and size\n",
    "\n",
    "print(pull_geo_info.shape)\n",
    "print(pull_geo_info.head(3))"
   ]
  },
  {
   "cell_type": "code",
   "execution_count": 11,
   "metadata": {},
   "outputs": [
    {
     "name": "stdout",
     "output_type": "stream",
     "text": [
      "Process time -- 60618.09345316887 seconds\n"
     ]
    }
   ],
   "source": [
    "# output the process time\n",
    "print(\"Process time -- %s seconds\" % (time.time() - start_time))"
   ]
  },
  {
   "cell_type": "code",
   "execution_count": null,
   "metadata": {},
   "outputs": [],
   "source": []
  }
 ],
 "metadata": {
  "kernelspec": {
   "display_name": "Python 3",
   "language": "python",
   "name": "python3"
  },
  "language_info": {
   "codemirror_mode": {
    "name": "ipython",
    "version": 3
   },
   "file_extension": ".py",
   "mimetype": "text/x-python",
   "name": "python",
   "nbconvert_exporter": "python",
   "pygments_lexer": "ipython3",
   "version": "3.10.2"
  },
  "orig_nbformat": 4,
  "vscode": {
   "interpreter": {
    "hash": "ca49e4e1b88eed2b9544455cc8bcce643dcbc593713c2910e162ad7a95386c9e"
   }
  }
 },
 "nbformat": 4,
 "nbformat_minor": 2
}
