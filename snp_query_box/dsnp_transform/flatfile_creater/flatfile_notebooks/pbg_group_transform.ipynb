{
 "cells": [
  {
   "cell_type": "code",
   "execution_count": null,
   "metadata": {},
   "outputs": [],
   "source": [
    "from snp_query_box.dsnp_transform import pbgGroupTransform"
   ]
  },
  {
   "cell_type": "code",
   "execution_count": null,
   "metadata": {},
   "outputs": [],
   "source": [
    "import os\n",
    "USERNAME = os.getenv('USERNAME').lower()\n",
    "new_pull = False"
   ]
  },
  {
   "cell_type": "code",
   "execution_count": null,
   "metadata": {},
   "outputs": [],
   "source": [
    "import os\n",
    "import pandas as pd\n",
    "import datetime as dt\n",
    "import time\n",
    "import warnings\n",
    "from dateutil.relativedelta import relativedelta\n",
    "\n",
    "\n",
    "from snp_query_box import DsnpHelperFunction, snpQueries\n",
    "\n",
    "warnings.filterwarnings(\"ignore\")\n",
    "pd.set_option(\"display.max_columns\", None)"
   ]
  },
  {
   "cell_type": "code",
   "execution_count": null,
   "metadata": {},
   "outputs": [],
   "source": [
    "print(f\"User: {USERNAME} Started creating pull_vbc and pbg_group_clean_df in the shared storage\")"
   ]
  },
  {
   "cell_type": "code",
   "execution_count": null,
   "metadata": {},
   "outputs": [],
   "source": [
    "start_time = time.time()"
   ]
  },
  {
   "cell_type": "code",
   "execution_count": null,
   "metadata": {},
   "outputs": [],
   "source": [
    "today = dt.datetime.today()\n",
    "today_str = today.strftime('%Y-%m-%d')\n",
    "last_date_of_last_month_str = DsnpHelperFunction.last_date_of_last_month(today_str, output_type=\"string\")\n",
    "last_date_of_last_month = DsnpHelperFunction.last_date_of_last_month(today_str)\n",
    "\n",
    "last_month = last_date_of_last_month_str[:7]\n",
    "one_year_rolling_back_date = pd.Timestamp(last_date_of_last_month + dt.timedelta(days=1) - relativedelta(years = 1))\n",
    "print(\"one_year_rolling_back_date\")\n",
    "print(one_year_rolling_back_date)\n",
    "\n",
    "first_date_of_year = DsnpHelperFunction.first_date_of_year(today_str, output_type=\"string\")\n",
    "print(\"first_date_of_year\")\n",
    "print(first_date_of_year)\n",
    "first_date_of_last_month_str = DsnpHelperFunction.first_date_of_last_month(today_str, output_type=\"string\")\n",
    "print(\"first_date_of_last_month\")\n",
    "print(first_date_of_last_month_str)\n",
    "\n",
    "pulled_data_date = last_month\n",
    "comp_report_data_month = last_month\n",
    "hra_report_data_month = last_month\n",
    "reporting_end_date = last_date_of_last_month_str\n",
    "print(\"reporting_end_date\")\n",
    "print(reporting_end_date)"
   ]
  },
  {
   "cell_type": "code",
   "execution_count": null,
   "metadata": {},
   "outputs": [],
   "source": [
    "storage_path = r'//mbip/medicarepBI/Projects/COE/DSNP/dsnp_data_storage/monthly_flat_files'\n",
    "output_path = f'{storage_path}/{reporting_end_date}'\n",
    "\n",
    "isExist = os.path.exists(output_path)\n",
    "print(output_path)\n",
    "if not isExist:\n",
    "    # Create a new directory because it does not exist\n",
    "     os.makedirs(output_path)\n",
    "     print(\"The new directory is created!\")\n",
    "else:\n",
    "      print(\"The folder already exist\")\n",
    "print(\"Output files will sit in the folder above.\")"
   ]
  },
  {
   "cell_type": "code",
   "execution_count": null,
   "metadata": {},
   "outputs": [],
   "source": [
    "#locate data dump folder\n",
    "if new_pull:\n",
    "    pull_vbc = snpQueries.pull_vbc(reporting_year=2025)\n",
    "    pull_vbc.to_parquet(f\"{output_path}/pull_vbc.parquet\")\n",
    "else:\n",
    "    try:\n",
    "        pull_vbc = pd.read_parquet(f\"{output_path}/pull_vbc.parquet\")\n",
    "    except:\n",
    "        pull_vbc = snpQueries.pull_vbc(reporting_year=2025)\n",
    "        pull_vbc.to_parquet(f\"{output_path}/pull_vbc.parquet\")\n"
   ]
  },
  {
   "cell_type": "code",
   "execution_count": null,
   "metadata": {},
   "outputs": [],
   "source": [
    "#Prepare call log data, one year back\n",
    "pbg_group_clean_df = pbgGroupTransform.get_pbg_group_clean(pull_vbc)"
   ]
  },
  {
   "cell_type": "code",
   "execution_count": null,
   "metadata": {},
   "outputs": [],
   "source": [
    "pbg_group_clean_df.head(2)"
   ]
  },
  {
   "cell_type": "code",
   "execution_count": null,
   "metadata": {},
   "outputs": [],
   "source": [
    "#save it for monthly aggregation\n",
    "pbg_group_clean_df.to_parquet(f\"{output_path}/pbg_group_clean_df.parquet\")"
   ]
  },
  {
   "cell_type": "code",
   "execution_count": null,
   "metadata": {},
   "outputs": [],
   "source": [
    "print(\"Process time -- %s seconds\" % (time.time() - start_time))"
   ]
  }
 ],
 "metadata": {
  "kernelspec": {
   "display_name": "Python 3",
   "language": "python",
   "name": "python3"
  },
  "language_info": {
   "codemirror_mode": {
    "name": "ipython",
    "version": 3
   },
   "file_extension": ".py",
   "mimetype": "text/x-python",
   "name": "python",
   "nbconvert_exporter": "python",
   "pygments_lexer": "ipython3",
   "version": "3.10.2"
  },
  "orig_nbformat": 4,
  "vscode": {
   "interpreter": {
    "hash": "ca49e4e1b88eed2b9544455cc8bcce643dcbc593713c2910e162ad7a95386c9e"
   }
  }
 },
 "nbformat": 4,
 "nbformat_minor": 2
}
