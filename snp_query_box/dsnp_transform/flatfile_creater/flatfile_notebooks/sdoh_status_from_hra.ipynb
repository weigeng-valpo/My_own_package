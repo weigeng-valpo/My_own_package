{
 "cells": [
  {
   "cell_type": "code",
   "execution_count": null,
   "metadata": {},
   "outputs": [],
   "source": [
    "#for dev purpose\n",
    "import getpass\n",
    "import os\n",
    "USERNAME = os.getenv('USERNAME').lower()\n",
    "new_pull = True"
   ]
  },
  {
   "cell_type": "code",
   "execution_count": null,
   "metadata": {},
   "outputs": [],
   "source": [
    "# import python packages\n",
    "import os\n",
    "import sys\n",
    "if sys.version_info[1]==12:\n",
    "    os.add_dll_directory(r'C:/Program Files/Python/312/Lib/site-packages/clidriver/bin')\n",
    "else:\n",
    "    pass\n",
    "import pandas as pd\n",
    "import datetime as dt\n",
    "import time\n",
    "import warnings\n",
    "from snp_query_box import DsnpHelperFunction, hraQueries\n",
    "from snp_query_box.dsnp_transform import hraResultTransform\n",
    "warnings.filterwarnings(\"ignore\")\n",
    "pd.set_option(\"display.max_columns\", None)\n",
    "print(f\"User: {USERNAME} Started creating sdoh_status_from_hra_df in the shared storage\")"
   ]
  },
  {
   "cell_type": "code",
   "execution_count": null,
   "metadata": {},
   "outputs": [],
   "source": [
    "# set the starting time\n",
    "start_time = time.time()"
   ]
  },
  {
   "cell_type": "code",
   "execution_count": null,
   "metadata": {},
   "outputs": [],
   "source": [
    "# calculate the dates\n",
    "today = dt.datetime.today()\n",
    "today_str = today.strftime('%Y-%m-%d')\n",
    "last_date_of_last_month_str = DsnpHelperFunction.last_date_of_last_month(today_str, output_type=\"string\")\n",
    "first_date_of_last_month = DsnpHelperFunction.first_date_of_last_month(today_str)\n",
    "last_day_reporting_year = DsnpHelperFunction.last_date_of_year(first_date_of_last_month)\n",
    "reporting_end_date = last_date_of_last_month_str\n",
    "print(reporting_end_date)"
   ]
  },
  {
   "cell_type": "code",
   "execution_count": null,
   "metadata": {},
   "outputs": [],
   "source": [
    "# set the storage and output path\n",
    "storage_path = r'//mbip/medicarepBI/Projects/COE/DSNP/dsnp_data_storage/monthly_flat_files'\n",
    "output_path = f'{storage_path}/{reporting_end_date}'\n",
    "\n",
    "isExist = os.path.exists(output_path)\n",
    "print(output_path)\n",
    "if not isExist:\n",
    "    # Create a new directory because it does not exist\n",
    "     os.makedirs(output_path)\n",
    "     print(\"The new directory is created!\")\n",
    "else:\n",
    "      print(\"The folder already exist\")\n",
    "print(\"Output files will sit in the folder above.\")"
   ]
  },
  {
   "cell_type": "code",
   "execution_count": null,
   "metadata": {},
   "outputs": [],
   "source": [
    "#locate data dump folder\n",
    "if new_pull:\n",
    "    pull_hra_qa_by_section_services_and_support = hraQueries.pull_hra_qa_by_section_bq(asad_section_nm = 'Services and Support')\n",
    "    pull_hra_qa_by_section_services_and_support.to_parquet(f\"{output_path}/pull_hra_qa_by_section_services_and_support.parquet\")\n",
    "else:\n",
    "    try:\n",
    "        pull_hra_qa_by_section_services_and_support = pd.read_parquet(f\"{output_path}/pull_hra_qa_by_section_services_and_support.parquet\")\n",
    "\n",
    "    except:\n",
    "        pull_hra_qa_by_section_services_and_support = hraQueries.pull_hra_qa_by_section_bq(asad_section_nm = 'Services and Support')\n",
    "        pull_hra_qa_by_section_services_and_support.to_parquet(f\"{output_path}/pull_hra_qa_by_section_services_and_support.parquet\")"
   ]
  },
  {
   "cell_type": "code",
   "execution_count": null,
   "metadata": {},
   "outputs": [],
   "source": [
    "hra_service_and_support = (pull_hra_qa_by_section_services_and_support.pipe(hraResultTransform.get_most_recent_hra)  #possible template 3 hrt.version_three_to_four\n",
    "        .pipe(hraResultTransform.pivot_hra_qa)\n",
    "        .pipe(hraResultTransform.clean_service_support))"
   ]
  },
  {
   "cell_type": "code",
   "execution_count": null,
   "metadata": {},
   "outputs": [],
   "source": [
    "hra_service_and_support.head(2)"
   ]
  },
  {
   "cell_type": "code",
   "execution_count": null,
   "metadata": {},
   "outputs": [],
   "source": [
    "hra_service_and_support[hra_service_and_support['dsnp_member_id']=='101068528400']"
   ]
  },
  {
   "cell_type": "code",
   "execution_count": null,
   "metadata": {},
   "outputs": [],
   "source": [
    "unique_elements = set([item for sublist in hra_service_and_support[\"any_concern\"] for item in sublist if item != ''])\n",
    "for element in unique_elements:\n",
    "    hra_service_and_support['SDOH_' + element.capitalize()] = hra_service_and_support['any_concern'].apply(lambda x: 'Y' if element in x else 'N')"
   ]
  },
  {
   "cell_type": "code",
   "execution_count": null,
   "metadata": {},
   "outputs": [],
   "source": [
    "hra_service_and_support.rename(columns = {\"SDOH_Medicine or any health care (medical, dental, mental health, vision)\":\n",
    "                                                     \"SDOH_Medicine or any health care\"}, inplace=True)"
   ]
  },
  {
   "cell_type": "code",
   "execution_count": null,
   "metadata": {},
   "outputs": [],
   "source": [
    "sdoh_columns = [\"SDOH_Food\",\n",
    "                \"SDOH_Housing\",\n",
    "                \"SDOH_Utilities\",\n",
    "                \"SDOH_Medicine or any health care\",\n",
    "                \"SDOH_Child care\",\n",
    "                \"SDOH_Clothing\",\n",
    "                \"SDOH_Transportation\",\n",
    "                \"SDOH_Phone\"]\n",
    "hra_service_and_support[sdoh_columns + [\"dsnp_member_id\", \"any_concern\"]]"
   ]
  },
  {
   "cell_type": "code",
   "execution_count": null,
   "metadata": {},
   "outputs": [],
   "source": [
    "hra_service_and_support[hra_service_and_support['dsnp_member_id']=='101773006400']"
   ]
  },
  {
   "cell_type": "code",
   "execution_count": null,
   "metadata": {},
   "outputs": [],
   "source": [
    "hra_service_and_support.to_parquet(f'{output_path}/sdoh_status_from_hra_df.parquet')"
   ]
  },
  {
   "cell_type": "code",
   "execution_count": null,
   "metadata": {},
   "outputs": [],
   "source": [
    "#def clean_invalid_utf8(value):\n",
    "#    if isinstance(value, str):\n",
    "#        value=re.sub(r'�', '', value)\n",
    "#    return value\n",
    "#\n",
    "#rows = []\n",
    "#for row in query_job.result():\n",
    "#    for column, value in row.items():\n",
    "#        if '�' in value:\n",
    "#            print(value)\n",
    "#            cleaned_row = {column:clean_invalid_utf8(value)}\n",
    "#            print(cleaned_row)\n",
    "#        else:\n",
    "#            cleaned_row = {column:value}\n",
    "#    \n",
    "#    rows.append(cleaned_row)\n",
    "#test_df = pd.DataFrame(rows)\n",
    "#\n",
    "#test_df = query_job.to_dataframe()"
   ]
  },
  {
   "cell_type": "code",
   "execution_count": null,
   "metadata": {},
   "outputs": [],
   "source": []
  }
 ],
 "metadata": {
  "kernelspec": {
   "display_name": "Python 3",
   "language": "python",
   "name": "python3"
  },
  "language_info": {
   "codemirror_mode": {
    "name": "ipython",
    "version": 3
   },
   "file_extension": ".py",
   "mimetype": "text/x-python",
   "name": "python",
   "nbconvert_exporter": "python",
   "pygments_lexer": "ipython3",
   "version": "3.10.2"
  },
  "orig_nbformat": 4,
  "vscode": {
   "interpreter": {
    "hash": "ca49e4e1b88eed2b9544455cc8bcce643dcbc593713c2910e162ad7a95386c9e"
   }
  }
 },
 "nbformat": 4,
 "nbformat_minor": 2
}
