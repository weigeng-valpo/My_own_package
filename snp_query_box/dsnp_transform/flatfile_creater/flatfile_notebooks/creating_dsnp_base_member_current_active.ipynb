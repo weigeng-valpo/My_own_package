{
 "cells": [
  {
   "cell_type": "code",
   "execution_count": null,
   "metadata": {},
   "outputs": [],
   "source": [
    "# for dev purpose - get username\n",
    "import os\n",
    "USERNAME = os.getenv('USERNAME').lower()\n",
    "new_pull = True"
   ]
  },
  {
   "cell_type": "code",
   "execution_count": null,
   "metadata": {
    "notebookRunGroups": {
     "groupValue": ""
    }
   },
   "outputs": [],
   "source": [
    "# import python packages\n",
    "import sys\n",
    "if sys.version_info[1]==12:\n",
    "    os.add_dll_directory(r'C:/Program Files/Python/312/Lib/site-packages/clidriver/bin')\n",
    "else:\n",
    "    pass\n",
    "import pandas as pd\n",
    "import numpy as np\n",
    "import datetime as dt\n",
    "import time\n",
    "import warnings\n",
    "from snp_query_box import DsnpHelperFunction, snpQueries\n",
    "warnings.filterwarnings(\"ignore\")\n",
    "pd.set_option(\"display.max_columns\", None)\n",
    "print(f\"User: {USERNAME} Started creating dsnp_base_member_current_active_df in the shared storage\")"
   ]
  },
  {
   "cell_type": "code",
   "execution_count": null,
   "metadata": {},
   "outputs": [],
   "source": [
    "# set the starting time\n",
    "start_time = time.time()"
   ]
  },
  {
   "cell_type": "code",
   "execution_count": null,
   "metadata": {},
   "outputs": [],
   "source": [
    "# calculate the dates\n",
    "today = dt.datetime.today()\n",
    "today_str = today.strftime('%Y-%m-%d')\n",
    "last_date_of_last_month_str = DsnpHelperFunction.last_date_of_last_month(today_str, output_type=\"string\")\n",
    "last_date_of_last_month = DsnpHelperFunction.last_date_of_last_month(today_str)\n",
    "last_month = last_date_of_last_month_str[:7]\n",
    "\n",
    "first_date_of_year = DsnpHelperFunction.first_date_of_year(today_str, output_type=\"string\")\n",
    "print(first_date_of_year)\n",
    "first_date_of_last_month_str = DsnpHelperFunction.first_date_of_last_month(today_str, output_type=\"string\")\n",
    "print(first_date_of_last_month_str)\n",
    "\n",
    "reporting_end_date = last_date_of_last_month_str\n",
    "print(reporting_end_date)"
   ]
  },
  {
   "cell_type": "code",
   "execution_count": null,
   "metadata": {},
   "outputs": [],
   "source": [
    "# pull dsnp plan dand state maps\n",
    "from snp_query_box import dsnpVal \n",
    "dsnp_plan_list = dsnpVal.dsnp_plan_list\n",
    "print(dsnp_plan_list[:3])\n",
    "dsnp_state_map_df = DsnpHelperFunction.get_dsnp_contract_pbp_state_mapping_file()\n",
    "dsnp_state_map_df.head(1)"
   ]
  },
  {
   "cell_type": "code",
   "execution_count": null,
   "metadata": {},
   "outputs": [],
   "source": [
    "# set the storage and output path\n",
    "storage_path = r'//mbip/medicarepBI/Projects/COE/DSNP/dsnp_data_storage/monthly_flat_files'\n",
    "output_path = f'{storage_path}/{reporting_end_date}'\n",
    "\n",
    "isExist = os.path.exists(output_path)\n",
    "print(output_path)\n",
    "if not isExist:\n",
    "    # Create a new directory because it does not exist\n",
    "     os.makedirs(output_path)\n",
    "     print(\"The new directory is created!\")\n",
    "else:\n",
    "      print(\"The folder already exist\")\n",
    "print(\"Output files will sit in the folder above.\")"
   ]
  },
  {
   "cell_type": "code",
   "execution_count": null,
   "metadata": {},
   "outputs": [],
   "source": [
    "# locate data dump folder\n",
    "if new_pull:\n",
    "    pull_snp_member = snpQueries.pull_snp_member_bq(enroll_start_date = today_str, enroll_end_date = today_str)\n",
    "    pull_snp_member['kpbp'] = pull_snp_member['Contract_Number'] + '-' + pull_snp_member['PBP']\n",
    "\n",
    "    #TODO 2025 CSNP is added, dsnp_plan_list\n",
    "    dsnp_base_member_df = pull_snp_member.loc[(pull_snp_member['kpbp'].isin(dsnp_plan_list)) | \\\n",
    "                                              pull_snp_member['SNP'].isin(['Y', 'D', 'F', 'I', 'C'])]\n",
    "    dsnp_base_member_df = dsnp_base_member_df.merge(dsnp_state_map_df, how='left', on=['Contract_Number', 'PBP'])\n",
    "    if dsnp_base_member_df['Dual_Status'].nunique()<5:\n",
    "        raise ValueError(\"Dual_status column is missing\")\n",
    "\n",
    "    dsnp_base_member_df.to_parquet(f\"{output_path}/dsnp_base_member_current_active_df.parquet\")\n",
    "\n",
    "else:\n",
    "    try:\n",
    "        dsnp_base_member_df = pd.read_parquet(f\"{output_path}/dsnp_base_member_current_active_df.parquet\")\n",
    "\n",
    "    except:\n",
    "        pull_snp_member = snpQueries.pull_snp_member_bq(enroll_start_date = today_str, enroll_end_date = today_str)\n",
    "        pull_snp_member['kpbp'] = pull_snp_member['Contract_Number'] + '-' + pull_snp_member['PBP']\n",
    "    \n",
    "        dsnp_base_member_df = pull_snp_member.loc[(pull_snp_member['kpbp'].isin(dsnp_plan_list)) | \\\n",
    "                                                  pull_snp_member['SNP'].isin(['Y', 'D', 'F', 'I', 'C'])]\n",
    "        dsnp_base_member_df = dsnp_base_member_df.merge(dsnp_state_map_df, how='left', on=['Contract_Number', 'PBP'])\n",
    "        if dsnp_base_member_df['Dual_Status'].nunique()<5:\n",
    "            raise ValueError(\"Dual_status column is missing\")\n",
    "\n",
    "        dsnp_base_member_df.to_parquet(f\"{output_path}/dsnp_base_member_current_active_df.parquet\")"
   ]
  },
  {
   "cell_type": "code",
   "execution_count": null,
   "metadata": {},
   "outputs": [],
   "source": [
    "dsnp_base_member_df['SNP'].value_counts()"
   ]
  },
  {
   "cell_type": "code",
   "execution_count": null,
   "metadata": {},
   "outputs": [],
   "source": [
    "# output the top rows and size\n",
    "print(dsnp_base_member_df.shape)\n",
    "print(dsnp_base_member_df.head(3))"
   ]
  },
  {
   "cell_type": "code",
   "execution_count": null,
   "metadata": {},
   "outputs": [],
   "source": [
    "dsnp_base_member_df['Dual_Status'].value_counts()"
   ]
  },
  {
   "cell_type": "code",
   "execution_count": null,
   "metadata": {},
   "outputs": [],
   "source": [
    "dsnp_base_member_df.head()"
   ]
  },
  {
   "cell_type": "code",
   "execution_count": null,
   "metadata": {},
   "outputs": [],
   "source": [
    "# output the process time\n",
    "print(\"Process time -- %s seconds\" % (time.time() - start_time))"
   ]
  }
 ],
 "metadata": {
  "kernelspec": {
   "display_name": "Python 3",
   "language": "python",
   "name": "python3"
  },
  "language_info": {
   "codemirror_mode": {
    "name": "ipython",
    "version": 3
   },
   "file_extension": ".py",
   "mimetype": "text/x-python",
   "name": "python",
   "nbconvert_exporter": "python",
   "pygments_lexer": "ipython3",
   "version": "3.10.2"
  },
  "orig_nbformat": 4,
  "vscode": {
   "interpreter": {
    "hash": "ca49e4e1b88eed2b9544455cc8bcce643dcbc593713c2910e162ad7a95386c9e"
   }
  }
 },
 "nbformat": 4,
 "nbformat_minor": 2
}
