{
 "cells": [
  {
   "cell_type": "code",
   "execution_count": 1,
   "metadata": {},
   "outputs": [],
   "source": [
    "from snp_query_box.dsnp_transform import dsnpTransform"
   ]
  },
  {
   "cell_type": "code",
   "execution_count": 2,
   "metadata": {},
   "outputs": [],
   "source": [
    "#for dev purpose\n",
    "import getpass\n",
    "import os\n",
    "USERNAME = os.getenv('USERNAME').lower()\n",
    "new_pull = False"
   ]
  },
  {
   "cell_type": "code",
   "execution_count": 3,
   "metadata": {},
   "outputs": [
    {
     "name": "stderr",
     "output_type": "stream",
     "text": [
      "Your browser has been opened to visit:\n",
      "\n",
      "    https://accounts.google.com/o/oauth2/auth?response_type=code&client_id=764086051850-6qr4p6gpi6hn506pt8ejuq83di341hur.apps.googleusercontent.com&redirect_uri=http%3A%2F%2Flocalhost%3A8085%2F&scope=openid+https%3A%2F%2Fwww.googleapis.com%2Fauth%2Fuserinfo.email+https%3A%2F%2Fwww.googleapis.com%2Fauth%2Fcloud-platform+https%3A%2F%2Fwww.googleapis.com%2Fauth%2Fsqlservice.login+https%3A%2F%2Fwww.googleapis.com%2Fauth%2Faccounts.reauth&state=RfInE5wm4KtjlzsF4MbiGq5xVsINdy&access_type=offline&code_challenge=bEXMGcTht8NYE068mSbfK_YHnCnwqvwEuGcMwIHrN1w&code_challenge_method=S256\n",
      "\n",
      "\n",
      "Credentials saved to file: [C:\\Users\\A845514\\AppData\\Roaming\\gcloud\\application_default_credentials.json]\n",
      "\n",
      "These credentials will be used by any library that requests Application Default Credentials (ADC).\n",
      "WARNING: \n",
      "Cannot add the project \"edp-prod-mdcrbi-starsbi\" to ADC as the quota project because the account in ADC does not have the \"serviceusage.services.use\" permission on this project. You might receive a \"quota_exceeded\" or \"API not enabled\" error. Run $ gcloud auth application-default set-quota-project to add a quota project.\n"
     ]
    }
   ],
   "source": [
    "!gcloud auth application-default login"
   ]
  },
  {
   "cell_type": "code",
   "execution_count": 4,
   "metadata": {},
   "outputs": [],
   "source": [
    "import os\n",
    "import pandas as pd\n",
    "import numpy as np\n",
    "\n",
    "import datetime as dt\n",
    "import time\n",
    "import warnings\n",
    "from dateutil.relativedelta import relativedelta\n",
    "\n",
    "\n",
    "from snp_query_box import DsnpHelperFunction, snpQueries, populDashQueries\n",
    "\n",
    "warnings.filterwarnings(\"ignore\")\n",
    "pd.set_option(\"display.max_columns\", None)"
   ]
  },
  {
   "cell_type": "code",
   "execution_count": 5,
   "metadata": {},
   "outputs": [
    {
     "name": "stdout",
     "output_type": "stream",
     "text": [
      "User: a845514 Started creating pull_utilization, pull_er_visit, pull_ip_visit_from_hedis and *_12month in the shared storage\n"
     ]
    }
   ],
   "source": [
    "print(f\"User: {USERNAME} Started creating pull_utilization, pull_er_visit, pull_ip_visit_from_hedis and *_12month in the shared storage\")"
   ]
  },
  {
   "cell_type": "code",
   "execution_count": 6,
   "metadata": {},
   "outputs": [],
   "source": [
    "start_time = time.time()"
   ]
  },
  {
   "cell_type": "code",
   "execution_count": 7,
   "metadata": {},
   "outputs": [
    {
     "name": "stdout",
     "output_type": "stream",
     "text": [
      "2024-06-01 00:00:00\n",
      "2025-01-01\n",
      "2025-05-01\n",
      "2025-05-31\n"
     ]
    }
   ],
   "source": [
    "today = dt.datetime.today()\n",
    "today_str = today.strftime('%Y-%m-%d')\n",
    "last_date_of_last_month_str = DsnpHelperFunction.last_date_of_last_month(today_str, output_type=\"string\")\n",
    "last_date_of_last_month = DsnpHelperFunction.last_date_of_last_month(today_str)\n",
    "\n",
    "last_month = last_date_of_last_month_str[:7]\n",
    "one_year_rolling_back_date = pd.Timestamp(last_date_of_last_month + dt.timedelta(days=1) - relativedelta(years = 1))\n",
    "one_year_rolling_back_date_str = one_year_rolling_back_date.strftime('%Y-%m-%d')\n",
    "print(one_year_rolling_back_date)\n",
    "\n",
    "first_date_of_year = DsnpHelperFunction.first_date_of_year(today_str, output_type=\"string\")\n",
    "print(first_date_of_year)\n",
    "first_date_of_last_month_str = DsnpHelperFunction.first_date_of_last_month(today_str, output_type=\"string\")\n",
    "print(first_date_of_last_month_str)\n",
    "\n",
    "pulled_data_date = last_month\n",
    "comp_report_data_month = last_month\n",
    "hra_report_data_month = last_month\n",
    "reporting_end_date = last_date_of_last_month_str\n",
    "print(reporting_end_date)"
   ]
  },
  {
   "cell_type": "code",
   "execution_count": 8,
   "metadata": {},
   "outputs": [
    {
     "data": {
      "text/plain": [
       "'2024-06-01'"
      ]
     },
     "execution_count": 8,
     "metadata": {},
     "output_type": "execute_result"
    }
   ],
   "source": [
    "one_year_rolling_back_date_str"
   ]
  },
  {
   "cell_type": "code",
   "execution_count": 9,
   "metadata": {},
   "outputs": [
    {
     "name": "stdout",
     "output_type": "stream",
     "text": [
      "//mbip/medicarepBI/Projects/COE/DSNP/dsnp_data_storage/monthly_flat_files/2025-05-31\n",
      "The folder already exist\n",
      "Output files will sit in the folder above.\n"
     ]
    }
   ],
   "source": [
    "storage_path = r'//mbip/medicarepBI/Projects/COE/DSNP/dsnp_data_storage/monthly_flat_files'\n",
    "output_path = f'{storage_path}/{reporting_end_date}'\n",
    "\n",
    "isExist = os.path.exists(output_path)\n",
    "print(output_path)\n",
    "if not isExist:\n",
    "    # Create a new directory because it does not exist\n",
    "     os.makedirs(output_path)\n",
    "     print(\"The new directory is created!\")\n",
    "else:\n",
    "      print(\"The folder already exist\")\n",
    "print(\"Output files will sit in the folder above.\")"
   ]
  },
  {
   "cell_type": "code",
   "execution_count": 10,
   "metadata": {},
   "outputs": [],
   "source": [
    "reporting_year=2025"
   ]
  },
  {
   "cell_type": "code",
   "execution_count": 11,
   "metadata": {},
   "outputs": [],
   "source": [
    "# if transition time first month...\n",
    "if today_str.split('-')[1] =='01':\n",
    "    first_date_of_year = str(int(first_date_of_year.split('-')[0])-1) + \\\n",
    "        '-01-01'\n",
    "    print('Trainsition time, first date of year is updated by previous year:' + first_date_of_year)\n",
    "    #first_date_of_year = '2024-01-01'"
   ]
  },
  {
   "cell_type": "code",
   "execution_count": 12,
   "metadata": {},
   "outputs": [],
   "source": [
    "#locate data dump folder\n",
    "if new_pull:\n",
    "    pull_utilization_12month = snpQueries.pull_utilization_bq(start_date=one_year_rolling_back_date_str, end_date=reporting_end_date, mbr_list=None)\n",
    "    pull_er_visit_12month = snpQueries.pull_er_visit_bq(enroll_start_date=today_str, enroll_end_date=today_str, start_date=one_year_rolling_back_date_str, end_date=today_str)\n",
    "    pull_ip_visit_12month = snpQueries.pull_ip_visit_from_hedis_bq(start_date=one_year_rolling_back_date_str, end_date=today_str)\n",
    "\n",
    "    pull_utilization_12month.to_parquet(f\"{output_path}/pull_utilization_12month.parquet\")\n",
    "    pull_er_visit_12month.to_parquet(f\"{output_path}/pull_er_visit_12month.parquet\")\n",
    "    pull_ip_visit_12month.to_parquet(f\"{output_path}/pull_ip_visit_12month.parquet\")\n",
    "else:\n",
    "    try:\n",
    "        pull_utilization_12month = pd.read_parquet(f\"{output_path}/pull_utilization_12month.parquet\")\n",
    "        pull_er_visit_12month = pd.read_parquet(f\"{output_path}/pull_er_visit_12month.parquet\")\n",
    "        pull_ip_visit_12month = pd.read_parquet(f\"{output_path}/pull_ip_visit_12month.parquet\")\n",
    "\n",
    "    except:\n",
    "        pull_utilization_12month = snpQueries.pull_utilization_bq(start_date=one_year_rolling_back_date_str, end_date=reporting_end_date, mbr_list=None)\n",
    "        pull_er_visit_12month = snpQueries.pull_er_visit_bq(enroll_start_date=today_str, enroll_end_date=today_str, start_date=one_year_rolling_back_date_str, end_date=today_str)\n",
    "        pull_ip_visit_12month = snpQueries.pull_ip_visit_from_hedis_bq(start_date=one_year_rolling_back_date_str, end_date=today_str)\n",
    "\n",
    "        pull_utilization_12month.to_parquet(f\"{output_path}/pull_utilization_12month.parquet\")\n",
    "        pull_er_visit_12month.to_parquet(f\"{output_path}/pull_er_visit_12month.parquet\")\n",
    "        pull_ip_visit_12month.to_parquet(f\"{output_path}/pull_ip_visit_12month.parquet\")"
   ]
  },
  {
   "cell_type": "code",
   "execution_count": 13,
   "metadata": {},
   "outputs": [],
   "source": [
    "#col_amt = [col for col in pull_utilization_12month.columns if col.endswith(\"paid_amt\")]\n",
    "#pull_utilization_12month[col_amt] = pull_utilization_12month[col_amt].astype(float).round(2)"
   ]
  },
  {
   "cell_type": "code",
   "execution_count": 14,
   "metadata": {},
   "outputs": [],
   "source": [
    "pull_utilization_ytd = snpQueries.pull_utilization_bq(start_date=first_date_of_year, end_date=reporting_end_date)"
   ]
  },
  {
   "cell_type": "code",
   "execution_count": 15,
   "metadata": {},
   "outputs": [],
   "source": [
    "pull_er_visit_ytd = pull_er_visit_12month[pull_er_visit_12month[\"SRV_START_DT\"]>=np.datetime64(first_date_of_year)]\n",
    "pull_ip_visit_ytd = pull_ip_visit_12month[pull_ip_visit_12month[\"AdmitDate\"]>=np.datetime64(first_date_of_year)]"
   ]
  },
  {
   "cell_type": "code",
   "execution_count": 16,
   "metadata": {},
   "outputs": [],
   "source": [
    "pull_utilization_12month[\"dsnp_member_id\"] = pull_utilization_12month[\"src_member_id\"].str.strip()\n",
    "pull_utilization_ytd[\"dsnp_member_id\"] = pull_utilization_ytd[\"src_member_id\"].str.strip()"
   ]
  },
  {
   "cell_type": "code",
   "execution_count": 17,
   "metadata": {},
   "outputs": [],
   "source": [
    "pull_ip_visit_12month[\"dsnp_member_id\"] = pull_ip_visit_12month[\"SourceMemberID\"].str.strip()\n",
    "pull_ip_visit_ytd[\"dsnp_member_id\"] = pull_ip_visit_ytd[\"SourceMemberID\"].str.strip()"
   ]
  },
  {
   "cell_type": "code",
   "execution_count": 18,
   "metadata": {},
   "outputs": [],
   "source": [
    "pull_er_visit_12month[\"dsnp_member_id\"] = pull_er_visit_12month[\"Member_ID\"].str.strip()\n",
    "pull_er_visit_ytd[\"dsnp_member_id\"] = pull_er_visit_ytd[\"Member_ID\"].str.strip()\n",
    "pull_er_visit_12month.rename(columns = {\"SRV_START_DT\": \"srv_start_dt\"}, inplace=True)\n",
    "pull_er_visit_ytd.rename(columns = {\"SRV_START_DT\": \"srv_start_dt\"}, inplace=True)\n"
   ]
  },
  {
   "cell_type": "code",
   "execution_count": 19,
   "metadata": {},
   "outputs": [],
   "source": [
    "#Prepare call log data, one year back\n",
    "utilization_df_ytd = dsnpTransform.get_utilization(pull_utilization_ytd, pull_ip_visit_ytd, pull_er_visit_ytd)\n",
    "utilization_df_12month = dsnpTransform.get_utilization(pull_utilization_12month, pull_ip_visit_12month, pull_er_visit_12month)"
   ]
  },
  {
   "cell_type": "code",
   "execution_count": 20,
   "metadata": {},
   "outputs": [],
   "source": [
    "#save it for monthly aggregation\n",
    "utilization_df_ytd.to_parquet(f\"{output_path}/utilization_df_ytd.parquet\")\n",
    "utilization_df_12month.to_parquet(f\"{output_path}/utilization_df_12month.parquet\")"
   ]
  },
  {
   "cell_type": "code",
   "execution_count": 21,
   "metadata": {},
   "outputs": [
    {
     "name": "stdout",
     "output_type": "stream",
     "text": [
      "Process time -- 5120.76958322525 seconds\n"
     ]
    }
   ],
   "source": [
    "print(\"Process time -- %s seconds\" % (time.time() - start_time))"
   ]
  },
  {
   "cell_type": "code",
   "execution_count": null,
   "metadata": {},
   "outputs": [],
   "source": []
  }
 ],
 "metadata": {
  "kernelspec": {
   "display_name": "Python 3",
   "language": "python",
   "name": "python3"
  },
  "language_info": {
   "codemirror_mode": {
    "name": "ipython",
    "version": 3
   },
   "file_extension": ".py",
   "mimetype": "text/x-python",
   "name": "python",
   "nbconvert_exporter": "python",
   "pygments_lexer": "ipython3",
   "version": "3.10.2"
  },
  "orig_nbformat": 4,
  "vscode": {
   "interpreter": {
    "hash": "ca49e4e1b88eed2b9544455cc8bcce643dcbc593713c2910e162ad7a95386c9e"
   }
  }
 },
 "nbformat": 4,
 "nbformat_minor": 2
}
