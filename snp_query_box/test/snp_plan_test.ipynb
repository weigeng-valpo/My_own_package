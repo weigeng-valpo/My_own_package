{
 "cells": [
  {
   "cell_type": "code",
   "execution_count": 1,
   "metadata": {},
   "outputs": [],
   "source": [
    "from snp_query_box import DsnpHelperFunction"
   ]
  },
  {
   "cell_type": "code",
   "execution_count": 2,
   "metadata": {},
   "outputs": [
    {
     "data": {
      "text/plain": [
       "38"
      ]
     },
     "execution_count": 2,
     "metadata": {},
     "output_type": "execute_result"
    }
   ],
   "source": [
    "len(DsnpHelperFunction.get_snp_contract_list())"
   ]
  },
  {
   "cell_type": "code",
   "execution_count": 12,
   "metadata": {},
   "outputs": [
    {
     "data": {
      "text/plain": [
       "['H3931',\n",
       " 'H3152',\n",
       " 'H2112',\n",
       " 'H1013',\n",
       " 'H1076',\n",
       " 'H1419',\n",
       " 'H5813',\n",
       " 'H5850',\n",
       " 'H0901',\n",
       " 'H2663',\n",
       " 'H2667',\n",
       " 'H2672',\n",
       " 'H3959',\n",
       " 'H5414',\n",
       " 'H1609',\n",
       " 'H1610',\n",
       " 'H3239',\n",
       " 'H5302',\n",
       " 'H5325',\n",
       " 'H1692',\n",
       " 'H3146',\n",
       " 'H5337',\n",
       " 'H5593',\n",
       " 'H7149',\n",
       " 'H8597',\n",
       " 'H0628',\n",
       " 'H3192',\n",
       " 'H3312',\n",
       " 'H3597',\n",
       " 'H4711',\n",
       " 'H4982',\n",
       " 'H5793',\n",
       " 'H6399',\n",
       " 'H1608',\n",
       " 'H2293',\n",
       " 'H8649',\n",
       " 'H5521',\n",
       " 'H5522']"
      ]
     },
     "execution_count": 12,
     "metadata": {},
     "output_type": "execute_result"
    }
   ],
   "source": [
    "DsnpHelperFunction.get_snp_contract_list(year=2024)"
   ]
  },
  {
   "cell_type": "code",
   "execution_count": 3,
   "metadata": {},
   "outputs": [
    {
     "data": {
      "text/plain": [
       "33"
      ]
     },
     "execution_count": 3,
     "metadata": {},
     "output_type": "execute_result"
    }
   ],
   "source": [
    "len(DsnpHelperFunction.get_snp_contract_list(year=2022))"
   ]
  },
  {
   "cell_type": "code",
   "execution_count": 4,
   "metadata": {},
   "outputs": [
    {
     "data": {
      "text/plain": [
       "19"
      ]
     },
     "execution_count": 4,
     "metadata": {},
     "output_type": "execute_result"
    }
   ],
   "source": [
    "len(DsnpHelperFunction.get_snp_contract_list(year=2022, historic=False))"
   ]
  },
  {
   "cell_type": "code",
   "execution_count": 5,
   "metadata": {},
   "outputs": [
    {
     "data": {
      "text/plain": [
       "104"
      ]
     },
     "execution_count": 5,
     "metadata": {},
     "output_type": "execute_result"
    }
   ],
   "source": [
    "len(DsnpHelperFunction.get_snp_plan_list(year=2024, historic=False))"
   ]
  },
  {
   "cell_type": "code",
   "execution_count": 11,
   "metadata": {},
   "outputs": [
    {
     "data": {
      "text/plain": [
       "['H0628-012',\n",
       " 'H0628-013',\n",
       " 'H0628-018',\n",
       " 'H1608-062',\n",
       " 'H1608-076',\n",
       " 'H1608-077',\n",
       " 'H1609-017',\n",
       " 'H1609-019',\n",
       " 'H1609-043',\n",
       " 'H1609-044']"
      ]
     },
     "execution_count": 11,
     "metadata": {},
     "output_type": "execute_result"
    }
   ],
   "source": [
    "DsnpHelperFunction.get_snp_plan_list(year=2024, historic=False)[:10]"
   ]
  },
  {
   "cell_type": "code",
   "execution_count": 6,
   "metadata": {},
   "outputs": [],
   "source": [
    "state_map = DsnpHelperFunction.get_snp_plan_state_mapping_df(year=2024)"
   ]
  },
  {
   "cell_type": "code",
   "execution_count": 7,
   "metadata": {},
   "outputs": [
    {
     "data": {
      "text/html": [
       "<div>\n",
       "<style scoped>\n",
       "    .dataframe tbody tr th:only-of-type {\n",
       "        vertical-align: middle;\n",
       "    }\n",
       "\n",
       "    .dataframe tbody tr th {\n",
       "        vertical-align: top;\n",
       "    }\n",
       "\n",
       "    .dataframe thead th {\n",
       "        text-align: right;\n",
       "    }\n",
       "</style>\n",
       "<table border=\"1\" class=\"dataframe\">\n",
       "  <thead>\n",
       "    <tr style=\"text-align: right;\">\n",
       "      <th></th>\n",
       "      <th>contract_pbp</th>\n",
       "      <th>CMS_State</th>\n",
       "    </tr>\n",
       "  </thead>\n",
       "  <tbody>\n",
       "    <tr>\n",
       "      <th>3158</th>\n",
       "      <td>H0628-012</td>\n",
       "      <td>KY</td>\n",
       "    </tr>\n",
       "    <tr>\n",
       "      <th>3160</th>\n",
       "      <td>H0628-013</td>\n",
       "      <td>OH</td>\n",
       "    </tr>\n",
       "    <tr>\n",
       "      <th>3163</th>\n",
       "      <td>H0628-018</td>\n",
       "      <td>OH</td>\n",
       "    </tr>\n",
       "    <tr>\n",
       "      <th>3164</th>\n",
       "      <td>H1608-062</td>\n",
       "      <td>SD</td>\n",
       "    </tr>\n",
       "    <tr>\n",
       "      <th>3165</th>\n",
       "      <td>H1608-076</td>\n",
       "      <td>AR</td>\n",
       "    </tr>\n",
       "    <tr>\n",
       "      <th>...</th>\n",
       "      <td>...</td>\n",
       "      <td>...</td>\n",
       "    </tr>\n",
       "    <tr>\n",
       "      <th>3300</th>\n",
       "      <td>H7149-006</td>\n",
       "      <td>NE</td>\n",
       "    </tr>\n",
       "    <tr>\n",
       "      <th>3301</th>\n",
       "      <td>H8597-001</td>\n",
       "      <td>TX</td>\n",
       "    </tr>\n",
       "    <tr>\n",
       "      <th>3304</th>\n",
       "      <td>H8597-002</td>\n",
       "      <td>TX</td>\n",
       "    </tr>\n",
       "    <tr>\n",
       "      <th>3305</th>\n",
       "      <td>H8597-003</td>\n",
       "      <td>TX</td>\n",
       "    </tr>\n",
       "    <tr>\n",
       "      <th>3306</th>\n",
       "      <td>H8649-010</td>\n",
       "      <td>UT</td>\n",
       "    </tr>\n",
       "  </tbody>\n",
       "</table>\n",
       "<p>104 rows × 2 columns</p>\n",
       "</div>"
      ],
      "text/plain": [
       "     contract_pbp CMS_State\n",
       "3158    H0628-012        KY\n",
       "3160    H0628-013        OH\n",
       "3163    H0628-018        OH\n",
       "3164    H1608-062        SD\n",
       "3165    H1608-076        AR\n",
       "...           ...       ...\n",
       "3300    H7149-006        NE\n",
       "3301    H8597-001        TX\n",
       "3304    H8597-002        TX\n",
       "3305    H8597-003        TX\n",
       "3306    H8649-010        UT\n",
       "\n",
       "[104 rows x 2 columns]"
      ]
     },
     "execution_count": 7,
     "metadata": {},
     "output_type": "execute_result"
    }
   ],
   "source": [
    "state_map"
   ]
  },
  {
   "cell_type": "code",
   "execution_count": 9,
   "metadata": {},
   "outputs": [
    {
     "data": {
      "text/html": [
       "<div>\n",
       "<style scoped>\n",
       "    .dataframe tbody tr th:only-of-type {\n",
       "        vertical-align: middle;\n",
       "    }\n",
       "\n",
       "    .dataframe tbody tr th {\n",
       "        vertical-align: top;\n",
       "    }\n",
       "\n",
       "    .dataframe thead th {\n",
       "        text-align: right;\n",
       "    }\n",
       "</style>\n",
       "<table border=\"1\" class=\"dataframe\">\n",
       "  <thead>\n",
       "    <tr style=\"text-align: right;\">\n",
       "      <th></th>\n",
       "      <th>contract_pbp</th>\n",
       "      <th>CMS_State</th>\n",
       "    </tr>\n",
       "  </thead>\n",
       "  <tbody>\n",
       "    <tr>\n",
       "      <th>1</th>\n",
       "      <td>H3931-069</td>\n",
       "      <td>PA</td>\n",
       "    </tr>\n",
       "  </tbody>\n",
       "</table>\n",
       "</div>"
      ],
      "text/plain": [
       "  contract_pbp CMS_State\n",
       "1    H3931-069        PA"
      ]
     },
     "execution_count": 9,
     "metadata": {},
     "output_type": "execute_result"
    }
   ],
   "source": [
    "state_map = DsnpHelperFunction.get_snp_plan_state_mapping_df(year=1998)\n",
    "state_map"
   ]
  }
 ],
 "metadata": {
  "kernelspec": {
   "display_name": "Python 3",
   "language": "python",
   "name": "python3"
  },
  "language_info": {
   "codemirror_mode": {
    "name": "ipython",
    "version": 3
   },
   "file_extension": ".py",
   "mimetype": "text/x-python",
   "name": "python",
   "nbconvert_exporter": "python",
   "pygments_lexer": "ipython3",
   "version": "3.10.2 (tags/v3.10.2:a58ebcc, Jan 17 2022, 14:12:15) [MSC v.1929 64 bit (AMD64)]"
  },
  "orig_nbformat": 4,
  "vscode": {
   "interpreter": {
    "hash": "ca49e4e1b88eed2b9544455cc8bcce643dcbc593713c2910e162ad7a95386c9e"
   }
  }
 },
 "nbformat": 4,
 "nbformat_minor": 2
}
