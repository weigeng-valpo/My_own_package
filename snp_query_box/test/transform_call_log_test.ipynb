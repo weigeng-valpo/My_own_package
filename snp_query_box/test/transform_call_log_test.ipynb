{
 "cells": [
  {
   "cell_type": "code",
   "execution_count": 1,
   "metadata": {},
   "outputs": [],
   "source": [
    "from snp_query_box.dsnp_transform import callLogTransform"
   ]
  },
  {
   "cell_type": "code",
   "execution_count": 2,
   "metadata": {},
   "outputs": [],
   "source": [
    "#DEV\n",
    "#import os\n",
    "#import sys\n",
    "#\n",
    "#cwd = os.getcwd()\n",
    "#parent_path = os.path.dirname(cwd)\n",
    "#module_path = os.path.join(parent_path, 'dsnp_transform')\n",
    "#sys.path.append(module_path)\n",
    "#from snp_query_box.dsnp_transform import callLogTransform\n",
    "#"
   ]
  },
  {
   "cell_type": "code",
   "execution_count": 3,
   "metadata": {},
   "outputs": [],
   "source": [
    "\n",
    "import os\n",
    "import sys\n",
    "\n",
    "import pandas as pd\n",
    "import numpy as np\n",
    "import pickle\n",
    "import glob\n",
    "import matplotlib.pyplot as plt\n",
    "\n",
    "%matplotlib inline\n",
    "\n",
    "import datetime as dt\n",
    "import time\n",
    "import warnings\n",
    "from dateutil.relativedelta import relativedelta\n",
    "\n",
    "\n",
    "from snp_query_box import DsnpHelperFunction\n",
    "\n",
    "warnings.filterwarnings(\"ignore\")\n",
    "pd.set_option(\"display.max_columns\", None)"
   ]
  },
  {
   "cell_type": "code",
   "execution_count": 4,
   "metadata": {},
   "outputs": [],
   "source": [
    "user_id = \"A845514\"\n",
    "pulled_data_date = \"2024-04-30\"\n",
    "dashboard_pull_data_path = f\"C:/Users/{user_id}/Projects_Code/data/utr_dashboard/{pulled_data_date[:7]}/pull_db\"\n",
    "call_log_df_raw = pd.read_pickle(f\"{dashboard_pull_data_path}/pull_call_log_all_dsnp.pkl\")\n"
   ]
  },
  {
   "cell_type": "code",
   "execution_count": 5,
   "metadata": {},
   "outputs": [],
   "source": [
    "call_log_df = callLogTransform.clean_call_log(call_log_df_raw)\n",
    "most_recent_call_df = callLogTransform.get_most_recent_call_with_utr_flag(call_log_df, start_date=\"2024-01-01\", end_date=\"2024-04-30\")\n",
    "get_cm_engagement_rate = callLogTransform.get_cm_engagement_rate(call_log_df, start_date=\"2024-01-01\", end_date=\"2024-04-30\")"
   ]
  },
  {
   "cell_type": "code",
   "execution_count": 6,
   "metadata": {},
   "outputs": [
    {
     "data": {
      "text/html": [
       "<div>\n",
       "<style scoped>\n",
       "    .dataframe tbody tr th:only-of-type {\n",
       "        vertical-align: middle;\n",
       "    }\n",
       "\n",
       "    .dataframe tbody tr th {\n",
       "        vertical-align: top;\n",
       "    }\n",
       "\n",
       "    .dataframe thead th {\n",
       "        text-align: right;\n",
       "    }\n",
       "</style>\n",
       "<table border=\"1\" class=\"dataframe\">\n",
       "  <thead>\n",
       "    <tr style=\"text-align: right;\">\n",
       "      <th></th>\n",
       "      <th>Member_ID</th>\n",
       "      <th>total_call_count</th>\n",
       "      <th>total_non_successful</th>\n",
       "      <th>non_successful_rate</th>\n",
       "      <th>final_dtr</th>\n",
       "      <th>cm_engaged</th>\n",
       "    </tr>\n",
       "  </thead>\n",
       "  <tbody>\n",
       "    <tr>\n",
       "      <th>0</th>\n",
       "      <td>101039941100</td>\n",
       "      <td>3</td>\n",
       "      <td>3</td>\n",
       "      <td>1.00</td>\n",
       "      <td>1</td>\n",
       "      <td>0</td>\n",
       "    </tr>\n",
       "    <tr>\n",
       "      <th>1</th>\n",
       "      <td>101039985900</td>\n",
       "      <td>5</td>\n",
       "      <td>4</td>\n",
       "      <td>0.80</td>\n",
       "      <td>1</td>\n",
       "      <td>1</td>\n",
       "    </tr>\n",
       "    <tr>\n",
       "      <th>2</th>\n",
       "      <td>101039986100</td>\n",
       "      <td>1</td>\n",
       "      <td>0</td>\n",
       "      <td>0.00</td>\n",
       "      <td>0</td>\n",
       "      <td>1</td>\n",
       "    </tr>\n",
       "    <tr>\n",
       "      <th>3</th>\n",
       "      <td>101040086100</td>\n",
       "      <td>5</td>\n",
       "      <td>5</td>\n",
       "      <td>1.00</td>\n",
       "      <td>1</td>\n",
       "      <td>0</td>\n",
       "    </tr>\n",
       "    <tr>\n",
       "      <th>4</th>\n",
       "      <td>101040408900</td>\n",
       "      <td>4</td>\n",
       "      <td>3</td>\n",
       "      <td>0.75</td>\n",
       "      <td>1</td>\n",
       "      <td>1</td>\n",
       "    </tr>\n",
       "    <tr>\n",
       "      <th>...</th>\n",
       "      <td>...</td>\n",
       "      <td>...</td>\n",
       "      <td>...</td>\n",
       "      <td>...</td>\n",
       "      <td>...</td>\n",
       "      <td>...</td>\n",
       "    </tr>\n",
       "    <tr>\n",
       "      <th>388894</th>\n",
       "      <td>WVAQMZM00001861143</td>\n",
       "      <td>1</td>\n",
       "      <td>1</td>\n",
       "      <td>1.00</td>\n",
       "      <td>1</td>\n",
       "      <td>0</td>\n",
       "    </tr>\n",
       "    <tr>\n",
       "      <th>388895</th>\n",
       "      <td>WVAQMZM00001861434</td>\n",
       "      <td>3</td>\n",
       "      <td>3</td>\n",
       "      <td>1.00</td>\n",
       "      <td>1</td>\n",
       "      <td>0</td>\n",
       "    </tr>\n",
       "    <tr>\n",
       "      <th>388896</th>\n",
       "      <td>WVAQMZM00002061894</td>\n",
       "      <td>1</td>\n",
       "      <td>1</td>\n",
       "      <td>1.00</td>\n",
       "      <td>1</td>\n",
       "      <td>0</td>\n",
       "    </tr>\n",
       "    <tr>\n",
       "      <th>388897</th>\n",
       "      <td>WVAQMZM00002121598</td>\n",
       "      <td>8</td>\n",
       "      <td>8</td>\n",
       "      <td>1.00</td>\n",
       "      <td>1</td>\n",
       "      <td>0</td>\n",
       "    </tr>\n",
       "    <tr>\n",
       "      <th>388898</th>\n",
       "      <td>WVAQMZM00002122410</td>\n",
       "      <td>1</td>\n",
       "      <td>0</td>\n",
       "      <td>0.00</td>\n",
       "      <td>0</td>\n",
       "      <td>1</td>\n",
       "    </tr>\n",
       "  </tbody>\n",
       "</table>\n",
       "<p>388899 rows × 6 columns</p>\n",
       "</div>"
      ],
      "text/plain": [
       "                 Member_ID  total_call_count  total_non_successful   \n",
       "0             101039941100                 3                     3  \\\n",
       "1             101039985900                 5                     4   \n",
       "2             101039986100                 1                     0   \n",
       "3             101040086100                 5                     5   \n",
       "4             101040408900                 4                     3   \n",
       "...                    ...               ...                   ...   \n",
       "388894  WVAQMZM00001861143                 1                     1   \n",
       "388895  WVAQMZM00001861434                 3                     3   \n",
       "388896  WVAQMZM00002061894                 1                     1   \n",
       "388897  WVAQMZM00002121598                 8                     8   \n",
       "388898  WVAQMZM00002122410                 1                     0   \n",
       "\n",
       "        non_successful_rate  final_dtr  cm_engaged  \n",
       "0                      1.00          1           0  \n",
       "1                      0.80          1           1  \n",
       "2                      0.00          0           1  \n",
       "3                      1.00          1           0  \n",
       "4                      0.75          1           1  \n",
       "...                     ...        ...         ...  \n",
       "388894                 1.00          1           0  \n",
       "388895                 1.00          1           0  \n",
       "388896                 1.00          1           0  \n",
       "388897                 1.00          1           0  \n",
       "388898                 0.00          0           1  \n",
       "\n",
       "[388899 rows x 6 columns]"
      ]
     },
     "execution_count": 6,
     "metadata": {},
     "output_type": "execute_result"
    }
   ],
   "source": [
    "get_cm_engagement_rate"
   ]
  },
  {
   "cell_type": "code",
   "execution_count": 7,
   "metadata": {},
   "outputs": [
    {
     "data": {
      "text/plain": [
       "final_dtr\n",
       "0    136052\n",
       "1    252847\n",
       "Name: Member_ID, dtype: int64"
      ]
     },
     "execution_count": 7,
     "metadata": {},
     "output_type": "execute_result"
    }
   ],
   "source": [
    "get_cm_engagement_rate.groupby(\"final_dtr\")[\"Member_ID\"].nunique()"
   ]
  },
  {
   "cell_type": "code",
   "execution_count": 8,
   "metadata": {},
   "outputs": [
    {
     "data": {
      "text/plain": [
       "cm_engaged\n",
       "0    209943\n",
       "1    178956\n",
       "Name: Member_ID, dtype: int64"
      ]
     },
     "execution_count": 8,
     "metadata": {},
     "output_type": "execute_result"
    }
   ],
   "source": [
    "get_cm_engagement_rate.groupby(\"cm_engaged\")[\"Member_ID\"].nunique()"
   ]
  },
  {
   "cell_type": "code",
   "execution_count": null,
   "metadata": {},
   "outputs": [],
   "source": []
  }
 ],
 "metadata": {
  "kernelspec": {
   "display_name": "Python 3",
   "language": "python",
   "name": "python3"
  },
  "language_info": {
   "codemirror_mode": {
    "name": "ipython",
    "version": 3
   },
   "file_extension": ".py",
   "mimetype": "text/x-python",
   "name": "python",
   "nbconvert_exporter": "python",
   "pygments_lexer": "ipython3",
   "version": "3.10.2 (tags/v3.10.2:a58ebcc, Jan 17 2022, 14:12:15) [MSC v.1929 64 bit (AMD64)]"
  },
  "orig_nbformat": 4,
  "vscode": {
   "interpreter": {
    "hash": "ca49e4e1b88eed2b9544455cc8bcce643dcbc593713c2910e162ad7a95386c9e"
   }
  }
 },
 "nbformat": 4,
 "nbformat_minor": 2
}
