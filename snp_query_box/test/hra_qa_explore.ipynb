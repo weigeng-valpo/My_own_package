{
 "cells": [
  {
   "cell_type": "code",
   "execution_count": 1,
   "metadata": {},
   "outputs": [],
   "source": [
    "import os\n",
    "import sys\n",
    "\n",
    "os.getcwd()\n",
    "current_dir = os.getcwd()\n",
    "parent_dir = os.path.abspath(os.path.join(current_dir, os.pardir))\n",
    "sys.path.append(f'{parent_dir}/dsnp_transform')\n"
   ]
  },
  {
   "cell_type": "code",
   "execution_count": 2,
   "metadata": {},
   "outputs": [],
   "source": [
    "import hraResultTransform as hrt\n",
    "import pandas as pd\n",
    "user_id = \"A845514\""
   ]
  },
  {
   "cell_type": "code",
   "execution_count": 3,
   "metadata": {},
   "outputs": [],
   "source": [
    "# memory issue, cannot run all"
   ]
  },
  {
   "cell_type": "code",
   "execution_count": 4,
   "metadata": {},
   "outputs": [],
   "source": [
    "section_to_clean = 'Chronic Conditions'"
   ]
  },
  {
   "cell_type": "code",
   "execution_count": 6,
   "metadata": {},
   "outputs": [
    {
     "name": "stdout",
     "output_type": "stream",
     "text": [
      "Chronic Conditions\n"
     ]
    },
    {
     "name": "stderr",
     "output_type": "stream",
     "text": [
      "c:\\Users\\A845514\\Downloads\\GitHub\\snp_query_box\\snp_query_box/dsnp_transform\\hraResultTransform.py:14: SettingWithCopyWarning: \n",
      "A value is trying to be set on a copy of a slice from a DataFrame.\n",
      "Try using .loc[row_indexer,col_indexer] = value instead\n",
      "\n",
      "See the caveats in the documentation: https://pandas.pydata.org/pandas-docs/stable/user_guide/indexing.html#returning-a-view-versus-a-copy\n",
      "  most_recent_hra_df[\"asad_question_txt_cleaned\"] = most_recent_hra_df[\"asad_question_txt\"].str.replace(r'<[^>]*>', '', regex = True)\n"
     ]
    }
   ],
   "source": [
    "print(section_to_clean)\n",
    "section_nm = section_to_clean.lower().replace(' ', '_').replace('/', '_')\n",
    "df_temp = pd.read_pickle(f\"C:/Users/{user_id}/Projects_Code/data/hra_result/pull_db/pull_hra_qa_by_section_{section_nm}.pkl\")\n",
    "recent_df = hrt.get_most_recent_hra(df_temp)\n",
    "#globals()[f'wide_hra_section_{section_nm}_template3'] = hrt.pivot_hra_qa(recent_df, version = 3)\n",
    "globals()[f'wide_hra_section_{section_nm}_template4'] = hrt.pivot_hra_qa(recent_df, version = 4)\n",
    "#globals()[f'wide_hra_section_{section_nm}_template3'].to_pickle(f\"C:/Users/{user_id}/Projects_Code/data/hra_result/pull_db/wide_hra_section_{section_nm}_template3.pkl\")\n",
    "globals()[f'wide_hra_section_{section_nm}_template4'].to_pickle(f\"C:/Users/{user_id}/Projects_Code/data/hra_result/pull_db/wide_hra_section_{section_nm}_template4.pkl\")"
   ]
  }
 ],
 "metadata": {
  "kernelspec": {
   "display_name": "Python 3",
   "language": "python",
   "name": "python3"
  },
  "language_info": {
   "codemirror_mode": {
    "name": "ipython",
    "version": 3
   },
   "file_extension": ".py",
   "mimetype": "text/x-python",
   "name": "python",
   "nbconvert_exporter": "python",
   "pygments_lexer": "ipython3",
   "version": "3.10.2"
  },
  "orig_nbformat": 4,
  "vscode": {
   "interpreter": {
    "hash": "ca49e4e1b88eed2b9544455cc8bcce643dcbc593713c2910e162ad7a95386c9e"
   }
  }
 },
 "nbformat": 4,
 "nbformat_minor": 2
}
